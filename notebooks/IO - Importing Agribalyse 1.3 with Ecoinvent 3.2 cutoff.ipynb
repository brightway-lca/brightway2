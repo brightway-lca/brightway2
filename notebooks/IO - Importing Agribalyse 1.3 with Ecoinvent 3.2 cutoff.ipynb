{
 "cells": [
  {
   "cell_type": "markdown",
   "metadata": {},
   "source": [
    "# Import Agribalyse and link to ecoinvent 3.2 cutoff\n",
    "\n",
    "[Agribalyse](http://www.ademe.fr/en/expertise/alternative-approaches-to-production/agribalyse-program) is a French LCI database of agricultural products. It builds on top of ecoinvent 3.2. It was exported from SimaPro, so the names of ecoinvent processes are mangled, and need to be fixed back to standard ecoinvent.\n",
    "\n",
    "This notebook uses Agribalyse 1.3."
   ]
  },
  {
   "cell_type": "code",
   "execution_count": 1,
   "metadata": {
    "collapsed": false
   },
   "outputs": [],
   "source": [
    "from brightway2 import *"
   ]
  },
  {
   "cell_type": "markdown",
   "metadata": {},
   "source": [
    "Create a new project for this notebook"
   ]
  },
  {
   "cell_type": "code",
   "execution_count": 2,
   "metadata": {
    "collapsed": true
   },
   "outputs": [],
   "source": [
    "projects.set_current(\"Agribalyse 1.3\")"
   ]
  },
  {
   "cell_type": "markdown",
   "metadata": {},
   "source": [
    "## Add biosphere flows\n",
    "\n",
    "Biosphere flow names follow the standard in ecoinvent 3.3. We will need to match these names to those in Agribalyse."
   ]
  },
  {
   "cell_type": "code",
   "execution_count": null,
   "metadata": {
    "collapsed": false
   },
   "outputs": [
    {
     "name": "stdout",
     "output_type": "stream",
     "text": [
      "Biosphere database already present!!! No setup is needed\n"
     ]
    }
   ],
   "source": [
    "bw2setup()"
   ]
  },
  {
   "cell_type": "markdown",
   "metadata": {},
   "source": [
    "## Import ecoinvent 3.2 cutoff as background database"
   ]
  },
  {
   "cell_type": "code",
   "execution_count": null,
   "metadata": {
    "collapsed": false
   },
   "outputs": [
    {
     "name": "stdout",
     "output_type": "stream",
     "text": [
      "Extracting XML data from 12916 datasets\n"
     ]
    }
   ],
   "source": [
    "path = \"/Users/cmutel/Documents/LCA Documents/Ecoinvent/3.2/cutoff/datasets\"\n",
    "importer = SingleOutputEcospold2Importer(path, \"ecoinvent 3.2 cutoff\")\n",
    "importer.apply_strategies()\n",
    "importer.statistics()"
   ]
  },
  {
   "cell_type": "code",
   "execution_count": null,
   "metadata": {
    "collapsed": false
   },
   "outputs": [],
   "source": [
    "importer.write_database()"
   ]
  },
  {
   "cell_type": "markdown",
   "metadata": {},
   "source": [
    "## Load Agribalyse data\n",
    "\n",
    "This notebook uses the SimaPro CSV version of Agribalyse."
   ]
  },
  {
   "cell_type": "code",
   "execution_count": 3,
   "metadata": {
    "collapsed": false
   },
   "outputs": [
    {
     "name": "stdout",
     "output_type": "stream",
     "text": [
      "Extracted 1189 unallocated datasets in 5.21 seconds\n",
      "Applying strategy: normalize_units\n",
      "Applying strategy: assign_only_product_as_production\n",
      "Applying strategy: drop_unspecified_subcategories\n",
      "Applying strategy: sp_allocate_products\n",
      "Applying strategy: fix_zero_allocation_products\n",
      "Applying strategy: split_simapro_name_geo\n",
      "Applying strategy: strip_biosphere_exc_locations\n",
      "Applying strategy: migrate_datasets\n",
      "Applying strategy: migrate_exchanges\n",
      "Applying strategy: set_code_by_activity_hash\n",
      "Applying strategy: link_technosphere_based_on_name_unit_location\n",
      "Applying strategy: change_electricity_unit_mj_to_kwh\n",
      "Applying strategy: normalize_biosphere_categories\n",
      "Applying strategy: normalize_simapro_biosphere_categories\n",
      "Applying strategy: normalize_biosphere_names\n",
      "Applying strategy: normalize_simapro_biosphere_names\n",
      "Applying strategy: migrate_exchanges\n",
      "Applying strategy: fix_localized_water_flows\n",
      "Applying strategy: link_iterable_by_fields\n",
      "Applied 19 strategies in 4.46 seconds\n",
      "1261 datasets\n",
      "115259 exchanges\n",
      "9003 unlinked exchanges\n",
      "  Type biosphere: 460 unique unlinked exchanges\n",
      "  Type technosphere: 439 unique unlinked exchanges\n"
     ]
    },
    {
     "data": {
      "text/plain": [
       "(1261, 115259, 9003)"
      ]
     },
     "execution_count": 3,
     "metadata": {},
     "output_type": "execute_result"
    }
   ],
   "source": [
    "path = \"/Users/cmutel/Documents/LCA Documents/Agribalyse/1.3/Agribalyse CSV FINAL_no links_Nov2016v3.CSV\"\n",
    "ag = SimaProCSVImporter(path, \"Agribalyse 1.3\")\n",
    "ag.apply_strategies()\n",
    "ag.statistics()"
   ]
  },
  {
   "cell_type": "markdown",
   "metadata": {},
   "source": [
    "## Link to `ecoinvent 3.2`\n",
    "\n",
    "We start by changing the SimaPro names to what ecoinvent provides, as we are using the ecoinvent-provided version of 3.2. We can then match the unlinked inputs in `Agribalyse` against the outputs provided by `ecoinvent`."
   ]
  },
  {
   "cell_type": "code",
   "execution_count": 4,
   "metadata": {
    "collapsed": false
   },
   "outputs": [
    {
     "name": "stdout",
     "output_type": "stream",
     "text": [
      "Applying strategy: migrate_datasets\n",
      "Applying strategy: migrate_exchanges\n"
     ]
    }
   ],
   "source": [
    "ag.migrate('simapro-ecoinvent-3.2')"
   ]
  },
  {
   "cell_type": "code",
   "execution_count": 5,
   "metadata": {
    "collapsed": false
   },
   "outputs": [
    {
     "name": "stdout",
     "output_type": "stream",
     "text": [
      "Applying strategy: link_iterable_by_fields\n"
     ]
    }
   ],
   "source": [
    "ag.match_database(\"ecoinvent 3.2 cutoff\", fields=('reference product', 'location', 'unit', 'name'))"
   ]
  },
  {
   "cell_type": "code",
   "execution_count": 6,
   "metadata": {
    "collapsed": false
   },
   "outputs": [
    {
     "name": "stdout",
     "output_type": "stream",
     "text": [
      "1261 datasets\n",
      "115259 exchanges\n",
      "2904 unlinked exchanges\n",
      "  Type biosphere: 460 unique unlinked exchanges\n",
      "  Type technosphere: 33 unique unlinked exchanges\n"
     ]
    },
    {
     "data": {
      "text/plain": [
       "(1261, 115259, 2904)"
      ]
     },
     "execution_count": 6,
     "metadata": {},
     "output_type": "execute_result"
    }
   ],
   "source": [
    "ag.statistics()"
   ]
  },
  {
   "cell_type": "markdown",
   "metadata": {},
   "source": [
    "Let's look at what we can't link. The easiest way is to export the unlinked exchanges to an Excel file."
   ]
  },
  {
   "cell_type": "code",
   "execution_count": 7,
   "metadata": {
    "collapsed": false
   },
   "outputs": [
    {
     "name": "stdout",
     "output_type": "stream",
     "text": [
      "Wrote matching file to:\n",
      "/Users/cmutel/Library/Application Support/Brightway3/Agribalyse-13.a68c51d5c40982bcd21e1aa4ec805302/output/db-matching-Agribalyse-13-unlinked.xlsx\n"
     ]
    }
   ],
   "source": [
    "ag.write_excel(True)"
   ]
  },
  {
   "cell_type": "markdown",
   "metadata": {},
   "source": [
    "You can also [download this Excel file](https://docs.brightwaylca.org/_images/db-matching-Agribalyse-13-unlinked.xlsx)."
   ]
  },
  {
   "cell_type": "markdown",
   "metadata": {},
   "source": [
    "## Add unlinked biosphere flows\n",
    "\n",
    "Brightway2-IO 0.5.7 includes a lot of fixes to import Agribalyse more cleanly: [2a5406a](https://bitbucket.org/cmutel/brightway2-io/commits/2a5406ab9e12f72745a2efc90b7b4c696ade8717), [0154841](https://bitbucket.org/cmutel/brightway2-io/commits/01548417d69438c010e60431a0ca0cf44408a034), [b2d5545](https://bitbucket.org/cmutel/brightway2-io/commits/b2d55453b98f377cb8b1356c5326e9480fac24fa), [99b07b9](https://bitbucket.org/cmutel/brightway2-io/commits/99b07b9daaf8899c636c9aa51466bf833c51f106), [2129804](https://bitbucket.org/cmutel/brightway2-io/commits/2129804044f0503cf67a70d0841e0e1582530b99), [5d6b936](https://bitbucket.org/cmutel/brightway2-io/commits/5d6b9361f32c58cfaed19a6f3352d129eca1f806), and [5d0542a](https://bitbucket.org/cmutel/brightway2-io/commits/5d0542aee7f7ebe3aa418cbd0fac9ac696c0eb26).\n",
    "\n",
    "However, there are still a large number of biosphere flows not used in ecoinvent that we don't have in our `biosphere3` database (and, consequently, in our LCIA methods). The best we can do is to import these flows into another biosphere database. If these flows are important to you, you should do further matching or modify the relevant LCIA methods to include them."
   ]
  },
  {
   "cell_type": "code",
   "execution_count": 8,
   "metadata": {
    "collapsed": false
   },
   "outputs": [
    {
     "name": "stderr",
     "output_type": "stream",
     "text": [
      "Writing activities to SQLite3 database:\n",
      "0%                          100%\n",
      "[##############################] | ETA[sec]: 0.751  | ETA[sec]: 0.411  | ETA[sec]: 0.288  | ETA[sec]: 0.224  | ETA[sec]: 0.188  | ETA[sec]: 0.166  | ETA[sec]: 0.145  | ETA[sec]: 0.130  | ETA[sec]: 0.176  | ETA[sec]: 0.155  | ETA[sec]: 0.140  | ETA[sec]: 0.126  | ETA[sec]: 0.114  | ETA[sec]: 0.103  | ETA[sec]: 0.093  | ETA[sec]: 0.083  | ETA[sec]: 0.086  | ETA[sec]: 0.078  | ETA[sec]: 0.069  | ETA[sec]: 0.061  | ETA[sec]: 0.054  | ETA[sec]: 0.047  | ETA[sec]: 0.040  | ETA[sec]: 0.033  | ETA[sec]: 0.029  | ETA[sec]: 0.023  | ETA[sec]: 0.017  | ETA[sec]: 0.011  | ETA[sec]: 0.005  | ETA[sec]: 0.000  | ETA[sec]: 0.000 \n",
      "Total time elapsed: 0.165 sec\n"
     ]
    },
    {
     "name": "stdout",
     "output_type": "stream",
     "text": [
      "Title: Writing activities to SQLite3 database:\n",
      "  Started: 01/12/2017 11:19:35\n",
      "  Finished: 01/12/2017 11:19:36\n",
      "  Total time elapsed: 0.165 sec\n",
      "  CPU %: 98.900000\n",
      "  Memory %: 1.443982\n",
      "Applying strategy: link_iterable_by_fields\n"
     ]
    }
   ],
   "source": [
    "Database(\"Agribalyse 1.3 new biosphere\").register()\n",
    "ag.add_unlinked_flows_to_biosphere_database(\"Agribalyse 1.3 new biosphere\")"
   ]
  },
  {
   "cell_type": "markdown",
   "metadata": {},
   "source": [
    "We should now have no unlinked biosphere flows:"
   ]
  },
  {
   "cell_type": "markdown",
   "metadata": {},
   "source": [
    "## Fixing units for passenger cars\n",
    "\n",
    "For some reason there are some links to `market for transport, passenger car, medium size, diesel, EURO 4` and `market for transport, passenger car, medium size, petrol, EURO 4` with units of meters (instead of person kilometers, as in ecoinvent). We can create a custom migration to handle these cases:"
   ]
  },
  {
   "cell_type": "code",
   "execution_count": 9,
   "metadata": {
    "collapsed": true
   },
   "outputs": [],
   "source": [
    "agribalyse_transport_data = {\n",
    "    'fields': ['name', 'unit'],\n",
    "    'data': [\n",
    "        (\n",
    "            ('market for transport, passenger car, medium size, diesel, EURO 4', 'meter'), \n",
    "            {\n",
    "                'unit': 'kilometer', \n",
    "                'multiplier': 1e-3\n",
    "            }\n",
    "        ),\n",
    "        (\n",
    "            ('market for transport, passenger car, medium size, petrol, EURO 4', 'meter'), \n",
    "            {\n",
    "                'unit': 'kilometer', \n",
    "                'multiplier': 1e-3\n",
    "            }\n",
    "        )\n",
    "    ]\n",
    "}\n",
    "\n",
    "Migration(\"agribalyse-transport\").write(\n",
    "    agribalyse_transport_data,\n",
    "    description=\"Fix some transport unit conversions\"\n",
    ")"
   ]
  },
  {
   "cell_type": "code",
   "execution_count": 10,
   "metadata": {
    "collapsed": false
   },
   "outputs": [
    {
     "name": "stdout",
     "output_type": "stream",
     "text": [
      "Applying strategy: migrate_datasets\n",
      "Applying strategy: migrate_exchanges\n"
     ]
    }
   ],
   "source": [
    "ag.migrate(\"agribalyse-transport\")"
   ]
  },
  {
   "cell_type": "markdown",
   "metadata": {},
   "source": [
    "Link to ecoinvent again, to fix our now linkable transport inputs."
   ]
  },
  {
   "cell_type": "code",
   "execution_count": 11,
   "metadata": {
    "collapsed": false
   },
   "outputs": [
    {
     "name": "stdout",
     "output_type": "stream",
     "text": [
      "Applying strategy: link_iterable_by_fields\n"
     ]
    }
   ],
   "source": [
    "ag.match_database(\"ecoinvent 3.2 cutoff\", fields=('reference product', 'location', 'unit', 'name'))"
   ]
  },
  {
   "cell_type": "code",
   "execution_count": 12,
   "metadata": {
    "collapsed": false
   },
   "outputs": [
    {
     "name": "stdout",
     "output_type": "stream",
     "text": [
      "1261 datasets\n",
      "115259 exchanges\n",
      "113 unlinked exchanges\n",
      "  Type technosphere: 31 unique unlinked exchanges\n"
     ]
    },
    {
     "data": {
      "text/plain": [
       "(1261, 115259, 113)"
      ]
     },
     "execution_count": 12,
     "metadata": {},
     "output_type": "execute_result"
    }
   ],
   "source": [
    "ag.statistics()"
   ]
  },
  {
   "cell_type": "markdown",
   "metadata": {},
   "source": [
    "## Add waste treatment activities\n",
    "\n",
    "There are a number of unlinked waste flows. I am not sure on the best way to handle these, so we will try a very simple approach. We will just add these as new activities, without any other inputs or environmental effects."
   ]
  },
  {
   "cell_type": "code",
   "execution_count": 13,
   "metadata": {
    "collapsed": false
   },
   "outputs": [
    {
     "name": "stdout",
     "output_type": "stream",
     "text": [
      "Applying strategy: link_iterable_by_fields\n",
      "1292 datasets\n",
      "115259 exchanges\n",
      "0 unlinked exchanges\n",
      "  \n"
     ]
    },
    {
     "data": {
      "text/plain": [
       "(1292, 115259, 0)"
      ]
     },
     "execution_count": 13,
     "metadata": {},
     "output_type": "execute_result"
    }
   ],
   "source": [
    "ag.add_unlinked_activities()\n",
    "ag.statistics()"
   ]
  },
  {
   "cell_type": "markdown",
   "metadata": {},
   "source": [
    "## Write the modified, fully linked database\n",
    "\n",
    "We are finished with the importing process."
   ]
  },
  {
   "cell_type": "code",
   "execution_count": 14,
   "metadata": {
    "collapsed": false
   },
   "outputs": [
    {
     "name": "stderr",
     "output_type": "stream",
     "text": [
      "Writing activities to SQLite3 database:\n",
      "0%                          100%\n",
      "[##############################] | ETA[sec]: 2.333  | ETA[sec]: 4.123  | ETA[sec]: 7.568  | ETA[sec]: 6.914  | ETA[sec]: 7.082  | ETA[sec]: 7.498  | ETA[sec]: 8.129  | ETA[sec]: 7.346  | ETA[sec]: 6.489  | ETA[sec]: 6.087  | ETA[sec]: 5.413  | ETA[sec]: 5.082  | ETA[sec]: 5.265  | ETA[sec]: 4.997  | ETA[sec]: 4.681  | ETA[sec]: 4.413  | ETA[sec]: 4.098  | ETA[sec]: 4.154  | ETA[sec]: 3.783  | ETA[sec]: 3.362  | ETA[sec]: 3.115  | ETA[sec]: 2.671  | ETA[sec]: 2.331  | ETA[sec]: 1.975  | ETA[sec]: 1.623  | ETA[sec]: 1.311  | ETA[sec]: 0.996  | ETA[sec]: 0.656  | ETA[sec]: 0.328  | ETA[sec]: 0.000  | ETA[sec]: 0.000 \n",
      "Total time elapsed: 9.796 sec\n"
     ]
    },
    {
     "name": "stdout",
     "output_type": "stream",
     "text": [
      "Title: Writing activities to SQLite3 database:\n",
      "  Started: 01/12/2017 11:19:51\n",
      "  Finished: 01/12/2017 11:20:01\n",
      "  Total time elapsed: 9.796 sec\n",
      "  CPU %: 92.100000\n",
      "  Memory %: 1.472557\n",
      "Created database: Agribalyse 1.3\n"
     ]
    },
    {
     "data": {
      "text/plain": [
       "Brightway2 SQLiteBackend: Agribalyse 1.3"
      ]
     },
     "execution_count": 14,
     "metadata": {},
     "output_type": "execute_result"
    }
   ],
   "source": [
    "ag.write_database()"
   ]
  },
  {
   "cell_type": "markdown",
   "metadata": {
    "collapsed": false
   },
   "source": [
    "## Checking the imported datasets\n",
    "\n",
    "We need to do some basic validation to make sure we have meaningful results. Here I just do some basic testing, but you should validate against known scores if you are frequently using this database. The following code is rahter simple and is not a real validation check."
   ]
  },
  {
   "cell_type": "code",
   "execution_count": 15,
   "metadata": {
    "collapsed": false
   },
   "outputs": [
    {
     "data": {
      "text/plain": [
       "('IPCC 2013', 'climate change', 'GTP 100a')"
      ]
     },
     "execution_count": 15,
     "metadata": {},
     "output_type": "execute_result"
    }
   ],
   "source": [
    "gwp = [x for x in methods if \"IPCC 2013\" in str(x)][0]\n",
    "gwp"
   ]
  },
  {
   "cell_type": "code",
   "execution_count": 16,
   "metadata": {
    "collapsed": false
   },
   "outputs": [
    {
     "data": {
      "text/plain": [
       "1.2294694637032393"
      ]
     },
     "execution_count": 16,
     "metadata": {},
     "output_type": "execute_result"
    }
   ],
   "source": [
    "db = Database(\"Agribalyse 1.3\")\n",
    "\n",
    "lca = LCA({db.random(): 1}, gwp)\n",
    "lca.lci(factorize=True)\n",
    "lca.lcia()\n",
    "lca.score"
   ]
  },
  {
   "cell_type": "markdown",
   "metadata": {},
   "source": [
    "Let's calculate the LCIA scores of all activities in Agribalyse"
   ]
  },
  {
   "cell_type": "code",
   "execution_count": 17,
   "metadata": {
    "collapsed": false
   },
   "outputs": [
    {
     "name": "stderr",
     "output_type": "stream",
     "text": [
      "0%                          100%\n",
      "[##############################] | ETA[sec]: 27.829  | ETA[sec]: 26.342  | ETA[sec]: 24.972  | ETA[sec]: 23.653  | ETA[sec]: 22.599  | ETA[sec]: 21.636  | ETA[sec]: 20.578  | ETA[sec]: 19.662  | ETA[sec]: 18.675  | ETA[sec]: 17.669  | ETA[sec]: 16.759  | ETA[sec]: 15.755  | ETA[sec]: 14.785  | ETA[sec]: 13.861  | ETA[sec]: 12.932  | ETA[sec]: 11.970  | ETA[sec]: 11.019  | ETA[sec]: 10.141  | ETA[sec]: 9.261  | ETA[sec]: 8.397  | ETA[sec]: 7.543  | ETA[sec]: 6.673  | ETA[sec]: 5.809  | ETA[sec]: 4.965  | ETA[sec]: 4.141  | ETA[sec]: 3.305  | ETA[sec]: 2.482  | ETA[sec]: 1.653  | ETA[sec]: 0.823  | ETA[sec]: 0.000  | ETA[sec]: 0.000 \n",
      "Total time elapsed: 24.694 sec\n"
     ]
    }
   ],
   "source": [
    "import pyprind\n",
    "\n",
    "scores = []\n",
    "\n",
    "for act in pyprind.prog_bar(db):\n",
    "    lca.redo_lcia({act: 1})\n",
    "    scores.append(lca.score)"
   ]
  },
  {
   "cell_type": "code",
   "execution_count": 18,
   "metadata": {
    "collapsed": false
   },
   "outputs": [
    {
     "name": "stdout",
     "output_type": "stream",
     "text": [
      "Number of activities with zero GWP score: 63 of 1292\n"
     ]
    }
   ],
   "source": [
    "import numpy as np\n",
    "\n",
    "scores = np.array(scores)\n",
    "\n",
    "mask = scores == 0\n",
    "print(\"Number of activities with zero GWP score: {} of {}\".format(mask.sum(), len(db)))"
   ]
  },
  {
   "cell_type": "code",
   "execution_count": 19,
   "metadata": {
    "collapsed": true
   },
   "outputs": [],
   "source": [
    "%matplotlib notebook"
   ]
  },
  {
   "cell_type": "code",
   "execution_count": 20,
   "metadata": {
    "collapsed": false
   },
   "outputs": [
    {
     "name": "stderr",
     "output_type": "stream",
     "text": [
      "Warning: axes.color_cycle is deprecated and replaced with axes.prop_cycle; please use the latter.\n"
     ]
    }
   ],
   "source": [
    "import seaborn as sns"
   ]
  },
  {
   "cell_type": "code",
   "execution_count": 21,
   "metadata": {
    "collapsed": false
   },
   "outputs": [
    {
     "data": {
      "application/javascript": [
       "/* Put everything inside the global mpl namespace */\n",
       "window.mpl = {};\n",
       "\n",
       "mpl.get_websocket_type = function() {\n",
       "    if (typeof(WebSocket) !== 'undefined') {\n",
       "        return WebSocket;\n",
       "    } else if (typeof(MozWebSocket) !== 'undefined') {\n",
       "        return MozWebSocket;\n",
       "    } else {\n",
       "        alert('Your browser does not have WebSocket support.' +\n",
       "              'Please try Chrome, Safari or Firefox ≥ 6. ' +\n",
       "              'Firefox 4 and 5 are also supported but you ' +\n",
       "              'have to enable WebSockets in about:config.');\n",
       "    };\n",
       "}\n",
       "\n",
       "mpl.figure = function(figure_id, websocket, ondownload, parent_element) {\n",
       "    this.id = figure_id;\n",
       "\n",
       "    this.ws = websocket;\n",
       "\n",
       "    this.supports_binary = (this.ws.binaryType != undefined);\n",
       "\n",
       "    if (!this.supports_binary) {\n",
       "        var warnings = document.getElementById(\"mpl-warnings\");\n",
       "        if (warnings) {\n",
       "            warnings.style.display = 'block';\n",
       "            warnings.textContent = (\n",
       "                \"This browser does not support binary websocket messages. \" +\n",
       "                    \"Performance may be slow.\");\n",
       "        }\n",
       "    }\n",
       "\n",
       "    this.imageObj = new Image();\n",
       "\n",
       "    this.context = undefined;\n",
       "    this.message = undefined;\n",
       "    this.canvas = undefined;\n",
       "    this.rubberband_canvas = undefined;\n",
       "    this.rubberband_context = undefined;\n",
       "    this.format_dropdown = undefined;\n",
       "\n",
       "    this.image_mode = 'full';\n",
       "\n",
       "    this.root = $('<div/>');\n",
       "    this._root_extra_style(this.root)\n",
       "    this.root.attr('style', 'display: inline-block');\n",
       "\n",
       "    $(parent_element).append(this.root);\n",
       "\n",
       "    this._init_header(this);\n",
       "    this._init_canvas(this);\n",
       "    this._init_toolbar(this);\n",
       "\n",
       "    var fig = this;\n",
       "\n",
       "    this.waiting = false;\n",
       "\n",
       "    this.ws.onopen =  function () {\n",
       "            fig.send_message(\"supports_binary\", {value: fig.supports_binary});\n",
       "            fig.send_message(\"send_image_mode\", {});\n",
       "            fig.send_message(\"refresh\", {});\n",
       "        }\n",
       "\n",
       "    this.imageObj.onload = function() {\n",
       "            if (fig.image_mode == 'full') {\n",
       "                // Full images could contain transparency (where diff images\n",
       "                // almost always do), so we need to clear the canvas so that\n",
       "                // there is no ghosting.\n",
       "                fig.context.clearRect(0, 0, fig.canvas.width, fig.canvas.height);\n",
       "            }\n",
       "            fig.context.drawImage(fig.imageObj, 0, 0);\n",
       "        };\n",
       "\n",
       "    this.imageObj.onunload = function() {\n",
       "        this.ws.close();\n",
       "    }\n",
       "\n",
       "    this.ws.onmessage = this._make_on_message_function(this);\n",
       "\n",
       "    this.ondownload = ondownload;\n",
       "}\n",
       "\n",
       "mpl.figure.prototype._init_header = function() {\n",
       "    var titlebar = $(\n",
       "        '<div class=\"ui-dialog-titlebar ui-widget-header ui-corner-all ' +\n",
       "        'ui-helper-clearfix\"/>');\n",
       "    var titletext = $(\n",
       "        '<div class=\"ui-dialog-title\" style=\"width: 100%; ' +\n",
       "        'text-align: center; padding: 3px;\"/>');\n",
       "    titlebar.append(titletext)\n",
       "    this.root.append(titlebar);\n",
       "    this.header = titletext[0];\n",
       "}\n",
       "\n",
       "\n",
       "\n",
       "mpl.figure.prototype._canvas_extra_style = function(canvas_div) {\n",
       "\n",
       "}\n",
       "\n",
       "\n",
       "mpl.figure.prototype._root_extra_style = function(canvas_div) {\n",
       "\n",
       "}\n",
       "\n",
       "mpl.figure.prototype._init_canvas = function() {\n",
       "    var fig = this;\n",
       "\n",
       "    var canvas_div = $('<div/>');\n",
       "\n",
       "    canvas_div.attr('style', 'position: relative; clear: both; outline: 0');\n",
       "\n",
       "    function canvas_keyboard_event(event) {\n",
       "        return fig.key_event(event, event['data']);\n",
       "    }\n",
       "\n",
       "    canvas_div.keydown('key_press', canvas_keyboard_event);\n",
       "    canvas_div.keyup('key_release', canvas_keyboard_event);\n",
       "    this.canvas_div = canvas_div\n",
       "    this._canvas_extra_style(canvas_div)\n",
       "    this.root.append(canvas_div);\n",
       "\n",
       "    var canvas = $('<canvas/>');\n",
       "    canvas.addClass('mpl-canvas');\n",
       "    canvas.attr('style', \"left: 0; top: 0; z-index: 0; outline: 0\")\n",
       "\n",
       "    this.canvas = canvas[0];\n",
       "    this.context = canvas[0].getContext(\"2d\");\n",
       "\n",
       "    var rubberband = $('<canvas/>');\n",
       "    rubberband.attr('style', \"position: absolute; left: 0; top: 0; z-index: 1;\")\n",
       "\n",
       "    var pass_mouse_events = true;\n",
       "\n",
       "    canvas_div.resizable({\n",
       "        start: function(event, ui) {\n",
       "            pass_mouse_events = false;\n",
       "        },\n",
       "        resize: function(event, ui) {\n",
       "            fig.request_resize(ui.size.width, ui.size.height);\n",
       "        },\n",
       "        stop: function(event, ui) {\n",
       "            pass_mouse_events = true;\n",
       "            fig.request_resize(ui.size.width, ui.size.height);\n",
       "        },\n",
       "    });\n",
       "\n",
       "    function mouse_event_fn(event) {\n",
       "        if (pass_mouse_events)\n",
       "            return fig.mouse_event(event, event['data']);\n",
       "    }\n",
       "\n",
       "    rubberband.mousedown('button_press', mouse_event_fn);\n",
       "    rubberband.mouseup('button_release', mouse_event_fn);\n",
       "    // Throttle sequential mouse events to 1 every 20ms.\n",
       "    rubberband.mousemove('motion_notify', mouse_event_fn);\n",
       "\n",
       "    rubberband.mouseenter('figure_enter', mouse_event_fn);\n",
       "    rubberband.mouseleave('figure_leave', mouse_event_fn);\n",
       "\n",
       "    canvas_div.on(\"wheel\", function (event) {\n",
       "        event = event.originalEvent;\n",
       "        event['data'] = 'scroll'\n",
       "        if (event.deltaY < 0) {\n",
       "            event.step = 1;\n",
       "        } else {\n",
       "            event.step = -1;\n",
       "        }\n",
       "        mouse_event_fn(event);\n",
       "    });\n",
       "\n",
       "    canvas_div.append(canvas);\n",
       "    canvas_div.append(rubberband);\n",
       "\n",
       "    this.rubberband = rubberband;\n",
       "    this.rubberband_canvas = rubberband[0];\n",
       "    this.rubberband_context = rubberband[0].getContext(\"2d\");\n",
       "    this.rubberband_context.strokeStyle = \"#000000\";\n",
       "\n",
       "    this._resize_canvas = function(width, height) {\n",
       "        // Keep the size of the canvas, canvas container, and rubber band\n",
       "        // canvas in synch.\n",
       "        canvas_div.css('width', width)\n",
       "        canvas_div.css('height', height)\n",
       "\n",
       "        canvas.attr('width', width);\n",
       "        canvas.attr('height', height);\n",
       "\n",
       "        rubberband.attr('width', width);\n",
       "        rubberband.attr('height', height);\n",
       "    }\n",
       "\n",
       "    // Set the figure to an initial 600x600px, this will subsequently be updated\n",
       "    // upon first draw.\n",
       "    this._resize_canvas(600, 600);\n",
       "\n",
       "    // Disable right mouse context menu.\n",
       "    $(this.rubberband_canvas).bind(\"contextmenu\",function(e){\n",
       "        return false;\n",
       "    });\n",
       "\n",
       "    function set_focus () {\n",
       "        canvas.focus();\n",
       "        canvas_div.focus();\n",
       "    }\n",
       "\n",
       "    window.setTimeout(set_focus, 100);\n",
       "}\n",
       "\n",
       "mpl.figure.prototype._init_toolbar = function() {\n",
       "    var fig = this;\n",
       "\n",
       "    var nav_element = $('<div/>')\n",
       "    nav_element.attr('style', 'width: 100%');\n",
       "    this.root.append(nav_element);\n",
       "\n",
       "    // Define a callback function for later on.\n",
       "    function toolbar_event(event) {\n",
       "        return fig.toolbar_button_onclick(event['data']);\n",
       "    }\n",
       "    function toolbar_mouse_event(event) {\n",
       "        return fig.toolbar_button_onmouseover(event['data']);\n",
       "    }\n",
       "\n",
       "    for(var toolbar_ind in mpl.toolbar_items) {\n",
       "        var name = mpl.toolbar_items[toolbar_ind][0];\n",
       "        var tooltip = mpl.toolbar_items[toolbar_ind][1];\n",
       "        var image = mpl.toolbar_items[toolbar_ind][2];\n",
       "        var method_name = mpl.toolbar_items[toolbar_ind][3];\n",
       "\n",
       "        if (!name) {\n",
       "            // put a spacer in here.\n",
       "            continue;\n",
       "        }\n",
       "        var button = $('<button/>');\n",
       "        button.addClass('ui-button ui-widget ui-state-default ui-corner-all ' +\n",
       "                        'ui-button-icon-only');\n",
       "        button.attr('role', 'button');\n",
       "        button.attr('aria-disabled', 'false');\n",
       "        button.click(method_name, toolbar_event);\n",
       "        button.mouseover(tooltip, toolbar_mouse_event);\n",
       "\n",
       "        var icon_img = $('<span/>');\n",
       "        icon_img.addClass('ui-button-icon-primary ui-icon');\n",
       "        icon_img.addClass(image);\n",
       "        icon_img.addClass('ui-corner-all');\n",
       "\n",
       "        var tooltip_span = $('<span/>');\n",
       "        tooltip_span.addClass('ui-button-text');\n",
       "        tooltip_span.html(tooltip);\n",
       "\n",
       "        button.append(icon_img);\n",
       "        button.append(tooltip_span);\n",
       "\n",
       "        nav_element.append(button);\n",
       "    }\n",
       "\n",
       "    var fmt_picker_span = $('<span/>');\n",
       "\n",
       "    var fmt_picker = $('<select/>');\n",
       "    fmt_picker.addClass('mpl-toolbar-option ui-widget ui-widget-content');\n",
       "    fmt_picker_span.append(fmt_picker);\n",
       "    nav_element.append(fmt_picker_span);\n",
       "    this.format_dropdown = fmt_picker[0];\n",
       "\n",
       "    for (var ind in mpl.extensions) {\n",
       "        var fmt = mpl.extensions[ind];\n",
       "        var option = $(\n",
       "            '<option/>', {selected: fmt === mpl.default_extension}).html(fmt);\n",
       "        fmt_picker.append(option)\n",
       "    }\n",
       "\n",
       "    // Add hover states to the ui-buttons\n",
       "    $( \".ui-button\" ).hover(\n",
       "        function() { $(this).addClass(\"ui-state-hover\");},\n",
       "        function() { $(this).removeClass(\"ui-state-hover\");}\n",
       "    );\n",
       "\n",
       "    var status_bar = $('<span class=\"mpl-message\"/>');\n",
       "    nav_element.append(status_bar);\n",
       "    this.message = status_bar[0];\n",
       "}\n",
       "\n",
       "mpl.figure.prototype.request_resize = function(x_pixels, y_pixels) {\n",
       "    // Request matplotlib to resize the figure. Matplotlib will then trigger a resize in the client,\n",
       "    // which will in turn request a refresh of the image.\n",
       "    this.send_message('resize', {'width': x_pixels, 'height': y_pixels});\n",
       "}\n",
       "\n",
       "mpl.figure.prototype.send_message = function(type, properties) {\n",
       "    properties['type'] = type;\n",
       "    properties['figure_id'] = this.id;\n",
       "    this.ws.send(JSON.stringify(properties));\n",
       "}\n",
       "\n",
       "mpl.figure.prototype.send_draw_message = function() {\n",
       "    if (!this.waiting) {\n",
       "        this.waiting = true;\n",
       "        this.ws.send(JSON.stringify({type: \"draw\", figure_id: this.id}));\n",
       "    }\n",
       "}\n",
       "\n",
       "\n",
       "mpl.figure.prototype.handle_save = function(fig, msg) {\n",
       "    var format_dropdown = fig.format_dropdown;\n",
       "    var format = format_dropdown.options[format_dropdown.selectedIndex].value;\n",
       "    fig.ondownload(fig, format);\n",
       "}\n",
       "\n",
       "\n",
       "mpl.figure.prototype.handle_resize = function(fig, msg) {\n",
       "    var size = msg['size'];\n",
       "    if (size[0] != fig.canvas.width || size[1] != fig.canvas.height) {\n",
       "        fig._resize_canvas(size[0], size[1]);\n",
       "        fig.send_message(\"refresh\", {});\n",
       "    };\n",
       "}\n",
       "\n",
       "mpl.figure.prototype.handle_rubberband = function(fig, msg) {\n",
       "    var x0 = msg['x0'];\n",
       "    var y0 = fig.canvas.height - msg['y0'];\n",
       "    var x1 = msg['x1'];\n",
       "    var y1 = fig.canvas.height - msg['y1'];\n",
       "    x0 = Math.floor(x0) + 0.5;\n",
       "    y0 = Math.floor(y0) + 0.5;\n",
       "    x1 = Math.floor(x1) + 0.5;\n",
       "    y1 = Math.floor(y1) + 0.5;\n",
       "    var min_x = Math.min(x0, x1);\n",
       "    var min_y = Math.min(y0, y1);\n",
       "    var width = Math.abs(x1 - x0);\n",
       "    var height = Math.abs(y1 - y0);\n",
       "\n",
       "    fig.rubberband_context.clearRect(\n",
       "        0, 0, fig.canvas.width, fig.canvas.height);\n",
       "\n",
       "    fig.rubberband_context.strokeRect(min_x, min_y, width, height);\n",
       "}\n",
       "\n",
       "mpl.figure.prototype.handle_figure_label = function(fig, msg) {\n",
       "    // Updates the figure title.\n",
       "    fig.header.textContent = msg['label'];\n",
       "}\n",
       "\n",
       "mpl.figure.prototype.handle_cursor = function(fig, msg) {\n",
       "    var cursor = msg['cursor'];\n",
       "    switch(cursor)\n",
       "    {\n",
       "    case 0:\n",
       "        cursor = 'pointer';\n",
       "        break;\n",
       "    case 1:\n",
       "        cursor = 'default';\n",
       "        break;\n",
       "    case 2:\n",
       "        cursor = 'crosshair';\n",
       "        break;\n",
       "    case 3:\n",
       "        cursor = 'move';\n",
       "        break;\n",
       "    }\n",
       "    fig.rubberband_canvas.style.cursor = cursor;\n",
       "}\n",
       "\n",
       "mpl.figure.prototype.handle_message = function(fig, msg) {\n",
       "    fig.message.textContent = msg['message'];\n",
       "}\n",
       "\n",
       "mpl.figure.prototype.handle_draw = function(fig, msg) {\n",
       "    // Request the server to send over a new figure.\n",
       "    fig.send_draw_message();\n",
       "}\n",
       "\n",
       "mpl.figure.prototype.handle_image_mode = function(fig, msg) {\n",
       "    fig.image_mode = msg['mode'];\n",
       "}\n",
       "\n",
       "mpl.figure.prototype.updated_canvas_event = function() {\n",
       "    // Called whenever the canvas gets updated.\n",
       "    this.send_message(\"ack\", {});\n",
       "}\n",
       "\n",
       "// A function to construct a web socket function for onmessage handling.\n",
       "// Called in the figure constructor.\n",
       "mpl.figure.prototype._make_on_message_function = function(fig) {\n",
       "    return function socket_on_message(evt) {\n",
       "        if (evt.data instanceof Blob) {\n",
       "            /* FIXME: We get \"Resource interpreted as Image but\n",
       "             * transferred with MIME type text/plain:\" errors on\n",
       "             * Chrome.  But how to set the MIME type?  It doesn't seem\n",
       "             * to be part of the websocket stream */\n",
       "            evt.data.type = \"image/png\";\n",
       "\n",
       "            /* Free the memory for the previous frames */\n",
       "            if (fig.imageObj.src) {\n",
       "                (window.URL || window.webkitURL).revokeObjectURL(\n",
       "                    fig.imageObj.src);\n",
       "            }\n",
       "\n",
       "            fig.imageObj.src = (window.URL || window.webkitURL).createObjectURL(\n",
       "                evt.data);\n",
       "            fig.updated_canvas_event();\n",
       "            fig.waiting = false;\n",
       "            return;\n",
       "        }\n",
       "        else if (typeof evt.data === 'string' && evt.data.slice(0, 21) == \"data:image/png;base64\") {\n",
       "            fig.imageObj.src = evt.data;\n",
       "            fig.updated_canvas_event();\n",
       "            fig.waiting = false;\n",
       "            return;\n",
       "        }\n",
       "\n",
       "        var msg = JSON.parse(evt.data);\n",
       "        var msg_type = msg['type'];\n",
       "\n",
       "        // Call the  \"handle_{type}\" callback, which takes\n",
       "        // the figure and JSON message as its only arguments.\n",
       "        try {\n",
       "            var callback = fig[\"handle_\" + msg_type];\n",
       "        } catch (e) {\n",
       "            console.log(\"No handler for the '\" + msg_type + \"' message type: \", msg);\n",
       "            return;\n",
       "        }\n",
       "\n",
       "        if (callback) {\n",
       "            try {\n",
       "                // console.log(\"Handling '\" + msg_type + \"' message: \", msg);\n",
       "                callback(fig, msg);\n",
       "            } catch (e) {\n",
       "                console.log(\"Exception inside the 'handler_\" + msg_type + \"' callback:\", e, e.stack, msg);\n",
       "            }\n",
       "        }\n",
       "    };\n",
       "}\n",
       "\n",
       "// from http://stackoverflow.com/questions/1114465/getting-mouse-location-in-canvas\n",
       "mpl.findpos = function(e) {\n",
       "    //this section is from http://www.quirksmode.org/js/events_properties.html\n",
       "    var targ;\n",
       "    if (!e)\n",
       "        e = window.event;\n",
       "    if (e.target)\n",
       "        targ = e.target;\n",
       "    else if (e.srcElement)\n",
       "        targ = e.srcElement;\n",
       "    if (targ.nodeType == 3) // defeat Safari bug\n",
       "        targ = targ.parentNode;\n",
       "\n",
       "    // jQuery normalizes the pageX and pageY\n",
       "    // pageX,Y are the mouse positions relative to the document\n",
       "    // offset() returns the position of the element relative to the document\n",
       "    var x = e.pageX - $(targ).offset().left;\n",
       "    var y = e.pageY - $(targ).offset().top;\n",
       "\n",
       "    return {\"x\": x, \"y\": y};\n",
       "};\n",
       "\n",
       "/*\n",
       " * return a copy of an object with only non-object keys\n",
       " * we need this to avoid circular references\n",
       " * http://stackoverflow.com/a/24161582/3208463\n",
       " */\n",
       "function simpleKeys (original) {\n",
       "  return Object.keys(original).reduce(function (obj, key) {\n",
       "    if (typeof original[key] !== 'object')\n",
       "        obj[key] = original[key]\n",
       "    return obj;\n",
       "  }, {});\n",
       "}\n",
       "\n",
       "mpl.figure.prototype.mouse_event = function(event, name) {\n",
       "    var canvas_pos = mpl.findpos(event)\n",
       "\n",
       "    if (name === 'button_press')\n",
       "    {\n",
       "        this.canvas.focus();\n",
       "        this.canvas_div.focus();\n",
       "    }\n",
       "\n",
       "    var x = canvas_pos.x;\n",
       "    var y = canvas_pos.y;\n",
       "\n",
       "    this.send_message(name, {x: x, y: y, button: event.button,\n",
       "                             step: event.step,\n",
       "                             guiEvent: simpleKeys(event)});\n",
       "\n",
       "    /* This prevents the web browser from automatically changing to\n",
       "     * the text insertion cursor when the button is pressed.  We want\n",
       "     * to control all of the cursor setting manually through the\n",
       "     * 'cursor' event from matplotlib */\n",
       "    event.preventDefault();\n",
       "    return false;\n",
       "}\n",
       "\n",
       "mpl.figure.prototype._key_event_extra = function(event, name) {\n",
       "    // Handle any extra behaviour associated with a key event\n",
       "}\n",
       "\n",
       "mpl.figure.prototype.key_event = function(event, name) {\n",
       "\n",
       "    // Prevent repeat events\n",
       "    if (name == 'key_press')\n",
       "    {\n",
       "        if (event.which === this._key)\n",
       "            return;\n",
       "        else\n",
       "            this._key = event.which;\n",
       "    }\n",
       "    if (name == 'key_release')\n",
       "        this._key = null;\n",
       "\n",
       "    var value = '';\n",
       "    if (event.ctrlKey && event.which != 17)\n",
       "        value += \"ctrl+\";\n",
       "    if (event.altKey && event.which != 18)\n",
       "        value += \"alt+\";\n",
       "    if (event.shiftKey && event.which != 16)\n",
       "        value += \"shift+\";\n",
       "\n",
       "    value += 'k';\n",
       "    value += event.which.toString();\n",
       "\n",
       "    this._key_event_extra(event, name);\n",
       "\n",
       "    this.send_message(name, {key: value,\n",
       "                             guiEvent: simpleKeys(event)});\n",
       "    return false;\n",
       "}\n",
       "\n",
       "mpl.figure.prototype.toolbar_button_onclick = function(name) {\n",
       "    if (name == 'download') {\n",
       "        this.handle_save(this, null);\n",
       "    } else {\n",
       "        this.send_message(\"toolbar_button\", {name: name});\n",
       "    }\n",
       "};\n",
       "\n",
       "mpl.figure.prototype.toolbar_button_onmouseover = function(tooltip) {\n",
       "    this.message.textContent = tooltip;\n",
       "};\n",
       "mpl.toolbar_items = [[\"Home\", \"Reset original view\", \"fa fa-home icon-home\", \"home\"], [\"Back\", \"Back to  previous view\", \"fa fa-arrow-left icon-arrow-left\", \"back\"], [\"Forward\", \"Forward to next view\", \"fa fa-arrow-right icon-arrow-right\", \"forward\"], [\"\", \"\", \"\", \"\"], [\"Pan\", \"Pan axes with left mouse, zoom with right\", \"fa fa-arrows icon-move\", \"pan\"], [\"Zoom\", \"Zoom to rectangle\", \"fa fa-square-o icon-check-empty\", \"zoom\"], [\"\", \"\", \"\", \"\"], [\"Download\", \"Download plot\", \"fa fa-floppy-o icon-save\", \"download\"]];\n",
       "\n",
       "mpl.extensions = [\"eps\", \"jpeg\", \"pdf\", \"png\", \"ps\", \"raw\", \"svg\", \"tif\"];\n",
       "\n",
       "mpl.default_extension = \"png\";var comm_websocket_adapter = function(comm) {\n",
       "    // Create a \"websocket\"-like object which calls the given IPython comm\n",
       "    // object with the appropriate methods. Currently this is a non binary\n",
       "    // socket, so there is still some room for performance tuning.\n",
       "    var ws = {};\n",
       "\n",
       "    ws.close = function() {\n",
       "        comm.close()\n",
       "    };\n",
       "    ws.send = function(m) {\n",
       "        //console.log('sending', m);\n",
       "        comm.send(m);\n",
       "    };\n",
       "    // Register the callback with on_msg.\n",
       "    comm.on_msg(function(msg) {\n",
       "        //console.log('receiving', msg['content']['data'], msg);\n",
       "        // Pass the mpl event to the overriden (by mpl) onmessage function.\n",
       "        ws.onmessage(msg['content']['data'])\n",
       "    });\n",
       "    return ws;\n",
       "}\n",
       "\n",
       "mpl.mpl_figure_comm = function(comm, msg) {\n",
       "    // This is the function which gets called when the mpl process\n",
       "    // starts-up an IPython Comm through the \"matplotlib\" channel.\n",
       "\n",
       "    var id = msg.content.data.id;\n",
       "    // Get hold of the div created by the display call when the Comm\n",
       "    // socket was opened in Python.\n",
       "    var element = $(\"#\" + id);\n",
       "    var ws_proxy = comm_websocket_adapter(comm)\n",
       "\n",
       "    function ondownload(figure, format) {\n",
       "        window.open(figure.imageObj.src);\n",
       "    }\n",
       "\n",
       "    var fig = new mpl.figure(id, ws_proxy,\n",
       "                           ondownload,\n",
       "                           element.get(0));\n",
       "\n",
       "    // Call onopen now - mpl needs it, as it is assuming we've passed it a real\n",
       "    // web socket which is closed, not our websocket->open comm proxy.\n",
       "    ws_proxy.onopen();\n",
       "\n",
       "    fig.parent_element = element.get(0);\n",
       "    fig.cell_info = mpl.find_output_cell(\"<div id='\" + id + \"'></div>\");\n",
       "    if (!fig.cell_info) {\n",
       "        console.error(\"Failed to find cell for figure\", id, fig);\n",
       "        return;\n",
       "    }\n",
       "\n",
       "    var output_index = fig.cell_info[2]\n",
       "    var cell = fig.cell_info[0];\n",
       "\n",
       "};\n",
       "\n",
       "mpl.figure.prototype.handle_close = function(fig, msg) {\n",
       "    fig.root.unbind('remove')\n",
       "\n",
       "    // Update the output cell to use the data from the current canvas.\n",
       "    fig.push_to_output();\n",
       "    var dataURL = fig.canvas.toDataURL();\n",
       "    // Re-enable the keyboard manager in IPython - without this line, in FF,\n",
       "    // the notebook keyboard shortcuts fail.\n",
       "    IPython.keyboard_manager.enable()\n",
       "    $(fig.parent_element).html('<img src=\"' + dataURL + '\">');\n",
       "    fig.close_ws(fig, msg);\n",
       "}\n",
       "\n",
       "mpl.figure.prototype.close_ws = function(fig, msg){\n",
       "    fig.send_message('closing', msg);\n",
       "    // fig.ws.close()\n",
       "}\n",
       "\n",
       "mpl.figure.prototype.push_to_output = function(remove_interactive) {\n",
       "    // Turn the data on the canvas into data in the output cell.\n",
       "    var dataURL = this.canvas.toDataURL();\n",
       "    this.cell_info[1]['text/html'] = '<img src=\"' + dataURL + '\">';\n",
       "}\n",
       "\n",
       "mpl.figure.prototype.updated_canvas_event = function() {\n",
       "    // Tell IPython that the notebook contents must change.\n",
       "    IPython.notebook.set_dirty(true);\n",
       "    this.send_message(\"ack\", {});\n",
       "    var fig = this;\n",
       "    // Wait a second, then push the new image to the DOM so\n",
       "    // that it is saved nicely (might be nice to debounce this).\n",
       "    setTimeout(function () { fig.push_to_output() }, 1000);\n",
       "}\n",
       "\n",
       "mpl.figure.prototype._init_toolbar = function() {\n",
       "    var fig = this;\n",
       "\n",
       "    var nav_element = $('<div/>')\n",
       "    nav_element.attr('style', 'width: 100%');\n",
       "    this.root.append(nav_element);\n",
       "\n",
       "    // Define a callback function for later on.\n",
       "    function toolbar_event(event) {\n",
       "        return fig.toolbar_button_onclick(event['data']);\n",
       "    }\n",
       "    function toolbar_mouse_event(event) {\n",
       "        return fig.toolbar_button_onmouseover(event['data']);\n",
       "    }\n",
       "\n",
       "    for(var toolbar_ind in mpl.toolbar_items){\n",
       "        var name = mpl.toolbar_items[toolbar_ind][0];\n",
       "        var tooltip = mpl.toolbar_items[toolbar_ind][1];\n",
       "        var image = mpl.toolbar_items[toolbar_ind][2];\n",
       "        var method_name = mpl.toolbar_items[toolbar_ind][3];\n",
       "\n",
       "        if (!name) { continue; };\n",
       "\n",
       "        var button = $('<button class=\"btn btn-default\" href=\"#\" title=\"' + name + '\"><i class=\"fa ' + image + ' fa-lg\"></i></button>');\n",
       "        button.click(method_name, toolbar_event);\n",
       "        button.mouseover(tooltip, toolbar_mouse_event);\n",
       "        nav_element.append(button);\n",
       "    }\n",
       "\n",
       "    // Add the status bar.\n",
       "    var status_bar = $('<span class=\"mpl-message\" style=\"text-align:right; float: right;\"/>');\n",
       "    nav_element.append(status_bar);\n",
       "    this.message = status_bar[0];\n",
       "\n",
       "    // Add the close button to the window.\n",
       "    var buttongrp = $('<div class=\"btn-group inline pull-right\"></div>');\n",
       "    var button = $('<button class=\"btn btn-mini btn-primary\" href=\"#\" title=\"Stop Interaction\"><i class=\"fa fa-power-off icon-remove icon-large\"></i></button>');\n",
       "    button.click(function (evt) { fig.handle_close(fig, {}); } );\n",
       "    button.mouseover('Stop Interaction', toolbar_mouse_event);\n",
       "    buttongrp.append(button);\n",
       "    var titlebar = this.root.find($('.ui-dialog-titlebar'));\n",
       "    titlebar.prepend(buttongrp);\n",
       "}\n",
       "\n",
       "mpl.figure.prototype._root_extra_style = function(el){\n",
       "    var fig = this\n",
       "    el.on(\"remove\", function(){\n",
       "\tfig.close_ws(fig, {});\n",
       "    });\n",
       "}\n",
       "\n",
       "mpl.figure.prototype._canvas_extra_style = function(el){\n",
       "    // this is important to make the div 'focusable\n",
       "    el.attr('tabindex', 0)\n",
       "    // reach out to IPython and tell the keyboard manager to turn it's self\n",
       "    // off when our div gets focus\n",
       "\n",
       "    // location in version 3\n",
       "    if (IPython.notebook.keyboard_manager) {\n",
       "        IPython.notebook.keyboard_manager.register_events(el);\n",
       "    }\n",
       "    else {\n",
       "        // location in version 2\n",
       "        IPython.keyboard_manager.register_events(el);\n",
       "    }\n",
       "\n",
       "}\n",
       "\n",
       "mpl.figure.prototype._key_event_extra = function(event, name) {\n",
       "    var manager = IPython.notebook.keyboard_manager;\n",
       "    if (!manager)\n",
       "        manager = IPython.keyboard_manager;\n",
       "\n",
       "    // Check for shift+enter\n",
       "    if (event.shiftKey && event.which == 13) {\n",
       "        this.canvas_div.blur();\n",
       "        // select the cell after this one\n",
       "        var index = IPython.notebook.find_cell_index(this.cell_info[0]);\n",
       "        IPython.notebook.select(index + 1);\n",
       "    }\n",
       "}\n",
       "\n",
       "mpl.figure.prototype.handle_save = function(fig, msg) {\n",
       "    fig.ondownload(fig, null);\n",
       "}\n",
       "\n",
       "\n",
       "mpl.find_output_cell = function(html_output) {\n",
       "    // Return the cell and output element which can be found *uniquely* in the notebook.\n",
       "    // Note - this is a bit hacky, but it is done because the \"notebook_saving.Notebook\"\n",
       "    // IPython event is triggered only after the cells have been serialised, which for\n",
       "    // our purposes (turning an active figure into a static one), is too late.\n",
       "    var cells = IPython.notebook.get_cells();\n",
       "    var ncells = cells.length;\n",
       "    for (var i=0; i<ncells; i++) {\n",
       "        var cell = cells[i];\n",
       "        if (cell.cell_type === 'code'){\n",
       "            for (var j=0; j<cell.output_area.outputs.length; j++) {\n",
       "                var data = cell.output_area.outputs[j];\n",
       "                if (data.data) {\n",
       "                    // IPython >= 3 moved mimebundle to data attribute of output\n",
       "                    data = data.data;\n",
       "                }\n",
       "                if (data['text/html'] == html_output) {\n",
       "                    return [cell, data, j];\n",
       "                }\n",
       "            }\n",
       "        }\n",
       "    }\n",
       "}\n",
       "\n",
       "// Register the function which deals with the matplotlib target/channel.\n",
       "// The kernel may be null if the page has been refreshed.\n",
       "if (IPython.notebook.kernel != null) {\n",
       "    IPython.notebook.kernel.comm_manager.register_target('matplotlib', mpl.mpl_figure_comm);\n",
       "}\n"
      ],
      "text/plain": [
       "<IPython.core.display.Javascript object>"
      ]
     },
     "metadata": {},
     "output_type": "display_data"
    },
    {
     "data": {
      "text/html": [
       "<img src=\"data:image/png;base64,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\">"
      ],
      "text/plain": [
       "<IPython.core.display.HTML object>"
      ]
     },
     "metadata": {},
     "output_type": "display_data"
    },
    {
     "name": "stderr",
     "output_type": "stream",
     "text": [
      "Warning: using a non-integer number instead of an integer will result in an error in the future\n",
      "Warning: using a non-integer number instead of an integer will result in an error in the future\n",
      "Warning: using a non-integer number instead of an integer will result in an error in the future\n"
     ]
    },
    {
     "data": {
      "text/plain": [
       "<matplotlib.axes._subplots.AxesSubplot at 0x116f378d0>"
      ]
     },
     "execution_count": 21,
     "metadata": {},
     "output_type": "execute_result"
    }
   ],
   "source": [
    "sns.distplot(np.log(scores[scores > 0]))"
   ]
  },
  {
   "cell_type": "markdown",
   "metadata": {},
   "source": [
    "## Conclusion\n",
    "\n",
    "We have imported the Agribalyse database. In the process of importing, we found and resolved several problems:\n",
    "\n",
    "1. First, we had to fix the names and categories of biosphere flow names, to make them compatible with the names and categories used in ecoinvent version 3.\n",
    "2. We linked inputs to activities in ecoinvent 3.2.\n",
    "3. Next, we created a new database for the new biosphere flows that we couldn't match.\n",
    "4. We added unlinked activities to our database.\n",
    "5. We fixed allocated products with zero production values.\n",
    "\n",
    "This was a bit of a pain, but this is the sad truth of LCA data compatibility - it currently isn't all that great."
   ]
  },
  {
   "cell_type": "code",
   "execution_count": null,
   "metadata": {
    "collapsed": true
   },
   "outputs": [],
   "source": []
  }
 ],
 "metadata": {
  "kernelspec": {
   "display_name": "Python 3",
   "language": "python",
   "name": "python3"
  },
  "language_info": {
   "codemirror_mode": {
    "name": "ipython",
    "version": 3
   },
   "file_extension": ".py",
   "mimetype": "text/x-python",
   "name": "python",
   "nbconvert_exporter": "python",
   "pygments_lexer": "ipython3",
   "version": "3.5.2"
  }
 },
 "nbformat": 4,
 "nbformat_minor": 1
}
