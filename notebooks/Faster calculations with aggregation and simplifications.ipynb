{
 "cells": [
  {
   "cell_type": "markdown",
   "metadata": {},
   "source": [
    "# Faster calculations with aggregation and simplifications\n",
    "\n",
    "This notebook shows how we can get very fast calculations for a specific use case where the foreground is dynamic, but we know that the background doesn't change, and where the LCIA methods are fixed ahead of time. \n",
    "\n",
    "We know that [precalculated aggregated datasets can be fast](https://link.springer.com/article/10.1007/s11367-018-1444-x), and they are easy to generate in Brightway. If we know that the background won't change, we can replace *only the needed background activities* with precalculated activities, and skip loading and processing the whole background system completely.\n",
    "\n",
    "<img src=\"files/aggregated-background.png\">\n",
    "\n",
    "We can also reduce the biosphere matrix to only the flows needed to calculate the preselected LCIA method scores.\n",
    "\n",
    "<img src=\"files/reduced-biosphere.png\">"
   ]
  },
  {
   "cell_type": "code",
   "execution_count": 1,
   "metadata": {},
   "outputs": [],
   "source": [
    "import brightway2 as bw\n",
    "import numpy as np\n",
    "import random"
   ]
  },
  {
   "cell_type": "markdown",
   "metadata": {},
   "source": [
    "## Generate example database `B`\n",
    "\n",
    "In our example, we will use ecoinvent as `A`, and make up a random `B`."
   ]
  },
  {
   "cell_type": "code",
   "execution_count": 2,
   "metadata": {},
   "outputs": [],
   "source": [
    "ECOINVENT_LABEL = \"ecoinvent 3.5 cutoff\"\n",
    "assert ECOINVENT_LABEL in bw.databases"
   ]
  },
  {
   "cell_type": "code",
   "execution_count": 3,
   "metadata": {},
   "outputs": [],
   "source": [
    "some_methods = [bw.methods.random() for _ in range(3)]\n",
    "all_flows = [o[0] for method in some_methods for o in bw.Method(method).load()]\n",
    "some_flows = [random.choice(all_flows) for _ in range(10)]"
   ]
  },
  {
   "cell_type": "code",
   "execution_count": 4,
   "metadata": {},
   "outputs": [],
   "source": [
    "db = iter(bw.Database(ECOINVENT_LABEL))\n",
    "\n",
    "some_inputs = [next(db) for _ in range(5)]"
   ]
  },
  {
   "cell_type": "markdown",
   "metadata": {},
   "source": [
    "We can now build our example database."
   ]
  },
  {
   "cell_type": "code",
   "execution_count": 5,
   "metadata": {},
   "outputs": [],
   "source": [
    "example_data = [{\n",
    "    'name': 'fake {}'.format(index),\n",
    "    'code': str(index),\n",
    "    'exchanges': [{\n",
    "        'input': ('example', str(index)),\n",
    "        'amount': 1,\n",
    "        'type': 'production',\n",
    "    }]\n",
    "} for index in range(5)]"
   ]
  },
  {
   "cell_type": "code",
   "execution_count": 6,
   "metadata": {},
   "outputs": [],
   "source": [
    "# Add links to background database\n",
    "for _ in range(10):\n",
    "    random.choice(example_data)['exchanges'].append({\n",
    "        'input': random.choice(some_inputs),\n",
    "        'amount': np.random.normal() + 1,\n",
    "        'type': 'technosphere'\n",
    "    })\n",
    "    \n",
    "    \n",
    "# Add links to foreground database\n",
    "for _ in range(8):\n",
    "    random.choice(example_data)['exchanges'].append({\n",
    "        'input': ('example', random.choice(example_data)['code']),\n",
    "        'amount': np.random.normal() + 1,\n",
    "        'type': 'technosphere'\n",
    "    })\n",
    "\n",
    "# Add links to biosphere flows\n",
    "for _ in range(6):\n",
    "    random.choice(example_data)['exchanges'].append({\n",
    "        'input': random.choice(some_flows),\n",
    "        'amount': np.random.normal(),\n",
    "        'type': 'biosphere'\n",
    "    })"
   ]
  },
  {
   "cell_type": "code",
   "execution_count": 7,
   "metadata": {},
   "outputs": [
    {
     "name": "stderr",
     "output_type": "stream",
     "text": [
      "Writing activities to SQLite3 database:\n",
      "0% [#####] 100% | ETA: 00:00:00\n",
      "Total time elapsed: 00:00:00\n"
     ]
    },
    {
     "name": "stdout",
     "output_type": "stream",
     "text": [
      "Title: Writing activities to SQLite3 database:\n",
      "  Started: 08/22/2019 14:59:02\n",
      "  Finished: 08/22/2019 14:59:02\n",
      "  Total time elapsed: 00:00:00\n",
      "  CPU %: 120.90\n",
      "  Memory %: 0.43\n"
     ]
    }
   ],
   "source": [
    "bw.Database(\"example\").write({('example', o.pop(\"code\")): o for o in example_data})"
   ]
  },
  {
   "cell_type": "markdown",
   "metadata": {},
   "source": [
    "Check to make sure that all our foreground activities have LCIA scores for our methods:"
   ]
  },
  {
   "cell_type": "code",
   "execution_count": 16,
   "metadata": {},
   "outputs": [],
   "source": [
    "lca = bw.LCA({bw.Database(\"example\").random(): 1}, method=some_methods[0])\n",
    "lca.lci()\n",
    "lca.lcia()\n",
    "\n",
    "for act in bw.Database(\"example\"):\n",
    "    for method in some_methods:\n",
    "        lca.switch_method(method)\n",
    "        lca.redo_lcia({act: 1})\n",
    "        assert lca.score != 0"
   ]
  },
  {
   "cell_type": "markdown",
   "metadata": {},
   "source": [
    "## Aggregate background activities\n",
    "\n",
    "Ultimately, we want the [processed](https://docs.brightwaylca.org/intro.html#intermediate-and-processed-data) [array](https://docs.brightwaylca.org/lca.html#building-matrices) for this database - but this will be generated automatically if we write a new database."
   ]
  },
  {
   "cell_type": "code",
   "execution_count": 17,
   "metadata": {},
   "outputs": [],
   "source": [
    "background_scores = {}\n",
    "\n",
    "for act in some_inputs:\n",
    "    background_scores[act.key] = {}\n",
    "    for method in some_methods:\n",
    "        lca.switch_method(method)\n",
    "        lca.redo_lcia({act: 1})\n",
    "        background_scores[act.key][method] = lca.score"
   ]
  },
  {
   "cell_type": "code",
   "execution_count": 19,
   "metadata": {},
   "outputs": [],
   "source": [
    "NEW_NAME = \"Aggregated ecoinvent background\""
   ]
  },
  {
   "cell_type": "code",
   "execution_count": 27,
   "metadata": {},
   "outputs": [],
   "source": [
    "def as_tuple(o):\n",
    "    if isinstance(o, tuple):\n",
    "        return o\n",
    "    elif hasattr(o, \"key\"):\n",
    "        return o.key\n",
    "    else:\n",
    "        raise ValueError"
   ]
  },
  {
   "cell_type": "code",
   "execution_count": 36,
   "metadata": {},
   "outputs": [],
   "source": [
    "def extract_relevant_flows(act, lca, flows):\n",
    "    \"\"\"Return the life cycle inventory elementary flow amounts for one unit of demand of ``act``.\n",
    "    \n",
    "    ``lca`` is a pre-calculated ``LCA`` object in which ``act`` is in the technosphere.\n",
    "    ``flows`` is an iterable of biosphere flows.\n",
    "    \n",
    "    Returns a dictionary like ``{flow_key: amount}``.\"\"\"\n",
    "    lca.redo_lci({act: 1})\n",
    "    flows_present = {o for o in flows if o in lca.biosphere_dict}\n",
    "    # Get total inventory (for entire supply chain)\n",
    "    inventory_vector = lca.inventory.sum(axis=1)\n",
    "    data = {flow: inventory_vector[lca.biosphere_dict[flow]] for flow in flows_present}\n",
    "    return {k: v for k, v in data.items() if v != 0}"
   ]
  },
  {
   "cell_type": "code",
   "execution_count": 47,
   "metadata": {},
   "outputs": [],
   "source": [
    "def format_as_brightway_dataset(act, new_db_name, biosphere_exchanges):\n",
    "    \"\"\"Minimally format an activity and a dict of biosphere exchange amounts as a Brightway database ready for writing.\"\"\"\n",
    "    # Because we have calculated the inventory for 1 unit already, don't need to rescale\n",
    "    # or deal with other production exchange weirdness. A production exchange will\n",
    "    # be added automatically\n",
    "    return {'exchanges': [{\n",
    "            'input': as_tuple(flow),\n",
    "            'output': (new_db_name, act[1]),\n",
    "            'amount': amount,\n",
    "            'type': \"biosphere\",\n",
    "        } for flow, amount in biosphere_exchanges.items()]\n",
    "    }"
   ]
  },
  {
   "cell_type": "code",
   "execution_count": 48,
   "metadata": {},
   "outputs": [],
   "source": [
    "new_background_database = {\n",
    "    (NEW_NAME, act['code']): format_as_brightway_dataset(act, NEW_NAME, extract_relevant_flows(act, lca, some_flows)) \n",
    "    for act in some_inputs\n",
    "}"
   ]
  },
  {
   "cell_type": "code",
   "execution_count": 49,
   "metadata": {},
   "outputs": [
    {
     "name": "stderr",
     "output_type": "stream",
     "text": [
      "Writing activities to SQLite3 database:\n",
      "0% [#####] 100% | ETA: 00:00:00\n",
      "Total time elapsed: 00:00:00\n"
     ]
    },
    {
     "name": "stdout",
     "output_type": "stream",
     "text": [
      "Title: Writing activities to SQLite3 database:\n",
      "  Started: 08/23/2019 11:59:06\n",
      "  Finished: 08/23/2019 11:59:06\n",
      "  Total time elapsed: 00:00:00\n",
      "  CPU %: 118.10\n",
      "  Memory %: 0.90\n"
     ]
    }
   ],
   "source": [
    "bw.Database(NEW_NAME).write(new_background_database)"
   ]
  },
  {
   "cell_type": "markdown",
   "metadata": {},
   "source": [
    "Check to make sure our aggregated database gives the right results"
   ]
  },
  {
   "cell_type": "code",
   "execution_count": 50,
   "metadata": {},
   "outputs": [],
   "source": [
    "processed_array_filepaths = [bw.Database(NEW_NAME).filepath_processed(), bw.Database(\"biosphere3\").filepath_processed()]"
   ]
  },
  {
   "cell_type": "code",
   "execution_count": 52,
   "metadata": {},
   "outputs": [],
   "source": [
    "class IndependentLCA(bw.IndepentLCAMixin, bw.LCA):\n",
    "    pass"
   ]
  },
  {
   "cell_type": "code",
   "execution_count": 56,
   "metadata": {},
   "outputs": [
    {
     "data": {
      "text/plain": [
       "'/Users/cmutel/Library/Application Support/Brightway3/default.c21f969b5f03d33d43e04f8f136e7682/processed/edip-wo-ltel.7c25f011c60ae201b58dee42dde662b0.npy'"
      ]
     },
     "execution_count": 56,
     "metadata": {},
     "output_type": "execute_result"
    }
   ],
   "source": [
    "bw.Method(method).filepath_processed()"
   ]
  },
  {
   "cell_type": "code",
   "execution_count": 57,
   "metadata": {},
   "outputs": [
    {
     "ename": "TypeError",
     "evalue": "'int' object is not subscriptable",
     "output_type": "error",
     "traceback": [
      "\u001b[0;31m---------------------------------------------------------------------------\u001b[0m",
      "\u001b[0;31mTypeError\u001b[0m                                 Traceback (most recent call last)",
      "\u001b[0;32m<ipython-input-57-816201bf9e4e>\u001b[0m in \u001b[0;36m<module>\u001b[0;34m\u001b[0m\n\u001b[1;32m      7\u001b[0m         \u001b[0;34m{\u001b[0m\u001b[0mbw\u001b[0m\u001b[0;34m.\u001b[0m\u001b[0mmapping\u001b[0m\u001b[0;34m[\u001b[0m\u001b[0msome_inputs\u001b[0m\u001b[0;34m[\u001b[0m\u001b[0;36m0\u001b[0m\u001b[0;34m]\u001b[0m\u001b[0;34m]\u001b[0m\u001b[0;34m:\u001b[0m \u001b[0;36m1\u001b[0m\u001b[0;34m}\u001b[0m\u001b[0;34m,\u001b[0m\u001b[0;34m\u001b[0m\u001b[0;34m\u001b[0m\u001b[0m\n\u001b[1;32m      8\u001b[0m         \u001b[0mdatabase_filepath\u001b[0m\u001b[0;34m=\u001b[0m\u001b[0mprocessed_array_filepaths\u001b[0m\u001b[0;34m,\u001b[0m\u001b[0;34m\u001b[0m\u001b[0;34m\u001b[0m\u001b[0m\n\u001b[0;32m----> 9\u001b[0;31m         \u001b[0mmethod\u001b[0m\u001b[0;34m=\u001b[0m\u001b[0;34m[\u001b[0m\u001b[0mbw\u001b[0m\u001b[0;34m.\u001b[0m\u001b[0mMethod\u001b[0m\u001b[0;34m(\u001b[0m\u001b[0mmethod\u001b[0m\u001b[0;34m)\u001b[0m\u001b[0;34m.\u001b[0m\u001b[0mfilepath_processed\u001b[0m\u001b[0;34m(\u001b[0m\u001b[0;34m)\u001b[0m\u001b[0;34m]\u001b[0m\u001b[0;34m\u001b[0m\u001b[0;34m\u001b[0m\u001b[0m\n\u001b[0m\u001b[1;32m     10\u001b[0m     )\n\u001b[1;32m     11\u001b[0m     \u001b[0mindependent_lca\u001b[0m\u001b[0;34m.\u001b[0m\u001b[0mlci\u001b[0m\u001b[0;34m(\u001b[0m\u001b[0;34m)\u001b[0m\u001b[0;34m\u001b[0m\u001b[0;34m\u001b[0m\u001b[0m\n",
      "\u001b[0;32m~/miniconda/envs/bw2/lib/python3.7/site-packages/bw2calc/lca.py\u001b[0m in \u001b[0;36m__init__\u001b[0;34m(self, demand, method, weighting, normalization, database_filepath, log_config, presamples, seed, override_presamples_seed)\u001b[0m\n\u001b[1;32m    107\u001b[0m \u001b[0;34m\u001b[0m\u001b[0m\n\u001b[1;32m    108\u001b[0m         self.logger.info(\"Created LCA object\", extra={\n\u001b[0;32m--> 109\u001b[0;31m             \u001b[0;34m'demand'\u001b[0m\u001b[0;34m:\u001b[0m \u001b[0mwrap_functional_unit\u001b[0m\u001b[0;34m(\u001b[0m\u001b[0mself\u001b[0m\u001b[0;34m.\u001b[0m\u001b[0mdemand\u001b[0m\u001b[0;34m)\u001b[0m\u001b[0;34m,\u001b[0m\u001b[0;34m\u001b[0m\u001b[0;34m\u001b[0m\u001b[0m\n\u001b[0m\u001b[1;32m    110\u001b[0m             \u001b[0;34m'database_filepath'\u001b[0m\u001b[0;34m:\u001b[0m \u001b[0mself\u001b[0m\u001b[0;34m.\u001b[0m\u001b[0mdatabase_filepath\u001b[0m\u001b[0;34m,\u001b[0m\u001b[0;34m\u001b[0m\u001b[0;34m\u001b[0m\u001b[0m\n\u001b[1;32m    111\u001b[0m             \u001b[0;34m'method'\u001b[0m\u001b[0;34m:\u001b[0m \u001b[0mself\u001b[0m\u001b[0;34m.\u001b[0m\u001b[0mmethod\u001b[0m\u001b[0;34m,\u001b[0m\u001b[0;34m\u001b[0m\u001b[0;34m\u001b[0m\u001b[0m\n",
      "\u001b[0;32m~/miniconda/envs/bw2/lib/python3.7/site-packages/bw2calc/utils.py\u001b[0m in \u001b[0;36mwrap_functional_unit\u001b[0;34m(dct)\u001b[0m\n\u001b[1;32m    196\u001b[0m     return [{'database': k[0],\n\u001b[1;32m    197\u001b[0m              \u001b[0;34m'code'\u001b[0m\u001b[0;34m:\u001b[0m \u001b[0mk\u001b[0m\u001b[0;34m[\u001b[0m\u001b[0;36m1\u001b[0m\u001b[0;34m]\u001b[0m\u001b[0;34m,\u001b[0m\u001b[0;34m\u001b[0m\u001b[0;34m\u001b[0m\u001b[0m\n\u001b[0;32m--> 198\u001b[0;31m              'amount': v} for k, v in dct.items()]\n\u001b[0m\u001b[1;32m    199\u001b[0m \u001b[0;34m\u001b[0m\u001b[0m\n\u001b[1;32m    200\u001b[0m \u001b[0;34m\u001b[0m\u001b[0m\n",
      "\u001b[0;32m~/miniconda/envs/bw2/lib/python3.7/site-packages/bw2calc/utils.py\u001b[0m in \u001b[0;36m<listcomp>\u001b[0;34m(.0)\u001b[0m\n\u001b[1;32m    196\u001b[0m     return [{'database': k[0],\n\u001b[1;32m    197\u001b[0m              \u001b[0;34m'code'\u001b[0m\u001b[0;34m:\u001b[0m \u001b[0mk\u001b[0m\u001b[0;34m[\u001b[0m\u001b[0;36m1\u001b[0m\u001b[0;34m]\u001b[0m\u001b[0;34m,\u001b[0m\u001b[0;34m\u001b[0m\u001b[0;34m\u001b[0m\u001b[0m\n\u001b[0;32m--> 198\u001b[0;31m              'amount': v} for k, v in dct.items()]\n\u001b[0m\u001b[1;32m    199\u001b[0m \u001b[0;34m\u001b[0m\u001b[0m\n\u001b[1;32m    200\u001b[0m \u001b[0;34m\u001b[0m\u001b[0m\n",
      "\u001b[0;31mTypeError\u001b[0m: 'int' object is not subscriptable"
     ]
    }
   ],
   "source": [
    "for method in some_methods:\n",
    "    original_lca = bw.LCA({some_inputs[0]: 1}, method=method)\n",
    "    original_lca.lci()\n",
    "    original_lca.lcia()\n",
    "    \n",
    "    independent_lca = IndependentLCA(\n",
    "        {bw.mapping[some_inputs[0]]: 1}, \n",
    "        database_filepath=processed_array_filepaths,\n",
    "        method=[bw.Method(method).filepath_processed()]\n",
    "    )\n",
    "    independent_lca.lci()\n",
    "    independent_lca.lcia()"
   ]
  },
  {
   "cell_type": "code",
   "execution_count": 26,
   "metadata": {},
   "outputs": [],
   "source": [
    "def map_model_outputs(list_of_keys, offset=100_000_000):\n",
    "    \"\"\"Generate a mapping dictionary of ``(key: integer)`` for use in preparation of processed arrays.\n",
    "    \n",
    "    Requires Python 3.6 for fancy number stuff :)\"\"\"\n",
    "    return {key: offset + index for index, key in enumerate(sorted(set(list_of_keys)))}"
   ]
  },
  {
   "cell_type": "code",
   "execution_count": 20,
   "metadata": {},
   "outputs": [],
   "source": [
    "from bw2data.utils import TYPE_DICTIONARY, MAX_INT_32\n",
    "import numpy as np\n",
    "\n",
    "\n",
    "def process_list_of_exchanges(data, filepath):\n",
    "    \"\"\"Given an iterable of ``(input_key, output_key, type, amount)``, generate a Brightway processed array at the given filepath.\n",
    "    \n",
    "    The input and output keys must already be mapped, i.e. they must be integers between 0 and 4294967295. Be careful to ensure they don't overlap with other keys used!\"\"\"\n",
    "    dtype = [\n",
    "        ('input', np.uint32),\n",
    "        ('output', np.uint32),\n",
    "        ('row', np.uint32),\n",
    "        ('col', np.uint32),\n",
    "        ('type', np.uint8),\n",
    "        ('amount', np.float32),\n",
    "    ]\n",
    "    arr = np.zeros((len(data),), dtype=dtype)\n",
    "    \n",
    "    for index, line in enumerate(data):\n",
    "        arr[index] = (\n",
    "            line['input'],\n",
    "            line['output'],\n",
    "            MAX_INT_32,\n",
    "            MAX_INT_32,\n",
    "            TYPE_DICTIONARY[line[\"type\"]],\n",
    "            line['amount'],\n",
    "        )\n",
    "\n",
    "    arr.sort(order=['input', 'output', 'amount'])\n",
    "    np.save(filepath, arr, allow_pickle=False)"
   ]
  },
  {
   "cell_type": "code",
   "execution_count": null,
   "metadata": {},
   "outputs": [],
   "source": []
  }
 ],
 "metadata": {
  "kernelspec": {
   "display_name": "Python 3",
   "language": "python",
   "name": "python3"
  },
  "language_info": {
   "codemirror_mode": {
    "name": "ipython",
    "version": 3
   },
   "file_extension": ".py",
   "mimetype": "text/x-python",
   "name": "python",
   "nbconvert_exporter": "python",
   "pygments_lexer": "ipython3",
   "version": "3.7.3"
  },
  "toc": {
   "colors": {
    "hover_highlight": "#DAA520",
    "running_highlight": "#FF0000",
    "selected_highlight": "#FFD700"
   },
   "moveMenuLeft": true,
   "nav_menu": {
    "height": "81px",
    "width": "252px"
   },
   "navigate_menu": true,
   "number_sections": true,
   "sideBar": true,
   "threshold": 4,
   "toc_cell": false,
   "toc_section_display": "block",
   "toc_window_display": false
  }
 },
 "nbformat": 4,
 "nbformat_minor": 2
}
