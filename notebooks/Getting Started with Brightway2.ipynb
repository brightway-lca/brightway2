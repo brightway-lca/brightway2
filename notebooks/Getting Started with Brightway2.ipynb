{
 "cells": [
  {
   "cell_type": "markdown",
   "metadata": {},
   "source": [
    "# Getting Started with Brightway2\n",
    "\n",
    "This is an introduction to Brightway2, an open source framework for Life Cycle Assessment. This notebook will cover the basics of databases and activities and looking at LCI databases and LCIA methods.\n",
    "\n",
    "At the end of this notebook, you will be able to:\n",
    "\n",
    "* Import basic data like the biosphere database\n",
    "* Import and explore the [FORWAST](http://forwast.brgm.fr/) database\n",
    "\n",
    "If you finish the notebook, you get a kitten.\n",
    "\n",
    "This introduction is written in an Jupyter notebook, an online scientific notebook which combines, text, data, images, and programming. It is amazing, and could be a fantastic way to do and communicate advanced LCA work. See the [documentation](http://ipython.org/ipython-doc/dev/interactive/htmlnotebook.html) and a list of [awesome examples](https://github.com/ipython/ipython/wiki/A-gallery-of-interesting-IPython-Notebooks). Please see the [Brightway2 documentation](https://docs.brightwaylca.org) for a complete list of [example Brightway2 notebooks](https://docs.brightwaylca.org).\n",
    "\n",
    "You should **download this notebook** and run it cell by cell - don't just read it on the web!"
   ]
  },
  {
   "cell_type": "markdown",
   "metadata": {},
   "source": [
    "# Starting at the beginning\n",
    "\n",
    "Import brightway2."
   ]
  },
  {
   "cell_type": "code",
   "execution_count": 1,
   "metadata": {
    "collapsed": false
   },
   "outputs": [
    {
     "name": "stderr",
     "output_type": "stream",
     "text": [
      "Warning: bad escape \\s\n"
     ]
    }
   ],
   "source": [
    "from brightway2 import *"
   ]
  },
  {
   "cell_type": "markdown",
   "metadata": {},
   "source": [
    "If you get a warning like `Warning: bad escape \\s`, don't worry! You can just ignore it. It is coming from an imported dependency."
   ]
  },
  {
   "cell_type": "markdown",
   "metadata": {},
   "source": [
    "## Python 2 and 3\n",
    "\n",
    "Brightway2 is compatible with both Python 2 and 3. If you are using Python 2, I strongly recommend you execute the following cell, which will make all your text string unicode without have to type the letter ``\"u\"`` in front of each text string. On Python 3, the following **doesn't do anything** - your text strings are unicode by default.\n",
    "\n",
    "I won't include this cell in future notebooks, but you should copy and paste it if you will use Python 2."
   ]
  },
  {
   "cell_type": "code",
   "execution_count": 2,
   "metadata": {
    "collapsed": false
   },
   "outputs": [],
   "source": [
    "from __future__ import unicode_literals, print_function"
   ]
  },
  {
   "cell_type": "markdown",
   "metadata": {},
   "source": [
    "## Projects\n",
    "\n",
    "In Brightway2, a project is a separate directory with its own copies of LCI databases, LCIA methods, and any other data you use. Each research project or article should probably be its own project, so that any changes you want to make will not interfere with your other work.\n",
    "\n",
    "The default project is called ``default``:"
   ]
  },
  {
   "cell_type": "code",
   "execution_count": 3,
   "metadata": {
    "collapsed": false
   },
   "outputs": [
    {
     "data": {
      "text/plain": [
       "'default'"
      ]
     },
     "execution_count": 3,
     "metadata": {},
     "output_type": "execute_result"
    }
   ],
   "source": [
    "projects.current"
   ]
  },
  {
   "cell_type": "markdown",
   "metadata": {},
   "source": [
    "Each project is stored in a separate directory in a place in your filesystem reserved for application data. It varies depending on the operating system; on OS X, this is the `Library` directory in your user home directory:"
   ]
  },
  {
   "cell_type": "code",
   "execution_count": 4,
   "metadata": {
    "collapsed": false
   },
   "outputs": [
    {
     "data": {
      "text/plain": [
       "'/Users/cmutel/Library/Application Support/Brightway3/default.c21f969b5f03d33d43e04f8f136e7682'"
      ]
     },
     "execution_count": 4,
     "metadata": {},
     "output_type": "execute_result"
    }
   ],
   "source": [
    "projects.dir"
   ]
  },
  {
   "cell_type": "markdown",
   "metadata": {},
   "source": [
    "However, you really need to care about the specifics. \n",
    "\n",
    "We can create a new project:"
   ]
  },
  {
   "cell_type": "code",
   "execution_count": 5,
   "metadata": {
    "collapsed": true
   },
   "outputs": [],
   "source": [
    "projects.set_current(\"BW2 introduction\")"
   ]
  },
  {
   "cell_type": "markdown",
   "metadata": {},
   "source": [
    "And list the available projects:"
   ]
  },
  {
   "cell_type": "code",
   "execution_count": 6,
   "metadata": {
    "collapsed": false
   },
   "outputs": [
    {
     "data": {
      "text/plain": [
       "Brightway2 projects manager with 34 objects, including:\n",
       "\t1\n",
       "\t3.2\n",
       "\t7\n",
       "\t8\n",
       "\tBW2 Tutorial 1\n",
       "\tBW2 Tutorial 4\n",
       "\tBW2 introduction\n",
       "\tCAES\n",
       "\tClass 2\n",
       "\tClass 3\n",
       "Use `sorted(projects)` to get full list, `projects.report()` to get\n",
       "\ta report on all projects."
      ]
     },
     "execution_count": 6,
     "metadata": {},
     "output_type": "execute_result"
    }
   ],
   "source": [
    "projects"
   ]
  },
  {
   "cell_type": "markdown",
   "metadata": {},
   "source": [
    "## Getting basic data\n",
    "\n",
    "Let's import some basic data - a database of elementary flows, some LCIA methods, and some metadata used for importing other databases:"
   ]
  },
  {
   "cell_type": "code",
   "execution_count": 7,
   "metadata": {
    "collapsed": false
   },
   "outputs": [
    {
     "name": "stdout",
     "output_type": "stream",
     "text": [
      "Creating default biosphere\n",
      "\n"
     ]
    },
    {
     "name": "stderr",
     "output_type": "stream",
     "text": [
      "Writing activities to SQLite3 database:\n",
      "0%                          100%\n",
      "[#######                       ] | ETA: 00:00:00"
     ]
    },
    {
     "name": "stdout",
     "output_type": "stream",
     "text": [
      "Applying strategy: normalize_units\n",
      "Applying strategy: drop_unspecified_subcategories\n",
      "Applied 2 strategies in 0.01 seconds\n"
     ]
    },
    {
     "name": "stderr",
     "output_type": "stream",
     "text": [
      "[##############################] | ETA: 00:00:00\n",
      "Total time elapsed: 00:00:00\n"
     ]
    },
    {
     "name": "stdout",
     "output_type": "stream",
     "text": [
      "Title: Writing activities to SQLite3 database:\n",
      "  Started: 07/15/2016 10:26:06\n",
      "  Finished: 07/15/2016 10:26:07\n",
      "  Total time elapsed: 00:00:00\n",
      "  CPU %: 94.70\n",
      "  Memory %: 1.64\n",
      "Created database: biosphere3\n",
      "Creating default LCIA methods\n",
      "\n",
      "Applying strategy: normalize_units\n",
      "Applying strategy: set_biosphere_type\n",
      "Applying strategy: drop_unspecified_subcategories\n",
      "Applying strategy: link_iterable_by_fields\n",
      "Applied 4 strategies in 2.02 seconds\n",
      "Wrote 665 LCIA methods with 169551 characterization factors\n",
      "Creating core data migrations\n",
      "\n"
     ]
    }
   ],
   "source": [
    "bw2setup()"
   ]
  },
  {
   "cell_type": "markdown",
   "metadata": {},
   "source": [
    "The iPython notebook by default prints all logged messages. On your machine, there might be messages tracking how long it took to download and process the biosphere and methods packages.\n",
    "\n",
    "## A biosphere dataset\n",
    "\n",
    "The ``biosphere3`` database was installed. It is called the ``biosphere3`` database because elementary flow names are normalized to the ecoinvent 3 standard.\n",
    "\n",
    "Let's see how many flows there are in this database, and then look at one random flow:"
   ]
  },
  {
   "cell_type": "code",
   "execution_count": 8,
   "metadata": {
    "collapsed": false
   },
   "outputs": [
    {
     "name": "stdout",
     "output_type": "stream",
     "text": [
      "Number of flows in `biosphere3`: 4018\n",
      "'Trimethylamine' (kilogram, None, ('water', 'ground-, long-term'))\n"
     ]
    }
   ],
   "source": [
    "db = Database(\"biosphere3\")\n",
    "print(\"Number of flows in `biosphere3`:\", len(db))\n",
    "random_flow = db.random()\n",
    "print(random_flow)"
   ]
  },
  {
   "cell_type": "code",
   "execution_count": 9,
   "metadata": {
    "collapsed": false
   },
   "outputs": [
    {
     "name": "stdout",
     "output_type": "stream",
     "text": [
      "Trimethylamine\n",
      "kilogram\n",
      "('water', 'ground-, long-term')\n"
     ]
    }
   ],
   "source": [
    "print(random_flow['name'])\n",
    "print(random_flow['unit'])\n",
    "print(random_flow['categories'])"
   ]
  },
  {
   "cell_type": "markdown",
   "metadata": {},
   "source": [
    "Brightway2 uses keys to identify datasets. Each dataset is identified by a combination of its database and some unique code. The code can be anything - a number, a UUID, or just a name. All of the following would be valid keys:\n",
    "\n",
    "    (\"biosphere\", \"f66d00944691d54d6b072310b6f9de37\")\n",
    "    (\"my new database\", \"building my dream house\")\n",
    "    (\"skynet\", 14832)"
   ]
  },
  {
   "cell_type": "code",
   "execution_count": 10,
   "metadata": {
    "collapsed": false
   },
   "outputs": [
    {
     "data": {
      "text/plain": [
       "('biosphere3', '6eebb3c4-306f-4dc4-afb1-2c8fdf0c64ff')"
      ]
     },
     "execution_count": 10,
     "metadata": {},
     "output_type": "execute_result"
    }
   ],
   "source": [
    "random_flow.key"
   ]
  },
  {
   "cell_type": "markdown",
   "metadata": {},
   "source": [
    "## An LCIA method dataset\n",
    "\n",
    "We also installed a large number of LCIA methods:"
   ]
  },
  {
   "cell_type": "code",
   "execution_count": 11,
   "metadata": {
    "collapsed": false
   },
   "outputs": [
    {
     "data": {
      "text/plain": [
       "665"
      ]
     },
     "execution_count": 11,
     "metadata": {},
     "output_type": "execute_result"
    }
   ],
   "source": [
    "len(methods)"
   ]
  },
  {
   "cell_type": "markdown",
   "metadata": {},
   "source": [
    "Because LCIA methods have many different impact categories, they are identified not by a single label, but by a list of labels. Let's look at an example:"
   ]
  },
  {
   "cell_type": "code",
   "execution_count": 12,
   "metadata": {
    "collapsed": false
   },
   "outputs": [
    {
     "data": {
      "text/plain": [
       "('eco-indicator 99, (H,A)', 'human health', 'climate change')"
      ]
     },
     "execution_count": 12,
     "metadata": {},
     "output_type": "execute_result"
    }
   ],
   "source": [
    "method_key = methods.random()\n",
    "method_key"
   ]
  },
  {
   "cell_type": "markdown",
   "metadata": {},
   "source": [
    "In this case, the LCIA method has three levels of specificity, from the general name (first level) to the specific impact category (last level). There is nothing magic about three levels - you could have one, or one hundred - but Brightway2 expects that LCIA methods will be a list of text labels ``('like', 'this')``.\n",
    "\n",
    "Note that method identifiers need to be a special kind of list that uses `()` instead of `[]`. These are called `tuples`. To create a tuple with only one element, you need to add a comma, to distinguish it from a set of parentheses:"
   ]
  },
  {
   "cell_type": "code",
   "execution_count": 13,
   "metadata": {
    "collapsed": false
   },
   "outputs": [
    {
     "name": "stdout",
     "output_type": "stream",
     "text": [
      "3\n",
      "1\n"
     ]
    },
    {
     "data": {
      "text/plain": [
       "(None, tuple)"
      ]
     },
     "execution_count": 13,
     "metadata": {},
     "output_type": "execute_result"
    }
   ],
   "source": [
    "print (1 + 2)           # This is not a tuple\n",
    "print (1,), type((1,))  # This is a tuple with one element"
   ]
  },
  {
   "cell_type": "markdown",
   "metadata": {},
   "source": [
    "We can load the method data, show a sample.\n",
    "\n",
    "Method data has the format:\n",
    "\n",
    "    biosphere flow, numeric value, location\n",
    "\n",
    "Where:\n",
    "\n",
    "* `biosphere flow` is a dataset from any database which is used as a biosphere flow.\n",
    "* `numeric value` can be either a fixed number or an uncertainty distribution.\n",
    "* `location` is optional; the default value is that this characterization factor is valid everywhere.\n",
    "\n",
    "The method data format is pretty flexible, and the following are all acceptable:\n",
    "\n",
    "    [('biosphere', 'CO2'), 1.0],                                             # Default location\n",
    "    [('biosphere', 'CO2'), 1.0, 'Australia, mate!'],                         # Custom location\n",
    "    [('biosphere', 'CO2'), 1.0, ('Population density', 'Raster cell 4,2')],  # Location inside a geocollection\n",
    "    [('biosphere', 'CO2'), {'amount': 1.0, 'uncertainty type': 0}],          # Uncertain characterization factor\n",
    "\n",
    "[Geocollections](http://brightway2-regional.readthedocs.org/#spatial-scales-geocollections) are needed for regionalized LCA.\n",
    "\n",
    "If you are wondering why we need to identify biosphere flows like `('biosphere', '2fe885840cebfcc7d56b607b0acd9359')`, this is a good question! The short answer is that there is no single field that uniquely identifies biosphere flows or activities. The longer answer [is in the manual](http://brightway2.readthedocs.org/en/latest/lci.html#uniquely-identifying-datasets).\n",
    "\n",
    "Brightway2 is designed to be flexible enough for many different problems. Therefore, there are no limits on what constitutes a biosphere flow. Rather, anything that is linked to in a biosphere exchange will be put in the biosphere matrix. We installed a database called `biosphere3`, but you can define new flows in a database alongside process datasets, or create your own biosphere database."
   ]
  },
  {
   "cell_type": "code",
   "execution_count": 14,
   "metadata": {
    "collapsed": false
   },
   "outputs": [
    {
     "name": "stdout",
     "output_type": "stream",
     "text": [
      "Number of CFs: 175\n"
     ]
    },
    {
     "data": {
      "text/plain": [
       "[(('biosphere3', 'f4a1e10b-ed51-433e-a2f5-2a99f231a5e5'), 0.016327),\n",
       " (('biosphere3', '66ff5d22-17e2-4112-b486-3ea4e0191fba'), 0.016327),\n",
       " (('biosphere3', 'fa5512cf-04a2-4014-8e96-d3e2d137f0df'), 0.016327),\n",
       " (('biosphere3', '982b0510-96ac-4bcb-a758-e98006b95f4d'), 0.016327),\n",
       " (('biosphere3', '892f10da-7bf2-42b3-b171-221989661a05'), 0.016327),\n",
       " (('biosphere3', 'e259263c-d1f1-449f-bb9b-73c6d0a32a00'), 0.0054545),\n",
       " (('biosphere3', '16eeda8a-1ea2-408e-ab37-2648495058dd'), 0.0054545),\n",
       " (('biosphere3', 'aa7cac3a-3625-41d4-bc54-33e2cf11ec46'), 0.0054545),\n",
       " (('biosphere3', '349b29d1-3e58-4c66-98b9-9d1a076efd2e'), 0.0054545),\n",
       " (('biosphere3', 'f9749677-9c9f-4678-ab55-c607dfdc2cb9'), 0.0054545),\n",
       " (('biosphere3', 'e1c597cc-14cb-4ebb-af07-7a93a5b77d34'), 0.0054545),\n",
       " (('biosphere3', '6d89125e-e9b7-4d7e-a1fc-ada45dbd8815'), 0.0054545),\n",
       " (('biosphere3', '78eb1859-abd9-44c6-9ce3-f3b5b33d619c'), 0.0054545),\n",
       " (('biosphere3', 'e4e9febc-07c1-403d-8d3a-6707bb4d96e6'), 0.0054545),\n",
       " (('biosphere3', 'e8787b5e-d927-446d-81a9-f56977bbfeb4'), 0.0054545),\n",
       " (('biosphere3', '49c594c6-b6a8-42a3-95c5-cca812fda80b'), 0.0083636),\n",
       " (('biosphere3', 'a3beb5ac-5149-47f6-a035-53fc5030f10a'), 0.0083636),\n",
       " (('biosphere3', '099b36ab-4c03-4587-87f4-2f81e337afb8'), 0.0083636),\n",
       " (('biosphere3', 'ba2f3f82-c93a-47a5-822a-37ec97495275'), 0.0083636),\n",
       " (('biosphere3', '6edcc2df-88a3-48e1-83d8-ffc38d31c35b'), 0.0083636)]"
      ]
     },
     "execution_count": 14,
     "metadata": {},
     "output_type": "execute_result"
    }
   ],
   "source": [
    "method_data = Method(method_key).load()\n",
    "print(\"Number of CFs:\", len(method_data))\n",
    "method_data[:20]"
   ]
  },
  {
   "cell_type": "markdown",
   "metadata": {},
   "source": [
    "# Importing the FORWAST LCI database\n",
    "\n",
    "We will use the FORWAST database, as it is both a high quality, comprehensive LCI database, and freely available. [FORWAST](http://forwast.brgm.fr/Overview.asp) is a physical MRIO table for Europe. It can be downloaded directly from the [2.-0 website](http://lca-net.com/projects/show/forwast/).\n",
    "\n",
    "The following cell will download and install the FORWAST database. Note that an internet connection is required."
   ]
  },
  {
   "cell_type": "code",
   "execution_count": 15,
   "metadata": {
    "collapsed": false
   },
   "outputs": [
    {
     "name": "stderr",
     "output_type": "stream",
     "text": [
      "Writing activities to SQLite3 database:\n",
      "0%                          100%\n",
      "[##############################] | ETA: 00:00:00\n",
      "Total time elapsed: 00:00:05\n"
     ]
    },
    {
     "name": "stdout",
     "output_type": "stream",
     "text": [
      "Title: Writing activities to SQLite3 database:\n",
      "  Started: 07/15/2016 10:27:34\n",
      "  Finished: 07/15/2016 10:27:39\n",
      "  Total time elapsed: 00:00:05\n",
      "  CPU %: 86.20\n",
      "  Memory %: 3.53\n"
     ]
    },
    {
     "data": {
      "text/plain": [
       "[Brightway2 SQLiteBackend: forwast]"
      ]
     },
     "execution_count": 15,
     "metadata": {},
     "output_type": "execute_result"
    }
   ],
   "source": [
    "import zipfile\n",
    "import os\n",
    "from bw2data.utils import download_file\n",
    "\n",
    "filepath = download_file(\"forwast.bw2package.zip\", url=\"http://lca-net.com/wp-content/uploads/\")\n",
    "dirpath = os.path.dirname(filepath)\n",
    "zipfile.ZipFile(filepath).extractall(dirpath)\n",
    "BW2Package.import_file(os.path.join(dirpath, \"forwast.bw2package\"))"
   ]
  },
  {
   "cell_type": "markdown",
   "metadata": {},
   "source": [
    "# Searching datasets\n",
    "\n",
    "By default, every database is added to a search engine powered by [Whoosh](https://bitbucket.org/mchaput/whoosh/wiki/Home). Searching covers the following data fields:\n",
    "* `name`\n",
    "* `comment`\n",
    "* `product`\n",
    "* `categories`\n",
    "* `location`\n",
    "\n",
    "Searching is done by using the `Database.search` method."
   ]
  },
  {
   "cell_type": "code",
   "execution_count": 16,
   "metadata": {
    "collapsed": false
   },
   "outputs": [
    {
     "data": {
      "text/plain": [
       "['_26 Food preparations n.e.c., DK' (kilogram, GLO, ['Input Output', 'Denmark 2003']),\n",
       " '_26 Food preparations n.e.c., EU27' (kilogram, GLO, ['Input Output', 'EU27 2003']),\n",
       " '_92 Waste treatment, Incineration of waste, Food, DK' (kilogram, GLO, ['Input Output', 'Denmark 2003']),\n",
       " '112 Waste treatment, Composting of food waste, EU27' (kilogram, GLO, ['Input Output', 'EU27 2003']),\n",
       " '109 Waste treatment, Biogasification of food waste, EU27' (kilogram, GLO, ['Input Output', 'EU27 2003']),\n",
       " '103 Waste treatment, Composting of food waste, DK' (kilogram, GLO, ['Input Output', 'Denmark 2003']),\n",
       " '100 Waste treatment, Biogasification of food waste, DK' (kilogram, GLO, ['Input Output', 'Denmark 2003']),\n",
       " '101 Waste treatment, Incineration of waste, Food, EU27' (kilogram, GLO, ['Input Output', 'EU27 2003']),\n",
       " '116 Waste treatment, Landfill of waste, Food, EU27' (kilogram, GLO, ['Input Output', 'EU27 2003']),\n",
       " '107 Waste treatment, Landfill of waste, Food, DK' (kilogram, GLO, ['Input Output', 'Denmark 2003']),\n",
       " '114 Waste treatment, Waste water treatment, food, EU27' (kilogram, GLO, ['Input Output', 'EU27 2003']),\n",
       " '105 Waste treatment, Waste water treatment, food, DK' (kilogram, GLO, ['Input Output', 'Denmark 2003'])]"
      ]
     },
     "execution_count": 16,
     "metadata": {},
     "output_type": "execute_result"
    }
   ],
   "source": [
    "Database(\"forwast\").search(\"food\")"
   ]
  },
  {
   "cell_type": "markdown",
   "metadata": {},
   "source": [
    "Searches can also be filtered (where only the results that meet the specified criteria are *included*) or masked (where results that meet the specified criteria are *excluded*)."
   ]
  },
  {
   "cell_type": "markdown",
   "metadata": {},
   "source": [
    "By default we return 25 search results, but this can be changed by specifying the `limit` keyword argument.\n",
    "\n",
    "You can also use `*` wild cards in search queries:"
   ]
  },
  {
   "cell_type": "code",
   "execution_count": 17,
   "metadata": {
    "collapsed": false
   },
   "outputs": [
    {
     "data": {
      "text/plain": [
       "['Lithium carbonate' (kilogram, None, ('air',)),\n",
       " 'Carbon-14' (kilo Becquerel, None, ('water', 'surface water')),\n",
       " 'Carbon monoxide, from soil or biomass stock' (kilogram, None, ('air', 'low population density, long-term')),\n",
       " 'TOC, Total Organic Carbon' (kilogram, None, ('water', 'surface water')),\n",
       " 'Carbon dioxide, fossil' (kilogram, None, ('air', 'urban air close to ground')),\n",
       " 'Carbaryl' (kilogram, None, ('water', 'surface water')),\n",
       " 'Carbon-14' (kilo Becquerel, None, ('air', 'non-urban air or from high stacks')),\n",
       " 'Carbon monoxide, non-fossil' (kilogram, None, ('air', 'low population density, long-term')),\n",
       " 'Carbon dioxide, to soil or biomass stock' (kilogram, None, ('soil',)),\n",
       " 'Carbonate' (kilogram, None, ('water', 'surface water'))]"
      ]
     },
     "execution_count": 17,
     "metadata": {},
     "output_type": "execute_result"
    }
   ],
   "source": [
    "Database(\"biosphere3\").search(\"carb*\", limit=10)"
   ]
  },
  {
   "cell_type": "markdown",
   "metadata": {},
   "source": [
    "You can specify inclusion or exclusion criteria for fields with `filter` and `mask`:"
   ]
  },
  {
   "cell_type": "code",
   "execution_count": 18,
   "metadata": {
    "collapsed": false
   },
   "outputs": [
    {
     "name": "stdout",
     "output_type": "stream",
     "text": [
      "Excluding 77 filtered results\n"
     ]
    },
    {
     "data": {
      "text/plain": [
       "['Carbon' (kilogram, None, ('soil', 'forestry')),\n",
       " 'Carbon dioxide, to soil or biomass stock' (kilogram, None, ('soil', 'forestry'))]"
      ]
     },
     "execution_count": 18,
     "metadata": {},
     "output_type": "execute_result"
    }
   ],
   "source": [
    "Database(\"biosphere3\").search(\"carbon\", filter={\"categories\": 'forestry'})"
   ]
  },
  {
   "cell_type": "code",
   "execution_count": 19,
   "metadata": {
    "collapsed": false
   },
   "outputs": [
    {
     "name": "stdout",
     "output_type": "stream",
     "text": [
      "Excluding 2 filtered results\n"
     ]
    },
    {
     "data": {
      "text/plain": [
       "['Carbon' (kilogram, None, ('soil', 'agricultural')),\n",
       " 'Carbon' (kilogram, None, ('soil',)),\n",
       " 'Carbon' (kilogram, None, ('soil', 'industrial')),\n",
       " 'Carbon-14' (kilo Becquerel, None, ('water', 'surface water')),\n",
       " 'Carbon-14' (kilo Becquerel, None, ('air', 'non-urban air or from high stacks')),\n",
       " 'Carbon-14' (kilo Becquerel, None, ('air', 'urban air close to ground')),\n",
       " 'Carbon disulfide' (kilogram, None, ('water', 'ground-')),\n",
       " 'Carbon-14' (kilo Becquerel, None, ('water', 'ground-')),\n",
       " 'Carbon disulfide' (kilogram, None, ('water', 'ocean')),\n",
       " 'Elemental carbon' (kilogram, None, ('air', 'urban air close to ground'))]"
      ]
     },
     "execution_count": 19,
     "metadata": {},
     "output_type": "execute_result"
    }
   ],
   "source": [
    "Database(\"biosphere3\").search(\"carbon\", limit=10, mask={\"categories\": 'forestry'})"
   ]
  },
  {
   "cell_type": "markdown",
   "metadata": {},
   "source": [
    "Finally, you can facet search results by another field. This is a bit complicated, so test your queries before assuming certain behaviour."
   ]
  },
  {
   "cell_type": "code",
   "execution_count": 20,
   "metadata": {
    "collapsed": false
   },
   "outputs": [
    {
     "name": "stdout",
     "output_type": "stream",
     "text": [
      "Facet term: term \n",
      "\t ['Carbon-14' (kilo Becquerel, None, ('air', 'low population density, long-term')), 'Carbon disulfide' (kilogram, None, ('air', 'low population density, long-term')), 'Carbon dioxide, fossil' (kilogram, None, ('air', 'low population density, long-term'))] \n",
      "\n",
      "Facet term: urban \n",
      "\t ['Carbon-14' (kilo Becquerel, None, ('air', 'non-urban air or from high stacks')), 'Carbon-14' (kilo Becquerel, None, ('air', 'urban air close to ground')), 'Elemental carbon' (kilogram, None, ('air', 'urban air close to ground'))] \n",
      "\n",
      "Facet term: water \n",
      "\t ['Carbon-14' (kilo Becquerel, None, ('water', 'surface water')), 'Carbon disulfide' (kilogram, None, ('water', 'ground-')), 'Carbon-14' (kilo Becquerel, None, ('water', 'ground-'))] \n",
      "\n",
      "Facet term: indoor \n",
      "\t ['Carbon monoxide, from soil or biomass stock' (kilogram, None, ('air', 'indoor')), 'Carbon dioxide, from soil or biomass stock' (kilogram, None, ('air', 'indoor'))] \n",
      "\n",
      "Facet term: resource \n",
      "\t ['Carbon dioxide, in air' (kilogram, None, ('natural resource', 'in air')), 'Carbon, organic, in soil or biomass stock' (kilogram, None, ('natural resource', 'in ground'))] \n",
      "\n",
      "Facet term: soil \n",
      "\t ['Carbon' (kilogram, None, ('soil', 'agricultural')), 'Carbon' (kilogram, None, ('soil', 'forestry')), 'Carbon' (kilogram, None, ('soil',))] \n",
      "\n",
      "Facet term: upper \n",
      "\t ['Carbon-14' (kilo Becquerel, None, ('air', 'lower stratosphere + upper troposphere')), 'Carbon disulfide' (kilogram, None, ('air', 'lower stratosphere + upper troposphere')), 'Carbon monoxide, fossil' (kilogram, None, ('air', 'lower stratosphere + upper troposphere'))] \n",
      "\n",
      "Facet term: air \n",
      "\t ['Carbon-14' (kilo Becquerel, None, ('air',)), 'Carbon disulfide' (kilogram, None, ('air',)), 'Carbon dioxide, fossil' (kilogram, None, ('air',))] \n",
      "\n"
     ]
    }
   ],
   "source": [
    "sr = Database(\"biosphere3\").search(\"carbon\", facet=\"categories\")\n",
    "for key, value in sr.items():\n",
    "    print(\"Facet term:\", key, \"\\n\\t\", value[:3], \"\\n\")"
   ]
  },
  {
   "cell_type": "markdown",
   "metadata": {},
   "source": [
    "## Changing iteration order\n",
    "\n",
    "You can also change the way that processes are iterated over in the database. The default order is random:"
   ]
  },
  {
   "cell_type": "code",
   "execution_count": 21,
   "metadata": {
    "collapsed": false
   },
   "outputs": [
    {
     "name": "stdout",
     "output_type": "stream",
     "text": [
      "'_34 Paper and paper products, DK' (kilogram, GLO, ['Input Output', 'Denmark 2003'])\n",
      "'_73 Furniture and other manufactured goods n.e.c., EU27' (kilogram, GLO, ['Input Output', 'EU27 2003'])\n",
      "'_79 Cargo handling, harbours and travel agencies, DK' (EUR2003, GLO, ['Input Output', 'Denmark 2003'])\n",
      "'__8 Recycling of waste wood, EU27' (kilogram, GLO, ['Input Output', 'EU27 2003'])\n",
      "'_93 Waste treatment, Incineration of waste, Paper, DK' (kilogram, GLO, ['Input Output', 'Denmark 2003'])\n",
      "'_44 Rubber and plastic products, EU27' (kilogram, GLO, ['Input Output', 'EU27 2003'])\n",
      "'_47 Concrete, asphalt and other mineral products, DK' (kilogram, GLO, ['Input Output', 'Denmark 2003'])\n",
      "'136 Household use, Health care, EU27' (EUR2003, GLO, ['Input Output', 'EU27 2003'])\n",
      "'_24 Sugar, EU27' (kilogram, GLO, ['Input Output', 'EU27 2003'])\n",
      "'_22 Vegetable and animal oils and fats, DK' (kilogram, GLO, ['Input Output', 'Denmark 2003'])\n"
     ]
    }
   ],
   "source": [
    "db = Database(\"forwast\")\n",
    "\n",
    "def print_10(db):\n",
    "    for i, x in enumerate(db):\n",
    "        if i < 10:\n",
    "            print(x)\n",
    "        else:\n",
    "            break\n",
    "            \n",
    "print_10(db)"
   ]
  },
  {
   "cell_type": "code",
   "execution_count": 22,
   "metadata": {
    "collapsed": false
   },
   "outputs": [
    {
     "name": "stdout",
     "output_type": "stream",
     "text": [
      "'114 Waste treatment, Waste water treatment, food, EU27' (kilogram, GLO, ['Input Output', 'EU27 2003'])\n",
      "'_95 Computer and related services, EU27' (EUR2003, GLO, ['Input Output', 'EU27 2003'])\n",
      "'117 Waste treatment, Landfill of waste, Paper, EU27' (kilogram, GLO, ['Input Output', 'EU27 2003'])\n",
      "'_53 Copper basic, virgin, DK' (kilogram, GLO, ['Input Output', 'Denmark 2003'])\n",
      "'__1 Bovine meat and milk, DK' (kilogram, GLO, ['Input Output', 'Denmark 2003'])\n",
      "'_43 Chemicals n.e.c., EU27' (kilogram, GLO, ['Input Output', 'EU27 2003'])\n",
      "'_83 Services auxiliary to financial intermediation, DK' (EUR2003, GLO, ['Input Output', 'Denmark 2003'])\n",
      "'_17 Meat products, Bovine, DK' (kilogram, GLO, ['Input Output', 'Denmark 2003'])\n",
      "'_48 Recycling of concrete, asphalt and other mineral products, DK' (kilogram, GLO, ['Input Output', 'Denmark 2003'])\n",
      "'__5 Crops n.e.c., EU27' (kilogram, GLO, ['Input Output', 'EU27 2003'])\n"
     ]
    }
   ],
   "source": [
    "print_10(db)"
   ]
  },
  {
   "cell_type": "markdown",
   "metadata": {},
   "source": [
    "You can sort by `location`, `name`, `product` (reference product), or `type`, by specifying the `order_by` property."
   ]
  },
  {
   "cell_type": "code",
   "execution_count": 23,
   "metadata": {
    "collapsed": false
   },
   "outputs": [
    {
     "name": "stdout",
     "output_type": "stream",
     "text": [
      "'100 Health and social work, EU27' (EUR2003, GLO, ['Input Output', 'EU27 2003'])\n",
      "'100 Waste treatment, Biogasification of food waste, DK' (kilogram, GLO, ['Input Output', 'Denmark 2003'])\n",
      "'101 Waste treatment, Biogasification of paper, DK' (kilogram, GLO, ['Input Output', 'Denmark 2003'])\n",
      "'101 Waste treatment, Incineration of waste, Food, EU27' (kilogram, GLO, ['Input Output', 'EU27 2003'])\n",
      "'102 Waste treatment, Biogasification of sewage slugde, DK' (kilogram, GLO, ['Input Output', 'Denmark 2003'])\n",
      "'102 Waste treatment, Incineration of waste, Paper, EU27' (kilogram, GLO, ['Input Output', 'EU27 2003'])\n",
      "'103 Waste treatment, Composting of food waste, DK' (kilogram, GLO, ['Input Output', 'Denmark 2003'])\n",
      "'103 Waste treatment, Incineration of waste, Plastic, EU27' (kilogram, GLO, ['Input Output', 'EU27 2003'])\n",
      "'104 Waste treatment, Composting of paper and wood, DK' (kilogram, GLO, ['Input Output', 'Denmark 2003'])\n",
      "'104 Waste treatment, Incineration of waste, Metals, EU27' (kilogram, GLO, ['Input Output', 'EU27 2003'])\n"
     ]
    }
   ],
   "source": [
    "db.order_by = \"name\"\n",
    "print_10(db)"
   ]
  },
  {
   "cell_type": "markdown",
   "metadata": {},
   "source": [
    "If the above seems wrong, remember that the names start with `100`, `101`, etc.\n",
    "\n",
    "Set `.order_by = None` to remove any ordering."
   ]
  },
  {
   "cell_type": "code",
   "execution_count": 24,
   "metadata": {
    "collapsed": true
   },
   "outputs": [],
   "source": [
    "db.order_by = None"
   ]
  },
  {
   "cell_type": "markdown",
   "metadata": {},
   "source": [
    "Because accessing activities in the database is quite fast, you can also filter the activities you want by just iterating over the entire database:"
   ]
  },
  {
   "cell_type": "code",
   "execution_count": 25,
   "metadata": {
    "collapsed": false
   },
   "outputs": [
    {
     "data": {
      "text/plain": [
       "['_66 Electricity, steam and hot water, DK' (kilowatt hour, GLO, ['Input Output', 'Denmark 2003']),\n",
       " '_75 Electricity, steam and hot water, EU27' (kilowatt hour, GLO, ['Input Output', 'EU27 2003']),\n",
       " '_59 Electrical machinery n.e.c., DK' (kilogram, GLO, ['Input Output', 'Denmark 2003']),\n",
       " '_68 Electrical machinery n.e.c., EU27' (kilogram, GLO, ['Input Output', 'EU27 2003'])]"
      ]
     },
     "execution_count": 25,
     "metadata": {},
     "output_type": "execute_result"
    }
   ],
   "source": [
    "my_activities = [x for x in db if 'Electr' in x['name']]\n",
    "my_activities"
   ]
  },
  {
   "cell_type": "markdown",
   "metadata": {},
   "source": [
    "# Basic LCA calculations\n",
    "\n",
    "Let's pick and random process and LCIA method:"
   ]
  },
  {
   "cell_type": "code",
   "execution_count": 26,
   "metadata": {
    "collapsed": false
   },
   "outputs": [
    {
     "data": {
      "text/plain": [
       "'113 Waste treatment, Landfill of waste, Metals nec, DK' (kilogram, GLO, ['Input Output', 'Denmark 2003'])"
      ]
     },
     "execution_count": 26,
     "metadata": {},
     "output_type": "execute_result"
    }
   ],
   "source": [
    "process = Database(\"forwast\").random()\n",
    "process"
   ]
  },
  {
   "cell_type": "markdown",
   "metadata": {},
   "source": [
    "A brief review of LCA calculations:\n",
    "\n",
    "In matrix-based LCA, we construct a *technosphere* matrix, which describes the inputs needed to produce different products (e.g. cars need metal and electricity), and a *biosphere* matrix, which describes the emissions and resource consumption associated with the production of each product (e.g. car manufacturing releases air emissions). These two matrices come from the life cycle inventory database(s). We also have a *functional unit*, which is what we are trying to assess, e.g. one car. We then calculate the *life cycle inventory* (LCI) by first solving the linear system of the technosphere matrix and the functional unit, and then by multiplying the biosphere matrix.\n",
    "\n",
    "To do *life cycle impact assessment* (LCIA), we multiply the life cycle inventory by a matrix of characterization factors, which tell how bad different emissions and resource consumptions are.\n",
    "\n",
    "For more details on the math, see the [manual](https://docs.brightwaylca.org/lca.html).\n",
    "\n",
    "So, our first step is to specify the functional unit, which is relatively easy:"
   ]
  },
  {
   "cell_type": "code",
   "execution_count": 27,
   "metadata": {
    "collapsed": true
   },
   "outputs": [],
   "source": [
    "functional_unit = {process: 1}"
   ]
  },
  {
   "cell_type": "markdown",
   "metadata": {},
   "source": [
    "We can then instantiate our [LCA object](https://docs.brightwaylca.org/technical/bw2calc.html#lca). "
   ]
  },
  {
   "cell_type": "code",
   "execution_count": 28,
   "metadata": {
    "collapsed": false
   },
   "outputs": [],
   "source": [
    "lca = LCA(functional_unit, method_key)"
   ]
  },
  {
   "cell_type": "markdown",
   "metadata": {},
   "source": [
    "And do the LCI and LCIA calculations:"
   ]
  },
  {
   "cell_type": "code",
   "execution_count": 29,
   "metadata": {
    "collapsed": false
   },
   "outputs": [],
   "source": [
    "lca.lci()\n",
    "lca.lcia()"
   ]
  },
  {
   "cell_type": "markdown",
   "metadata": {},
   "source": [
    "Finally, we can print the LCA score:"
   ]
  },
  {
   "cell_type": "code",
   "execution_count": 30,
   "metadata": {
    "collapsed": false
   },
   "outputs": [
    {
     "data": {
      "text/plain": [
       "0.00036742785082652054"
      ]
     },
     "execution_count": 30,
     "metadata": {},
     "output_type": "execute_result"
    }
   ],
   "source": [
    "lca.score"
   ]
  },
  {
   "cell_type": "markdown",
   "metadata": {},
   "source": [
    "You can reuse the same matrices but change the functional unit by using the `redo_lci` and `redo_lcia` functions:"
   ]
  },
  {
   "cell_type": "code",
   "execution_count": 31,
   "metadata": {
    "collapsed": false
   },
   "outputs": [
    {
     "name": "stdout",
     "output_type": "stream",
     "text": [
      "'121 Membership organisations, DK' (EUR2003, GLO, ['Input Output', 'Denmark 2003'])\n"
     ]
    },
    {
     "data": {
      "text/plain": [
       "0.0007122030331841212"
      ]
     },
     "execution_count": 31,
     "metadata": {},
     "output_type": "execute_result"
    }
   ],
   "source": [
    "new_process = Database(\"forwast\").random()\n",
    "print(new_process)\n",
    "lca.redo_lcia({new_process: 1})\n",
    "lca.score"
   ]
  },
  {
   "cell_type": "markdown",
   "metadata": {},
   "source": [
    "# Looking into the LCA object\n",
    "\n",
    "Let's see what is in this `LCA` thing, anyway. Put your cursor in the following cell and hit tab:"
   ]
  },
  {
   "cell_type": "code",
   "execution_count": null,
   "metadata": {
    "collapsed": false
   },
   "outputs": [],
   "source": [
    "lca."
   ]
  },
  {
   "cell_type": "markdown",
   "metadata": {},
   "source": [
    "So, there is a lot. Let's look at a few things:\n",
    "\n",
    "* The technosphere matrix"
   ]
  },
  {
   "cell_type": "code",
   "execution_count": 32,
   "metadata": {
    "collapsed": false
   },
   "outputs": [
    {
     "data": {
      "text/plain": [
       "<277x277 sparse matrix of type '<class 'numpy.float64'>'\n",
       "\twith 36825 stored elements in Compressed Sparse Row format>"
      ]
     },
     "execution_count": 32,
     "metadata": {},
     "output_type": "execute_result"
    }
   ],
   "source": [
    "lca.technosphere_matrix"
   ]
  },
  {
   "cell_type": "markdown",
   "metadata": {},
   "source": [
    "* The biosphere matrix"
   ]
  },
  {
   "cell_type": "code",
   "execution_count": 33,
   "metadata": {
    "collapsed": false
   },
   "outputs": [
    {
     "data": {
      "text/plain": [
       "<20x277 sparse matrix of type '<class 'numpy.float64'>'\n",
       "\twith 2170 stored elements in Compressed Sparse Row format>"
      ]
     },
     "execution_count": 33,
     "metadata": {},
     "output_type": "execute_result"
    }
   ],
   "source": [
    "lca.biosphere_matrix"
   ]
  },
  {
   "cell_type": "markdown",
   "metadata": {},
   "source": [
    "* The characterization matrix"
   ]
  },
  {
   "cell_type": "code",
   "execution_count": 34,
   "metadata": {
    "collapsed": false
   },
   "outputs": [
    {
     "data": {
      "text/plain": [
       "<20x20 sparse matrix of type '<class 'numpy.float64'>'\n",
       "\twith 4 stored elements in Compressed Sparse Row format>"
      ]
     },
     "execution_count": 34,
     "metadata": {},
     "output_type": "execute_result"
    }
   ],
   "source": [
    "lca.characterization_matrix"
   ]
  },
  {
   "cell_type": "markdown",
   "metadata": {},
   "source": [
    "# Graphing matrices\n",
    "\n",
    "Sometimes it can be helpful to visualize both the inputs and calculation results."
   ]
  },
  {
   "cell_type": "code",
   "execution_count": null,
   "metadata": {
    "collapsed": false
   },
   "outputs": [],
   "source": [
    "%matplotlib inline"
   ]
  },
  {
   "cell_type": "markdown",
   "metadata": {},
   "source": [
    "If you get some warnings here, you can ignore them again."
   ]
  },
  {
   "cell_type": "code",
   "execution_count": 36,
   "metadata": {
    "collapsed": true
   },
   "outputs": [],
   "source": [
    "from bw2analyzer.matrix_grapher import SparseMatrixGrapher"
   ]
  },
  {
   "cell_type": "markdown",
   "metadata": {},
   "source": [
    "First, let's look at the technosphere matrix.\n",
    "\n",
    "You can pass in a filename to get a higher resolution figure saved as a file."
   ]
  },
  {
   "cell_type": "code",
   "execution_count": 37,
   "metadata": {
    "collapsed": false
   },
   "outputs": [
    {
     "data": {
      "image/png": "[encoded data removed]",
      "text/plain": [
       "<matplotlib.figure.Figure at 0x10d061f60>"
      ]
     },
     "metadata": {},
     "output_type": "display_data"
    }
   ],
   "source": [
    "SparseMatrixGrapher(lca.technosphere_matrix).ordered_graph()"
   ]
  },
  {
   "cell_type": "markdown",
   "metadata": {},
   "source": [
    "Not so interesting - I am sure your inventory data will be much nicer. The problem is that this is an IO matrix, so there is a value at each point, even if it is small, and this graph only shows where values are or aren't zero. For example, here is the same graph for ecoinvent 3.2 (cutoff):\n",
    "\n",
    "<img src=\"https://brightwaylca.org/data/ecoinvent-32-cutoff.png\">\n",
    "\n",
    "You can also graph the biosphere and any other LCA matrices."
   ]
  },
  {
   "cell_type": "markdown",
   "metadata": {},
   "source": [
    "# Contribution analysis\n",
    "\n",
    "We can calculate the most important activities and biosphere flows."
   ]
  },
  {
   "cell_type": "code",
   "execution_count": 38,
   "metadata": {
    "collapsed": true
   },
   "outputs": [],
   "source": [
    "from bw2analyzer import ContributionAnalysis"
   ]
  },
  {
   "cell_type": "markdown",
   "metadata": {},
   "source": [
    "Most important activities"
   ]
  },
  {
   "cell_type": "code",
   "execution_count": 39,
   "metadata": {
    "collapsed": false
   },
   "outputs": [
    {
     "data": {
      "text/plain": [
       "[(0.0001396937298226746,\n",
       "  0.048124613956613126,\n",
       "  '_66 Electricity, steam and hot water, DK'),\n",
       " (6.9991549445978015e-05,\n",
       "  0.031676664895336694,\n",
       "  '_75 Electricity, steam and hot water, EU27'),\n",
       " (3.9066117403503777e-05,\n",
       "  1.0040154541123278,\n",
       "  '121 Membership organisations, DK'),\n",
       " (3.1471437466772569e-05,\n",
       "  0.002722644973875722,\n",
       "  '_85 Land transport and transport via pipelines, EU27'),\n",
       " (2.8255138678408465e-05, 0.002613627974514106, '_77 Transport by ship, DK'),\n",
       " (2.7232854080114984e-05, 0.0046124671405131405, '_78 Air transport, DK'),\n",
       " (2.4791436039094568e-05,\n",
       "  0.017374764208137716,\n",
       "  '_76 Land transport and transport via pipelines, DK'),\n",
       " (2.2418509655880271e-05,\n",
       "  0.023588512910584496,\n",
       "  '_37 Refined petroleum products and fuels, EU27'),\n",
       " (2.2134707126384647e-05, 0.001759677434718698, '_86 Transport by ship, EU27'),\n",
       " (1.7328899136656281e-05, 0.0029898970801292748, '_45 Cement, virgin, DK'),\n",
       " (1.228528566141261e-05,\n",
       "  0.0051804826971024159,\n",
       "  '_54 Recycling of iron basic, EU27'),\n",
       " (1.1021006520226574e-05,\n",
       "  0.0015050606471947849,\n",
       "  '_53 Iron basic, virgin, EU27'),\n",
       " (1.0669262318486208e-05,\n",
       "  0.026850409749893972,\n",
       "  '_11 Crude petroleum and natural gas, EU27'),\n",
       " (1.0445665519435296e-05,\n",
       "  0.0018526919170521966,\n",
       "  '_41 Plastics basic, virgin, EU27'),\n",
       " (1.0392388640997124e-05,\n",
       "  0.030755811830675689,\n",
       "  '_70 Buildings, non-residential, DK'),\n",
       " (9.853775874043324e-06, 0.0043449673137514683, '_43 Chemicals n.e.c., EU27'),\n",
       " (9.3424959138200522e-06,\n",
       "  0.0012358320331560557,\n",
       "  '117 Waste treatment, Landfill of waste, Paper, EU27'),\n",
       " (8.6079777327976235e-06,\n",
       "  0.025474927135439418,\n",
       "  '_69 Buildings, residential, DK'),\n",
       " (8.4390805057026766e-06,\n",
       "  0.081753115146387528,\n",
       "  '_88 Business services n.e.c., DK'),\n",
       " (8.3883351358834324e-06, 0.0010877184038687892, '_39 Fertiliser, N, EU27'),\n",
       " (7.8656026493962271e-06, 0.0015188312158919753, '__5 Crops n.e.c., EU27'),\n",
       " (7.5871731622375976e-06,\n",
       "  0.00015895498319386527,\n",
       "  '__1 Bovine meat and milk, DK'),\n",
       " (7.1469189841784626e-06,\n",
       "  0.00059079991751715734,\n",
       "  '_94 Waste treatment, Incineration of waste, Plastic, DK'),\n",
       " (6.6616515808373897e-06, 0.00107275918218532, '_87 Air transport, EU27'),\n",
       " (6.4567407939658501e-06,\n",
       "  0.0008541022845045855,\n",
       "  '108 Waste treatment, Landfill of waste, Paper, DK')]"
      ]
     },
     "execution_count": 39,
     "metadata": {},
     "output_type": "execute_result"
    }
   ],
   "source": [
    "ContributionAnalysis().annotated_top_processes(lca)"
   ]
  },
  {
   "cell_type": "markdown",
   "metadata": {},
   "source": [
    "Most important biosphere flows"
   ]
  },
  {
   "cell_type": "code",
   "execution_count": 40,
   "metadata": {
    "collapsed": false
   },
   "outputs": [
    {
     "data": {
      "text/plain": [
       "[(0.00063535966277901478, 0.11648357114400353, 'Carbon dioxide, fossil'),\n",
       " (3.6634407676716646e-05, 2.0441026840992126e-05, 'Dinitrogen monoxide'),\n",
       " (3.6494451165270081e-05, 0.00031931447617440699, 'Methane, fossil'),\n",
       " (3.7145115631195734e-06, 0.00044412831943499534, 'Carbon monoxide, fossil'),\n",
       " (0.0, 0.0011772196472922202, 'Iron, 46% in ore, 25% in crude ore, in ground'),\n",
       " (0.0, 0.016709388649032385, 'Coal, hard, unspecified, in ground'),\n",
       " (0.0, 0.14445083580678553, 'Sand, unspecified, in ground'),\n",
       " (0.0, 3.473425916667717e-05, 'Ammonia'),\n",
       " (0.0, 0.017472626565547385, 'Gas, natural, in ground'),\n",
       " (0.0, 0.012410608848276879, 'Carbon dioxide, in air'),\n",
       " (0.0,\n",
       "  0.00012214076264928687,\n",
       "  'Nickel, 1.98% in silicates, 1.04% in crude ore, in ground'),\n",
       " (0.0, 2.5736802426280961e-07, 'Lead, Pb 0.014%, in mixed ore, in ground'),\n",
       " (0.0,\n",
       "  0.00012126299905374413,\n",
       "  'NMVOC, non-methane volatile organic compounds, unspecified origin'),\n",
       " (0.0, 0.023370821808006464, 'Oil, crude, in ground'),\n",
       " (0.0, 7.9391491557224406e-07, 'Zinc, Zn 0.63%, in mixed ore, in ground'),\n",
       " (0.0,\n",
       "  3.8001789410640098e-05,\n",
       "  'Copper, 1.13% in sulfide, Cu 0.76% and Ni 0.76% in crude ore, in ground'),\n",
       " (0.0, 5.216866368934104e-05, 'Aluminium, in ground'),\n",
       " (0.0, 0.016662650157706991, 'Carbon dioxide, non-fossil'),\n",
       " (0.0, 0.00029223552028121011, 'Sulfur dioxide'),\n",
       " (0.0, 0.00052297740059717435, 'Nitrogen oxides')]"
      ]
     },
     "execution_count": 40,
     "metadata": {},
     "output_type": "execute_result"
    }
   ],
   "source": [
    "ContributionAnalysis().annotated_top_emissions(lca)"
   ]
  },
  {
   "cell_type": "markdown",
   "metadata": {},
   "source": [
    "# Monte Carlo LCA\n",
    "\n",
    "Unfortunately, the forwast database doesn't unclude uncertainty. Let's put some in anyways, using the utility function [uncertainify](https://docs.brightwaylca.org/technical/bw2data.html#bw2data.utils.uncertainify)."
   ]
  },
  {
   "cell_type": "code",
   "execution_count": 41,
   "metadata": {
    "collapsed": true
   },
   "outputs": [],
   "source": [
    "from bw2data.utils import uncertainify\n",
    "from stats_arrays import NormalUncertainty"
   ]
  },
  {
   "cell_type": "code",
   "execution_count": 42,
   "metadata": {
    "collapsed": false
   },
   "outputs": [
    {
     "name": "stderr",
     "output_type": "stream",
     "text": [
      "Writing activities to SQLite3 database:\n",
      "0%                          100%\n",
      "[##############################] | ETA: 00:00:00\n",
      "Total time elapsed: 00:00:05\n"
     ]
    },
    {
     "name": "stdout",
     "output_type": "stream",
     "text": [
      "Title: Writing activities to SQLite3 database:\n",
      "  Started: 07/15/2016 10:29:56\n",
      "  Finished: 07/15/2016 10:30:01\n",
      "  Total time elapsed: 00:00:05\n",
      "  CPU %: 86.40\n",
      "  Memory %: 3.03\n"
     ]
    }
   ],
   "source": [
    "uncertain_db = Database(\"forwast uncertain +\")\n",
    "uncertain_db.write(\n",
    "    uncertain_db.relabel_data(\n",
    "        uncertainify(\n",
    "            Database(\"forwast\").load(), \n",
    "            NormalUncertainty\n",
    "        ), \n",
    "        \"forwast uncertain +\" \n",
    "    )\n",
    ")"
   ]
  },
  {
   "cell_type": "markdown",
   "metadata": {},
   "source": [
    "We can now calculate some Monte Carlo iterations for a random activity."
   ]
  },
  {
   "cell_type": "code",
   "execution_count": 43,
   "metadata": {
    "collapsed": false
   },
   "outputs": [
    {
     "name": "stdout",
     "output_type": "stream",
     "text": [
      "-0.012990105181133098\n",
      "-0.013614114408092808\n",
      "-0.011913843459799954\n",
      "-0.014254416975613252\n",
      "-0.01387722445682358\n",
      "-0.013326151175707554\n",
      "-0.014740736715175558\n",
      "-0.014968222441644873\n",
      "-0.013446478696416731\n",
      "-0.014716687909810464\n"
     ]
    }
   ],
   "source": [
    "mc = MonteCarloLCA(demand={uncertain_db.random(): 1}, method=method_key)\n",
    "mc.load_data()\n",
    "for x in range(10):\n",
    "    print(next(mc))"
   ]
  },
  {
   "cell_type": "markdown",
   "metadata": {},
   "source": [
    "That't it! Here is your promised kitten:"
   ]
  },
  {
   "cell_type": "code",
   "execution_count": 44,
   "metadata": {
    "collapsed": false
   },
   "outputs": [
    {
     "data": {
      "text/html": [
       "<img src=\"http://placekitten.com/473/664/\"/>"
      ],
      "text/plain": [
       "<IPython.core.display.Image object>"
      ]
     },
     "execution_count": 44,
     "metadata": {},
     "output_type": "execute_result"
    }
   ],
   "source": [
    "from IPython.display import Image\n",
    "import random\n",
    "dimensions = sorted((int(random.random() * 600 + 200), int(random.random() * 600 + 200)))\n",
    "Image(url=\"http://placekitten.com/{}/{}/\".format(*dimensions))"
   ]
  },
  {
   "cell_type": "code",
   "execution_count": null,
   "metadata": {
    "collapsed": true
   },
   "outputs": [],
   "source": []
  }
 ],
 "metadata": {
  "kernelspec": {
   "display_name": "Python 3",
   "language": "python",
   "name": "python3"
  },
  "language_info": {
   "codemirror_mode": {
    "name": "ipython",
    "version": 3
   },
   "file_extension": ".py",
   "mimetype": "text/x-python",
   "name": "python",
   "nbconvert_exporter": "python",
   "pygments_lexer": "ipython3",
   "version": "3.5.2"
  }
 },
 "nbformat": 4,
 "nbformat_minor": 0
}
