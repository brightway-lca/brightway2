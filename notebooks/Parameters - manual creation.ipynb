{
 "cells": [
  {
   "cell_type": "markdown",
   "metadata": {},
   "source": [
    "# Parameters - manual creation\n",
    "\n",
    "This notebooks illustrates how to manually create [parameterized datasets](https://docs.brightwaylca.org/intro.html#parameterized-datasets) in Brightway2. You should be familiar with the input data types listed in the [technical documentation](https://docs.brightwaylca.org/technical/bw2data.html#parameters)."
   ]
  },
  {
   "cell_type": "code",
   "execution_count": 1,
   "metadata": {},
   "outputs": [],
   "source": [
    "from brightway2 import *\n",
    "from bw2data.parameters import ActivityParameter, DatabaseParameter, ProjectParameter, Group"
   ]
  },
  {
   "cell_type": "markdown",
   "metadata": {},
   "source": [
    "Create a new project for this notebook"
   ]
  },
  {
   "cell_type": "code",
   "execution_count": 2,
   "metadata": {
    "collapsed": true
   },
   "outputs": [],
   "source": [
    "if \"parameters - manual creation\" in projects:\n",
    "    projects.delete_project(\"parameters - manual creation\", True)\n",
    "projects.set_current(\"parameters - manual creation\")"
   ]
  },
  {
   "cell_type": "markdown",
   "metadata": {},
   "source": [
    "We don't have any parameters of any kind yet"
   ]
  },
  {
   "cell_type": "code",
   "execution_count": 3,
   "metadata": {},
   "outputs": [
    {
     "data": {
      "text/plain": [
       "0"
      ]
     },
     "execution_count": 3,
     "metadata": {},
     "output_type": "execute_result"
    }
   ],
   "source": [
    "len(parameters)"
   ]
  },
  {
   "cell_type": "markdown",
   "metadata": {},
   "source": [
    "Some parameters are database-specific, so we need to create a new database"
   ]
  },
  {
   "cell_type": "code",
   "execution_count": 4,
   "metadata": {
    "collapsed": true
   },
   "outputs": [],
   "source": [
    "db = Database(\"example\")\n",
    "db.register()"
   ]
  },
  {
   "cell_type": "markdown",
   "metadata": {},
   "source": [
    "Similarly, we need some activities and exchanges. We don't need the correct value for the `amount` field, as this will be calculated by the formula."
   ]
  },
  {
   "cell_type": "code",
   "execution_count": 5,
   "metadata": {},
   "outputs": [
    {
     "name": "stdout",
     "output_type": "stream",
     "text": [
      "Exchange: 0 None 'Another activity' (None, GLO, None) to 'An activity' (None, GLO, None)>\n"
     ]
    }
   ],
   "source": [
    "a = db.new_activity(code=\"A\", name=\"An activity\")\n",
    "a.save()\n",
    "b = db.new_activity(code=\"B\", name=\"Another activity\")\n",
    "b.save()\n",
    "a.new_exchange(amount=0, input=b, type=\"technosphere\", formula=\"foo * bar + 4\").save()\n",
    "\n",
    "for exc in a.exchanges():\n",
    "    print(exc)"
   ]
  },
  {
   "cell_type": "markdown",
   "metadata": {},
   "source": [
    "We are now ready to create some parameters. These can be defined at three different levels: project-level, database-level, and activity-level. Parameters are also grouped together, but the group names for project- and database-level parameters are generated automatically.\n",
    "\n",
    "Create some project-level parameters; amounts are evaluated when the parameters are entered."
   ]
  },
  {
   "cell_type": "code",
   "execution_count": 6,
   "metadata": {},
   "outputs": [
    {
     "name": "stdout",
     "output_type": "stream",
     "text": [
      "Project parameter: foo 1.0\n",
      "Project parameter: green 7.0\n"
     ]
    }
   ],
   "source": [
    "project_data = [{\n",
    "    'name': 'foo',\n",
    "    'formula': 'green / 7',\n",
    "}, {\n",
    "    'name': 'green',\n",
    "    'amount': 7\n",
    "}]\n",
    "parameters.new_project_parameters(project_data)\n",
    "\n",
    "for param in ProjectParameter.select():\n",
    "    print(param, param.amount)"
   ]
  },
  {
   "cell_type": "markdown",
   "metadata": {},
   "source": [
    "We can do a similar thing for database-level parameters. Note that these parameters automatically get access to the project-level parameter variables.\n",
    "\n",
    "Note that here you have to specify which database the parameters belong to."
   ]
  },
  {
   "cell_type": "code",
   "execution_count": 7,
   "metadata": {},
   "outputs": [
    {
     "name": "stdout",
     "output_type": "stream",
     "text": [
      "Database parameter: example:red 29.0\n",
      "Database parameter: example:blue 12.0\n"
     ]
    }
   ],
   "source": [
    "database_data = [{\n",
    "    'name': 'red',\n",
    "    'formula': '(foo + blue ** 2) / 5',\n",
    "}, {\n",
    "    'name': 'blue',\n",
    "    'amount': 12\n",
    "}]\n",
    "parameters.new_database_parameters(database_data, \"example\")\n",
    "\n",
    "for param in DatabaseParameter.select():\n",
    "    print(param, param.amount)"
   ]
  },
  {
   "cell_type": "markdown",
   "metadata": {},
   "source": [
    "And again for activity-level parameters. These also get access to project- and database-level variables, but activity-level parameters can also refer to other activity-level variables (though this capability is not shown in this example). You must specify such relationships explicitly using `Group.order`:\n",
    "\n",
    "    Group.create(name=\"One\")\n",
    "    Group.create(name=\"Two\", order=['One'])\n",
    "    \n",
    "You should therefore make sure to enter things in the right order, and create the group with the right `order`; otherwise you will get errors. Don't worry - you can't wreck your database (I think :), there are a lot of checks to prevent improper data from being saved.\n",
    "    \n",
    "Group names are created automatically if you use `new_activity_parameters`."
   ]
  },
  {
   "cell_type": "code",
   "execution_count": 8,
   "metadata": {},
   "outputs": [
    {
     "name": "stdout",
     "output_type": "stream",
     "text": [
      "Activity parameter: my group:reference_me 3.0\n",
      "Activity parameter: my group:bar 5.0\n"
     ]
    }
   ],
   "source": [
    "activity_data = [{\n",
    "    'name': 'reference_me',\n",
    "    'formula': 'sqrt(red - 20)',\n",
    "    'database': 'example',\n",
    "    'code': \"B\",\n",
    "}, {\n",
    "    'name': 'bar',\n",
    "    'formula': 'reference_me + 2',\n",
    "    'database': 'example',\n",
    "    'code': \"A\",    \n",
    "}]\n",
    "parameters.new_activity_parameters(activity_data, \"my group\")\n",
    "\n",
    "for param in ActivityParameter.select():\n",
    "    print(param, param.amount)"
   ]
  },
  {
   "cell_type": "markdown",
   "metadata": {},
   "source": [
    "We have entered the activity parameters, but haven't told Brightway to [activate the exchanges and their formulas](https://docs.brightwaylca.org/intro.html#active-versus-passive-parameters). Therefore, the amount is still zero:"
   ]
  },
  {
   "cell_type": "code",
   "execution_count": 9,
   "metadata": {},
   "outputs": [
    {
     "name": "stdout",
     "output_type": "stream",
     "text": [
      "Exchange: 0 None 'Another activity' (None, GLO, None) to 'An activity' (None, GLO, None)>\n"
     ]
    }
   ],
   "source": [
    "for exc in a.exchanges():\n",
    "    print(exc)"
   ]
  },
  {
   "cell_type": "markdown",
   "metadata": {},
   "source": [
    "Activation is a two-step process: first, tell the parameter code that these exchanges have formulas:"
   ]
  },
  {
   "cell_type": "code",
   "execution_count": 10,
   "metadata": {},
   "outputs": [],
   "source": [
    "parameters.add_exchanges_to_group(\"my group\", a)"
   ]
  },
  {
   "cell_type": "markdown",
   "metadata": {},
   "source": [
    "Then calculate the \"activated\" formula values:"
   ]
  },
  {
   "cell_type": "code",
   "execution_count": 11,
   "metadata": {},
   "outputs": [],
   "source": [
    "ActivityParameter.recalculate_exchanges(\"my group\")"
   ]
  },
  {
   "cell_type": "markdown",
   "metadata": {},
   "source": [
    "We now get the correct result, for a formula that needed calculations at all parameter levels."
   ]
  },
  {
   "cell_type": "code",
   "execution_count": 12,
   "metadata": {},
   "outputs": [
    {
     "name": "stdout",
     "output_type": "stream",
     "text": [
      "9.0 'Another activity' (None, GLO, None) 'An activity' (None, GLO, None)\n"
     ]
    }
   ],
   "source": [
    "for exc in a.exchanges():\n",
    "    print(exc.amount, exc.input, exc.output)"
   ]
  }
 ],
 "metadata": {
  "kernelspec": {
   "display_name": "Python 3",
   "language": "python",
   "name": "python3"
  },
  "language_info": {
   "codemirror_mode": {
    "name": "ipython",
    "version": 3
   },
   "file_extension": ".py",
   "mimetype": "text/x-python",
   "name": "python",
   "nbconvert_exporter": "python",
   "pygments_lexer": "ipython3",
   "version": "3.6.1"
  }
 },
 "nbformat": 4,
 "nbformat_minor": 2
}
