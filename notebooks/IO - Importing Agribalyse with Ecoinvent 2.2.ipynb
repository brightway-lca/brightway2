{
 "cells": [
  {
   "cell_type": "markdown",
   "metadata": {},
   "source": [
    "# Import Agribalyse and link to ecoinvent 2.2\n",
    "\n",
    "[Agribalyse](http://www.ademe.fr/en/expertise/alternative-approaches-to-production/agribalyse-program) is a French LCI database of agricultural products. It builds on top of ecoinvent 2.2. It was exported from SimaPro, so the names of ecoinvent processes are mangled, and need to be fixed back to standard ecoinvent.\n",
    "\n",
    "This notebook uses Agribalyse 1.2, released in March 2015."
   ]
  },
  {
   "cell_type": "code",
   "execution_count": 1,
   "metadata": {
    "collapsed": true
   },
   "outputs": [],
   "source": [
    "from brightway2 import *"
   ]
  },
  {
   "cell_type": "markdown",
   "metadata": {},
   "source": [
    "Create a new project for this notebook"
   ]
  },
  {
   "cell_type": "code",
   "execution_count": 2,
   "metadata": {
    "collapsed": true
   },
   "outputs": [],
   "source": [
    "projects.set_current(\"Agribalyse\")"
   ]
  },
  {
   "cell_type": "markdown",
   "metadata": {},
   "source": [
    "## Add biosphere flows\n",
    "\n",
    "Biosphere flow names follow the standard in ecoinvent 3.3. We will need to match these names to those in Agribalyse."
   ]
  },
  {
   "cell_type": "code",
   "execution_count": 3,
   "metadata": {
    "collapsed": false
   },
   "outputs": [
    {
     "name": "stdout",
     "output_type": "stream",
     "text": [
      "Creating default biosphere\n",
      "\n"
     ]
    },
    {
     "name": "stderr",
     "output_type": "stream",
     "text": [
      "Writing activities to SQLite3 database:\n",
      "0%                          100%\n",
      "[######                        ] | ETA: 00:00:00"
     ]
    },
    {
     "name": "stdout",
     "output_type": "stream",
     "text": [
      "Applying strategy: normalize_units\n",
      "Applying strategy: drop_unspecified_subcategories\n",
      "Applied 2 strategies in 0.01 seconds\n"
     ]
    },
    {
     "name": "stderr",
     "output_type": "stream",
     "text": [
      "[##############################] | ETA: 00:00:00\n",
      "Total time elapsed: 00:00:00\n"
     ]
    },
    {
     "name": "stdout",
     "output_type": "stream",
     "text": [
      "Title: Writing activities to SQLite3 database:\n",
      "  Started: 11/30/2016 14:34:27\n",
      "  Finished: 11/30/2016 14:34:27\n",
      "  Total time elapsed: 00:00:00\n",
      "  CPU %: 100.10\n",
      "  Memory %: 0.93\n",
      "Created database: biosphere3\n",
      "Creating default LCIA methods\n",
      "\n",
      "Applying strategy: normalize_units\n",
      "Applying strategy: set_biosphere_type\n",
      "Applying strategy: drop_unspecified_subcategories\n",
      "Applying strategy: link_iterable_by_fields\n",
      "Applied 4 strategies in 2.16 seconds\n",
      "Wrote 718 LCIA methods with 178008 characterization factors\n",
      "Creating core data migrations\n",
      "\n"
     ]
    }
   ],
   "source": [
    "bw2setup()"
   ]
  },
  {
   "cell_type": "markdown",
   "metadata": {},
   "source": [
    "## Import ecoinvent 2.2 as background database"
   ]
  },
  {
   "cell_type": "code",
   "execution_count": 4,
   "metadata": {
    "collapsed": false
   },
   "outputs": [
    {
     "name": "stdout",
     "output_type": "stream",
     "text": [
      "Extracting XML data from 4087 datasets\n",
      "Extracted 4087 datasets in 3.68 seconds\n",
      "Applying strategy: normalize_units\n",
      "Applying strategy: assign_only_product_as_production\n",
      "Applying strategy: clean_integer_codes\n",
      "Applying strategy: drop_unspecified_subcategories\n",
      "Applying strategy: normalize_biosphere_categories\n",
      "Applying strategy: normalize_biosphere_names\n",
      "Applying strategy: strip_biosphere_exc_locations\n",
      "Applying strategy: set_code_by_activity_hash\n",
      "Applying strategy: link_iterable_by_fields\n",
      "Applying strategy: link_technosphere_by_activity_hash\n",
      "Applied 10 strategies in 4.95 seconds\n",
      "4087 datasets\n",
      "135892 exchanges\n",
      "0 unlinked exchanges\n",
      "  \n"
     ]
    },
    {
     "data": {
      "text/plain": [
       "(4087, 135892, 0)"
      ]
     },
     "execution_count": 4,
     "metadata": {},
     "output_type": "execute_result"
    }
   ],
   "source": [
    "path = \"/Users/cmutel/Documents/LCA Documents/Ecoinvent/2.2/processes\"\n",
    "importer = SingleOutputEcospold1Importer(path, \"ecoinvent 2.2\")\n",
    "importer.apply_strategies()\n",
    "importer.statistics()"
   ]
  },
  {
   "cell_type": "code",
   "execution_count": 5,
   "metadata": {
    "collapsed": false
   },
   "outputs": [
    {
     "name": "stderr",
     "output_type": "stream",
     "text": [
      "Writing activities to SQLite3 database:\n",
      "0%                          100%\n",
      "[##############################] | ETA: 00:00:00\n",
      "Total time elapsed: 00:00:19\n"
     ]
    },
    {
     "name": "stdout",
     "output_type": "stream",
     "text": [
      "Title: Writing activities to SQLite3 database:\n",
      "  Started: 11/30/2016 14:36:13\n",
      "  Finished: 11/30/2016 14:36:33\n",
      "  Total time elapsed: 00:00:19\n",
      "  CPU %: 97.10\n",
      "  Memory %: 1.91\n",
      "Created database: ecoinvent 2.2\n"
     ]
    },
    {
     "data": {
      "text/plain": [
       "Brightway2 SQLiteBackend: ecoinvent 2.2"
      ]
     },
     "execution_count": 5,
     "metadata": {},
     "output_type": "execute_result"
    }
   ],
   "source": [
    "importer.write_database()"
   ]
  },
  {
   "cell_type": "markdown",
   "metadata": {},
   "source": [
    "## Load Agribalyse data\n",
    "\n",
    "This notebook uses the ecospold 1 version of Agribalyse, but the SimaPro CSV version should be quite similar, it would just use a different `Importer` class.\n",
    "\n",
    "We only need to give the directory, the `Importer` will find the XML file."
   ]
  },
  {
   "cell_type": "code",
   "execution_count": 3,
   "metadata": {
    "collapsed": false
   },
   "outputs": [
    {
     "name": "stdout",
     "output_type": "stream",
     "text": [
      "Extracting XML data from 1 datasets\n"
     ]
    },
    {
     "name": "stderr",
     "output_type": "stream",
     "text": [
      "Warning: divide by zero encountered in log\n"
     ]
    },
    {
     "name": "stdout",
     "output_type": "stream",
     "text": [
      "Extracted 822 datasets in 11.90 seconds\n",
      "Applying strategy: normalize_units\n",
      "Applying strategy: assign_only_product_as_production\n",
      "Applying strategy: clean_integer_codes\n",
      "Applying strategy: drop_unspecified_subcategories\n",
      "Applying strategy: normalize_biosphere_categories\n",
      "Applying strategy: normalize_biosphere_names\n",
      "Applying strategy: strip_biosphere_exc_locations\n",
      "Applying strategy: set_code_by_activity_hash\n",
      "Applying strategy: link_iterable_by_fields\n",
      "Applying strategy: link_technosphere_by_activity_hash\n",
      "Applied 10 strategies in 8.76 seconds\n",
      "822 datasets\n",
      "236600 exchanges\n",
      "129968 unlinked exchanges\n",
      "  Type biosphere: 1016 unique unlinked exchanges\n",
      "  Type production: 344 unique unlinked exchanges\n",
      "  Type technosphere: 728 unique unlinked exchanges\n"
     ]
    },
    {
     "data": {
      "text/plain": [
       "(822, 236600, 129968)"
      ]
     },
     "execution_count": 3,
     "metadata": {},
     "output_type": "execute_result"
    }
   ],
   "source": [
    "path = \"/Users/cmutel/Documents/LCA Documents/Agribalyse\"\n",
    "ag = SingleOutputEcospold1Importer(path, \"Agribalyse 1.2\")\n",
    "ag.apply_strategies()\n",
    "ag.statistics()"
   ]
  },
  {
   "cell_type": "markdown",
   "metadata": {},
   "source": [
    "This is quite a lot of linking problems. Let's export the unlinked exchanges to a spreadsheet so we can browse them."
   ]
  },
  {
   "cell_type": "code",
   "execution_count": 4,
   "metadata": {
    "collapsed": false
   },
   "outputs": [
    {
     "name": "stdout",
     "output_type": "stream",
     "text": [
      "Wrote matching file to:\n",
      "/Users/cmutel/Library/Application Support/Brightway3/Agribalyse.29703ab0819673042e6beb69e55073b0/output/db-matching-Agribalyse-12-unlinked.xlsx\n"
     ]
    }
   ],
   "source": [
    "ag.write_excel(True)"
   ]
  },
  {
   "cell_type": "markdown",
   "metadata": {},
   "source": [
    "## 1. Fix biosphere names\n",
    "\n",
    "One obvious problem is the names of biosphere flows changed from ecoinvent 2 to ecoinvent 3, **and** SimaPro uses another set of biosphere names and categories.\n",
    "\n",
    "Let's fix the SimaPro-specific problems first."
   ]
  },
  {
   "cell_type": "code",
   "execution_count": 5,
   "metadata": {
    "collapsed": false
   },
   "outputs": [
    {
     "name": "stdout",
     "output_type": "stream",
     "text": [
      "Applying strategy: normalize_simapro_biosphere_categories\n",
      "Applying strategy: normalize_simapro_biosphere_names\n"
     ]
    }
   ],
   "source": [
    "from bw2io.strategies.simapro import normalize_simapro_biosphere_categories, normalize_simapro_biosphere_names\n",
    "ag.apply_strategy(normalize_simapro_biosphere_categories)\n",
    "ag.apply_strategy(normalize_simapro_biosphere_names)"
   ]
  },
  {
   "cell_type": "markdown",
   "metadata": {},
   "source": [
    "We have modified the source data, but still need to try to link to the biosphere database.\n",
    "\n",
    "Read more about [currying functions](https://docs.python.org/3/library/functools.html#functools.partial) if this is new to you."
   ]
  },
  {
   "cell_type": "code",
   "execution_count": 6,
   "metadata": {
    "collapsed": false
   },
   "outputs": [
    {
     "name": "stdout",
     "output_type": "stream",
     "text": [
      "Applying strategy: link_iterable_by_fields\n",
      "822 datasets\n",
      "236600 exchanges\n",
      "17961 unlinked exchanges\n",
      "  Type biosphere: 316 unique unlinked exchanges\n",
      "  Type production: 344 unique unlinked exchanges\n",
      "  Type technosphere: 728 unique unlinked exchanges\n"
     ]
    },
    {
     "data": {
      "text/plain": [
       "(822, 236600, 17961)"
      ]
     },
     "execution_count": 6,
     "metadata": {},
     "output_type": "execute_result"
    }
   ],
   "source": [
    "from bw2io.strategies import link_iterable_by_fields\n",
    "import functools\n",
    "ag.apply_strategy(functools.partial(link_iterable_by_fields, other=Database(\"biosphere3\"), kind=\"biosphere\"))\n",
    "ag.statistics()"
   ]
  },
  {
   "cell_type": "markdown",
   "metadata": {},
   "source": [
    "That solved 70% of the biosphere flows, but there are still many unmatched flows. Again, we export the full list of unmatched exchanges."
   ]
  },
  {
   "cell_type": "code",
   "execution_count": 7,
   "metadata": {
    "collapsed": false
   },
   "outputs": [
    {
     "name": "stdout",
     "output_type": "stream",
     "text": [
      "Wrote matching file to:\n",
      "/Users/cmutel/Library/Application Support/Brightway3/Agribalyse.29703ab0819673042e6beb69e55073b0/output/db-matching-Agribalyse-12-unlinked.xlsx\n"
     ]
    }
   ],
   "source": [
    "ag.write_excel(True)"
   ]
  },
  {
   "cell_type": "markdown",
   "metadata": {},
   "source": [
    "The remaining unlinked biosphere flows *can't* be linked, because they don't exist in our biosphere database. This isn't the end of the world - we can add these new flows - but it does mean that they won't be assessed by our current LCIA methods.\n",
    "\n",
    "You can search the biosphere database to see what is in the current biosphere database using the search function:"
   ]
  },
  {
   "cell_type": "code",
   "execution_count": 8,
   "metadata": {
    "collapsed": false
   },
   "outputs": [
    {
     "data": {
      "text/plain": [
       "['Nitrogen' (kilogram, None, ('water', 'ground-, long-term')),\n",
       " 'Nitrogen' (kilogram, None, ('soil',)),\n",
       " 'Nitrogen' (kilogram, None, ('soil', 'agricultural')),\n",
       " 'Nitrogen' (kilogram, None, ('water', 'ocean')),\n",
       " 'Nitrogen' (kilogram, None, ('air',)),\n",
       " 'Nitrogen' (kilogram, None, ('water',)),\n",
       " 'Nitrogen' (kilogram, None, ('water', 'ground-')),\n",
       " 'Nitrogen' (kilogram, None, ('soil', 'forestry')),\n",
       " 'Nitrogen' (kilogram, None, ('soil', 'industrial')),\n",
       " 'Nitrogen' (kilogram, None, ('water', 'surface water')),\n",
       " 'Nitrogen' (kilogram, None, ('natural resource', 'in air')),\n",
       " 'Nitrogen oxides' (kilogram, None, ('air', 'non-urban air or from high stacks')),\n",
       " 'Nitrogen fluoride' (kilogram, None, ('air', 'low population density, long-term')),\n",
       " 'Nitrogen oxides' (kilogram, None, ('air', 'lower stratosphere + upper troposphere')),\n",
       " 'Nitrogen fluoride' (kilogram, None, ('air', 'non-urban air or from high stacks')),\n",
       " 'Nitrogen fluoride' (kilogram, None, ('air', 'lower stratosphere + upper troposphere')),\n",
       " 'Nitrogen oxides' (kilogram, None, ('air', 'urban air close to ground')),\n",
       " 'Nitrogen fluoride' (kilogram, None, ('air', 'urban air close to ground')),\n",
       " 'Nitrogen oxides' (kilogram, None, ('air',)),\n",
       " 'Nitrogen oxides' (kilogram, None, ('air', 'low population density, long-term')),\n",
       " 'Nitrogen fluoride' (kilogram, None, ('air',)),\n",
       " 'Nitrogen, organic bound' (kilogram, None, ('water', 'surface water')),\n",
       " 'venting of nitrogen, liquid' (kilogram, None, ('social',)),\n",
       " 'Nitrogen, organic bound' (kilogram, None, ('water',)),\n",
       " 'Nitrogen, organic bound' (kilogram, None, ('water', 'ground-'))]"
      ]
     },
     "execution_count": 8,
     "metadata": {},
     "output_type": "execute_result"
    }
   ],
   "source": [
    "Database(\"biosphere3\").search(\"nitrogen\")"
   ]
  },
  {
   "cell_type": "markdown",
   "metadata": {},
   "source": [
    "We add these missing biosphere flows. We could add them to the default `biosphere3` database, but it is cleaner to create a new database with just the new flows added for Agribalyse."
   ]
  },
  {
   "cell_type": "code",
   "execution_count": 9,
   "metadata": {
    "collapsed": false
   },
   "outputs": [
    {
     "name": "stderr",
     "output_type": "stream",
     "text": [
      "Writing activities to SQLite3 database:\n",
      "0%                          100%\n",
      "[##############################] | ETA: 00:00:00\n",
      "Total time elapsed: 00:00:00\n"
     ]
    },
    {
     "name": "stdout",
     "output_type": "stream",
     "text": [
      "Title: Writing activities to SQLite3 database:\n",
      "  Started: 11/30/2016 16:14:03\n",
      "  Finished: 11/30/2016 16:14:03\n",
      "  Total time elapsed: 00:00:00\n",
      "  CPU %: 98.10\n",
      "  Memory %: 2.15\n",
      "Applying strategy: link_iterable_by_fields\n"
     ]
    }
   ],
   "source": [
    "Database(\"Agribalyse new biosphere\").register()\n",
    "ag.add_unlinked_flows_to_biosphere_database(\"Agribalyse new biosphere\")"
   ]
  },
  {
   "cell_type": "markdown",
   "metadata": {},
   "source": [
    "We should now have no unlinked biosphere flows:"
   ]
  },
  {
   "cell_type": "code",
   "execution_count": 10,
   "metadata": {
    "collapsed": false
   },
   "outputs": [
    {
     "name": "stdout",
     "output_type": "stream",
     "text": [
      "822 datasets\n",
      "236600 exchanges\n",
      "9062 unlinked exchanges\n",
      "  Type production: 344 unique unlinked exchanges\n",
      "  Type technosphere: 728 unique unlinked exchanges\n"
     ]
    },
    {
     "data": {
      "text/plain": [
       "(822, 236600, 9062)"
      ]
     },
     "execution_count": 10,
     "metadata": {},
     "output_type": "execute_result"
    }
   ],
   "source": [
    "ag.statistics()"
   ]
  },
  {
   "cell_type": "markdown",
   "metadata": {},
   "source": [
    "## 2. Fix production exchanges\n",
    "\n",
    "This is a weird one - production exchanges represent the flow produced by an activity, and should have the exact same name (because this is the standard in ecospold 1 - in ecospold 2 there is a difference between activity and product names). \n",
    "\n",
    "Let's look at the data for an unlinked production exchange and its activity. We are trying to figure out which field is different. We pick the first exchange in our spreadsheet."
   ]
  },
  {
   "cell_type": "code",
   "execution_count": 11,
   "metadata": {
    "collapsed": false
   },
   "outputs": [
    {
     "name": "stdout",
     "output_type": "stream",
     "text": [
      "name\n",
      "\tActivity: name Alfalfa, conventional, for animal feeding, at farm gate\n",
      "\tProduct: name Alfalfa, conventional, for animal feeding, at farm gate\n",
      "unit\n",
      "\tActivity: unit kilogram\n",
      "\tProduct: unit kilogram\n",
      "location\n",
      "\tActivity: location FR\n",
      "\tProduct: location FR\n",
      "categories\n",
      "\tActivity: categories ['Agricultural', 'AGRIBALYSE\\\\Feeds\\\\Forage / green fodder']\n",
      "\tProduct: categories ('Agricultural', 'AGRIBALYSE\\\\tempLCI')\n"
     ]
    }
   ],
   "source": [
    "def get_unlinked(data):\n",
    "    for ds in ag.data:\n",
    "        for exc in ds['exchanges']:\n",
    "            if exc['type'] == 'production' and exc['name'] == 'Alfalfa, conventional, for animal feeding, at farm gate':\n",
    "                return ds, exc\n",
    "            \n",
    "ds, exc = get_unlinked(ag.data)\n",
    "            \n",
    "for field in ('name', 'unit', 'location', 'categories'):\n",
    "    print(field)\n",
    "    print(\"\\tActivity:\", field, ds.get(field))\n",
    "    print(\"\\tProduct:\", field, exc.get(field))    "
   ]
  },
  {
   "cell_type": "markdown",
   "metadata": {},
   "source": [
    "In this case, for whatever reason, the `categories` are different. The solution is to link without using the `categories` field. This strategy is smart - if excluding `categories` led to multiple possible links, it would raise an error instead of linking the (possibly) incorrect activity."
   ]
  },
  {
   "cell_type": "code",
   "execution_count": 12,
   "metadata": {
    "collapsed": false
   },
   "outputs": [
    {
     "name": "stdout",
     "output_type": "stream",
     "text": [
      "Applying strategy: link_technosphere_based_on_name_unit_location\n",
      "822 datasets\n",
      "236600 exchanges\n",
      "4553 unlinked exchanges\n",
      "  Type production: 16 unique unlinked exchanges\n",
      "  Type technosphere: 227 unique unlinked exchanges\n"
     ]
    },
    {
     "data": {
      "text/plain": [
       "(822, 236600, 4553)"
      ]
     },
     "execution_count": 12,
     "metadata": {},
     "output_type": "execute_result"
    }
   ],
   "source": [
    "from bw2io.strategies import link_technosphere_based_on_name_unit_location\n",
    "ag.apply_strategy(link_technosphere_based_on_name_unit_location)\n",
    "ag.statistics()"
   ]
  },
  {
   "cell_type": "markdown",
   "metadata": {},
   "source": [
    "Still a few problems. Let's look at one of them:"
   ]
  },
  {
   "cell_type": "code",
   "execution_count": 13,
   "metadata": {
    "collapsed": false
   },
   "outputs": [
    {
     "name": "stdout",
     "output_type": "stream",
     "text": [
      "name\n",
      "\tActivity: name Agricultural machinery with electronic motor, production\n",
      "\tProduct: name Disposal, plastics, mixture, 15.3% water, to municipal incineration\n",
      "unit\n",
      "\tActivity: unit kilogram\n",
      "\tProduct: unit kilogram\n",
      "location\n",
      "\tActivity: location GLO\n",
      "\tProduct: location CH\n",
      "categories\n",
      "\tActivity: categories ['Agricultural', 'AGRIBALYSE\\\\Others\\\\Machines']\n",
      "\tProduct: categories ()\n"
     ]
    }
   ],
   "source": [
    "def get_unlinked(data):\n",
    "    for ds in ag.data:\n",
    "        for exc in ds['exchanges']:\n",
    "            if exc['type'] == 'production' and not exc.get('input'):\n",
    "                return ds, exc\n",
    "            \n",
    "ds, exc = get_unlinked(ag.data)\n",
    "            \n",
    "for field in ('name', 'unit', 'location', 'categories'):\n",
    "    print(field)\n",
    "    print(\"\\tActivity:\", field, ds.get(field))\n",
    "    print(\"\\tProduct:\", field, exc.get(field))  "
   ]
  },
  {
   "cell_type": "markdown",
   "metadata": {},
   "source": [
    "All the remaining outputs are disposal or recycling processes."
   ]
  },
  {
   "cell_type": "code",
   "execution_count": 14,
   "metadata": {
    "collapsed": false
   },
   "outputs": [
    {
     "name": "stdout",
     "output_type": "stream",
     "text": [
      "Disposal, plastics, mixture, 15.3% water, to municipal incineration\n",
      "Disposal, used mineral oil, 10% water, to hazardous waste incineration\n",
      "Disposal, building, glass sheet, to final disposal\n",
      "Disposal, paper, 11.2% water, to municipal incineration\n",
      "Disposal, hard coal ash, 0% water, to residual material landfill\n",
      "Disposal, wood ash mixture, pure, 0% water, to municipal incineration\n",
      "Disposal, wood ash mixture, pure, 0% water, to landfarming\n",
      "Disposal, wood ash mixture, pure, 0% water, to sanitary landfill\n",
      "Disposal, steel, 0% water, to inert material landfill\n",
      "Disposal, electronics for control units\n",
      "Disposal, municipal solid waste, 22.9% water, to municipal incineration\n",
      "Recycling steel and iron\n",
      "Recycling aluminium\n",
      "Disposal, aluminium, 0% water, to sanitary landfill\n",
      "Recycling PVC\n",
      "Recycling mixed plastics\n"
     ]
    }
   ],
   "source": [
    "for exc in ag.unlinked:\n",
    "    if exc['type'] == \"production\":\n",
    "        print(exc['name'])"
   ]
  },
  {
   "cell_type": "markdown",
   "metadata": {},
   "source": [
    "The disposal processes are in ecoinvent, but the recycling processes aren't."
   ]
  },
  {
   "cell_type": "code",
   "execution_count": 15,
   "metadata": {
    "collapsed": false
   },
   "outputs": [
    {
     "data": {
      "text/plain": [
       "['disposal, plastics, mixture, 15.3% water, to sanitary landfill' (kilogram, CH, ['waste management', 'sanitary landfill']),\n",
       " 'disposal, plastics, mixture, 15.3% water, to municipal incineration' (kilogram, CH, ['waste management', 'municipal incineration'])]"
      ]
     },
     "execution_count": 15,
     "metadata": {},
     "output_type": "execute_result"
    }
   ],
   "source": [
    "Database(\"ecoinvent 2.2\").search(\"Disposal, plastics, mixture\")"
   ]
  },
  {
   "cell_type": "code",
   "execution_count": 16,
   "metadata": {
    "collapsed": false
   },
   "outputs": [
    {
     "data": {
      "text/plain": [
       "[]"
      ]
     },
     "execution_count": 16,
     "metadata": {},
     "output_type": "execute_result"
    }
   ],
   "source": [
    "Database(\"ecoinvent 2.2\").search(\"recycling mixed plastics\")"
   ]
  },
  {
   "cell_type": "markdown",
   "metadata": {},
   "source": [
    "We have to be a little careful here. SimaPro considers these exchanges *outputs*, but ecoinvent models disposal as in input (you consume the disposal service). The easiest way to handle this is to simply change these outputs into inputs, which will fix the sign.\n",
    "\n",
    "Note that we can't use `ag.unlinked`, as this only gives each unlinked exchange once, not every time it appears in the original data."
   ]
  },
  {
   "cell_type": "code",
   "execution_count": 17,
   "metadata": {
    "collapsed": false
   },
   "outputs": [
    {
     "name": "stdout",
     "output_type": "stream",
     "text": [
      "Fixing: Disposal, plastics, mixture, 15.3% water, to municipal incineration\n",
      "Fixing: Disposal, used mineral oil, 10% water, to hazardous waste incineration\n",
      "Fixing: Disposal, plastics, mixture, 15.3% water, to municipal incineration\n",
      "Fixing: Disposal, plastics, mixture, 15.3% water, to municipal incineration\n",
      "Fixing: Disposal, plastics, mixture, 15.3% water, to municipal incineration\n",
      "Fixing: Disposal, plastics, mixture, 15.3% water, to municipal incineration\n",
      "Fixing: Disposal, plastics, mixture, 15.3% water, to municipal incineration\n",
      "Fixing: Disposal, plastics, mixture, 15.3% water, to municipal incineration\n",
      "Fixing: Disposal, plastics, mixture, 15.3% water, to municipal incineration\n",
      "Fixing: Disposal, plastics, mixture, 15.3% water, to municipal incineration\n",
      "Fixing: Disposal, building, glass sheet, to final disposal\n",
      "Fixing: Disposal, building, glass sheet, to final disposal\n",
      "Fixing: Disposal, paper, 11.2% water, to municipal incineration\n",
      "Fixing: Disposal, plastics, mixture, 15.3% water, to municipal incineration\n",
      "Fixing: Disposal, plastics, mixture, 15.3% water, to municipal incineration\n",
      "Fixing: Disposal, plastics, mixture, 15.3% water, to municipal incineration\n",
      "Fixing: Disposal, used mineral oil, 10% water, to hazardous waste incineration\n",
      "Fixing: Disposal, used mineral oil, 10% water, to hazardous waste incineration\n",
      "Fixing: Disposal, building, glass sheet, to final disposal\n",
      "Fixing: Disposal, building, glass sheet, to final disposal\n",
      "Fixing: Disposal, paper, 11.2% water, to municipal incineration\n",
      "Fixing: Disposal, plastics, mixture, 15.3% water, to municipal incineration\n",
      "Fixing: Disposal, plastics, mixture, 15.3% water, to municipal incineration\n",
      "Fixing: Disposal, plastics, mixture, 15.3% water, to municipal incineration\n",
      "Fixing: Disposal, used mineral oil, 10% water, to hazardous waste incineration\n",
      "Fixing: Disposal, used mineral oil, 10% water, to hazardous waste incineration\n",
      "Fixing: Disposal, building, glass sheet, to final disposal\n",
      "Fixing: Disposal, building, glass sheet, to final disposal\n",
      "Fixing: Disposal, paper, 11.2% water, to municipal incineration\n",
      "Fixing: Disposal, plastics, mixture, 15.3% water, to municipal incineration\n",
      "Fixing: Disposal, plastics, mixture, 15.3% water, to municipal incineration\n",
      "Fixing: Disposal, plastics, mixture, 15.3% water, to municipal incineration\n",
      "Fixing: Disposal, used mineral oil, 10% water, to hazardous waste incineration\n",
      "Fixing: Disposal, used mineral oil, 10% water, to hazardous waste incineration\n",
      "Fixing: Disposal, plastics, mixture, 15.3% water, to municipal incineration\n",
      "Fixing: Disposal, plastics, mixture, 15.3% water, to municipal incineration\n",
      "Fixing: Disposal, building, glass sheet, to final disposal\n",
      "Fixing: Disposal, building, glass sheet, to final disposal\n",
      "Fixing: Disposal, paper, 11.2% water, to municipal incineration\n",
      "Fixing: Disposal, plastics, mixture, 15.3% water, to municipal incineration\n",
      "Fixing: Disposal, plastics, mixture, 15.3% water, to municipal incineration\n",
      "Fixing: Disposal, plastics, mixture, 15.3% water, to municipal incineration\n",
      "Fixing: Disposal, used mineral oil, 10% water, to hazardous waste incineration\n",
      "Fixing: Disposal, used mineral oil, 10% water, to hazardous waste incineration\n",
      "Fixing: Disposal, building, glass sheet, to final disposal\n",
      "Fixing: Disposal, building, glass sheet, to final disposal\n",
      "Fixing: Disposal, paper, 11.2% water, to municipal incineration\n",
      "Fixing: Disposal, plastics, mixture, 15.3% water, to municipal incineration\n",
      "Fixing: Disposal, plastics, mixture, 15.3% water, to municipal incineration\n",
      "Fixing: Disposal, plastics, mixture, 15.3% water, to municipal incineration\n",
      "Fixing: Disposal, used mineral oil, 10% water, to hazardous waste incineration\n",
      "Fixing: Disposal, used mineral oil, 10% water, to hazardous waste incineration\n",
      "Fixing: Disposal, building, glass sheet, to final disposal\n",
      "Fixing: Disposal, building, glass sheet, to final disposal\n",
      "Fixing: Disposal, paper, 11.2% water, to municipal incineration\n",
      "Fixing: Disposal, plastics, mixture, 15.3% water, to municipal incineration\n",
      "Fixing: Disposal, plastics, mixture, 15.3% water, to municipal incineration\n",
      "Fixing: Disposal, plastics, mixture, 15.3% water, to municipal incineration\n",
      "Fixing: Disposal, used mineral oil, 10% water, to hazardous waste incineration\n",
      "Fixing: Disposal, used mineral oil, 10% water, to hazardous waste incineration\n",
      "Fixing: Disposal, plastics, mixture, 15.3% water, to municipal incineration\n",
      "Fixing: Disposal, plastics, mixture, 15.3% water, to municipal incineration\n",
      "Fixing: Disposal, plastics, mixture, 15.3% water, to municipal incineration\n",
      "Fixing: Disposal, plastics, mixture, 15.3% water, to municipal incineration\n",
      "Fixing: Disposal, used mineral oil, 10% water, to hazardous waste incineration\n",
      "Fixing: Disposal, hard coal ash, 0% water, to residual material landfill\n",
      "Fixing: Disposal, wood ash mixture, pure, 0% water, to municipal incineration\n",
      "Fixing: Disposal, wood ash mixture, pure, 0% water, to landfarming\n",
      "Fixing: Disposal, wood ash mixture, pure, 0% water, to sanitary landfill\n",
      "Fixing: Disposal, steel, 0% water, to inert material landfill\n",
      "Fixing: Disposal, electronics for control units\n",
      "Fixing: Disposal, municipal solid waste, 22.9% water, to municipal incineration\n",
      "Fixing: Disposal, steel, 0% water, to inert material landfill\n",
      "Fixing: Recycling steel and iron\n",
      "Fixing: Recycling steel and iron\n",
      "Fixing: Recycling aluminium\n",
      "Fixing: Disposal, aluminium, 0% water, to sanitary landfill\n",
      "Fixing: Disposal, steel, 0% water, to inert material landfill\n",
      "Fixing: Disposal, electronics for control units\n",
      "Fixing: Disposal, municipal solid waste, 22.9% water, to municipal incineration\n",
      "Fixing: Disposal, steel, 0% water, to inert material landfill\n",
      "Fixing: Recycling steel and iron\n",
      "Fixing: Recycling steel and iron\n",
      "Fixing: Recycling aluminium\n",
      "Fixing: Disposal, aluminium, 0% water, to sanitary landfill\n",
      "Fixing: Disposal, steel, 0% water, to inert material landfill\n",
      "Fixing: Disposal, electronics for control units\n",
      "Fixing: Disposal, municipal solid waste, 22.9% water, to municipal incineration\n",
      "Fixing: Disposal, steel, 0% water, to inert material landfill\n",
      "Fixing: Disposal, municipal solid waste, 22.9% water, to municipal incineration\n",
      "Fixing: Disposal, steel, 0% water, to inert material landfill\n",
      "Fixing: Recycling steel and iron\n",
      "Fixing: Recycling steel and iron\n",
      "Fixing: Recycling aluminium\n",
      "Fixing: Disposal, aluminium, 0% water, to sanitary landfill\n",
      "Fixing: Recycling PVC\n",
      "Fixing: Recycling mixed plastics\n",
      "Fixing: Disposal, steel, 0% water, to inert material landfill\n",
      "Fixing: Disposal, electronics for control units\n",
      "Fixing: Disposal, municipal solid waste, 22.9% water, to municipal incineration\n",
      "Fixing: Disposal, steel, 0% water, to inert material landfill\n",
      "Fixing: Disposal, municipal solid waste, 22.9% water, to municipal incineration\n",
      "Fixing: Disposal, steel, 0% water, to inert material landfill\n",
      "Fixing: Recycling steel and iron\n",
      "Fixing: Recycling steel and iron\n",
      "Fixing: Recycling aluminium\n",
      "Fixing: Disposal, aluminium, 0% water, to sanitary landfill\n",
      "Fixing: Recycling PVC\n",
      "Fixing: Recycling mixed plastics\n",
      "Fixing: Disposal, steel, 0% water, to inert material landfill\n",
      "Fixing: Disposal, municipal solid waste, 22.9% water, to municipal incineration\n",
      "Fixing: Disposal, steel, 0% water, to inert material landfill\n",
      "Fixing: Disposal, municipal solid waste, 22.9% water, to municipal incineration\n",
      "Fixing: Disposal, steel, 0% water, to inert material landfill\n",
      "Fixing: Recycling steel and iron\n",
      "Fixing: Recycling steel and iron\n",
      "Fixing: Recycling PVC\n"
     ]
    }
   ],
   "source": [
    "for ds in ag.data:\n",
    "    for exc in ds['exchanges']:\n",
    "        if exc['type'] == 'production' and not exc.get('input'):\n",
    "            print(\"Fixing:\", exc['name'])\n",
    "            exc['type'] = 'technosphere'"
   ]
  },
  {
   "cell_type": "markdown",
   "metadata": {},
   "source": [
    "We will leave the recycling processes alone for now; first, we will fix all the ecoinvent links, including the disposal ones, and then we will get back to recycling.\n",
    "\n",
    "## 3. Fix technosphere inputs\n",
    "\n",
    "Looking at the spreadsheet, you notice that there is no `categories` field for any of the inputs. By default, `categories` is used when linking, so if ecoinvent 2.2 has the `categories` field (it does), then no suitable link will be found.\n",
    "\n",
    "This is a common problem with SimaPro, and we already know have a strategy to handle it already. We will try to fix both the internal links and the links to ecoinvent 2.2."
   ]
  },
  {
   "cell_type": "code",
   "execution_count": 18,
   "metadata": {
    "collapsed": false
   },
   "outputs": [
    {
     "name": "stdout",
     "output_type": "stream",
     "text": [
      "Applying strategy: link_technosphere_based_on_name_unit_location\n",
      "Applying strategy: link_technosphere_based_on_name_unit_location\n",
      "822 datasets\n",
      "236600 exchanges\n",
      "19 unlinked exchanges\n",
      "  Type technosphere: 4 unique unlinked exchanges\n"
     ]
    },
    {
     "data": {
      "text/plain": [
       "(822, 236600, 19)"
      ]
     },
     "execution_count": 18,
     "metadata": {},
     "output_type": "execute_result"
    }
   ],
   "source": [
    "ag.apply_strategy(link_technosphere_based_on_name_unit_location)\n",
    "ag.apply_strategy(functools.partial(link_technosphere_based_on_name_unit_location, external_db_name=\"ecoinvent 2.2\"))\n",
    "ag.statistics()"
   ]
  },
  {
   "cell_type": "markdown",
   "metadata": {
    "collapsed": true
   },
   "source": [
    "So, that was relatively simple.\n",
    "\n",
    "## 4. Adding recycling processes\n",
    "\n",
    "The recycling processes don't exist, and don't have any impact, so the easiest way to handle these exchanges is to create new activities that produce the recycling flows. Luckily we have a method that does that for us. Note that the new recycling activities will be created in the Agribalyse database."
   ]
  },
  {
   "cell_type": "code",
   "execution_count": 19,
   "metadata": {
    "collapsed": false
   },
   "outputs": [
    {
     "name": "stdout",
     "output_type": "stream",
     "text": [
      "Applying strategy: link_iterable_by_fields\n",
      "826 datasets\n",
      "236600 exchanges\n",
      "0 unlinked exchanges\n",
      "  \n"
     ]
    },
    {
     "data": {
      "text/plain": [
       "(826, 236600, 0)"
      ]
     },
     "execution_count": 19,
     "metadata": {},
     "output_type": "execute_result"
    }
   ],
   "source": [
    "ag.add_unlinked_activities()\n",
    "ag.statistics()"
   ]
  },
  {
   "cell_type": "markdown",
   "metadata": {},
   "source": [
    "## Write the modified, fully linked database\n",
    "\n",
    "We are finished with the importing process."
   ]
  },
  {
   "cell_type": "code",
   "execution_count": 20,
   "metadata": {
    "collapsed": false
   },
   "outputs": [
    {
     "ename": "NonuniqueCode",
     "evalue": "",
     "output_type": "error",
     "traceback": [
      "\u001b[0;31m---------------------------------------------------------------------------\u001b[0m",
      "\u001b[0;31mNonuniqueCode\u001b[0m                             Traceback (most recent call last)",
      "\u001b[0;32m<ipython-input-20-69eadd3895d9>\u001b[0m in \u001b[0;36m<module>\u001b[0;34m()\u001b[0m\n\u001b[0;32m----> 1\u001b[0;31m \u001b[0mag\u001b[0m\u001b[0;34m.\u001b[0m\u001b[0mwrite_database\u001b[0m\u001b[0;34m(\u001b[0m\u001b[0;34m)\u001b[0m\u001b[0;34m\u001b[0m\u001b[0m\n\u001b[0m",
      "\u001b[0;32m/Users/cmutel/local35/bw3/lib/python3.5/site-packages/bw2io/importers/base_lci.py\u001b[0m in \u001b[0;36mwrite_database\u001b[0;34m(self, data, name, overwrite, backend, **kwargs)\u001b[0m\n\u001b[1;32m     90\u001b[0m             \u001b[0;32mraise\u001b[0m \u001b[0mWrongDatabase\u001b[0m\u001b[0;34m\u001b[0m\u001b[0m\n\u001b[1;32m     91\u001b[0m         \u001b[0;32mif\u001b[0m \u001b[0mlen\u001b[0m\u001b[0;34m(\u001b[0m\u001b[0;34m{\u001b[0m\u001b[0mo\u001b[0m\u001b[0;34m[\u001b[0m\u001b[0;34m'code'\u001b[0m\u001b[0;34m]\u001b[0m \u001b[0;32mfor\u001b[0m \u001b[0mo\u001b[0m \u001b[0;32min\u001b[0m \u001b[0mdata\u001b[0m\u001b[0;34m}\u001b[0m\u001b[0;34m)\u001b[0m \u001b[0;34m<\u001b[0m \u001b[0mlen\u001b[0m\u001b[0;34m(\u001b[0m\u001b[0mdata\u001b[0m\u001b[0;34m)\u001b[0m\u001b[0;34m:\u001b[0m\u001b[0;34m\u001b[0m\u001b[0m\n\u001b[0;32m---> 92\u001b[0;31m             \u001b[0;32mraise\u001b[0m \u001b[0mNonuniqueCode\u001b[0m\u001b[0;34m\u001b[0m\u001b[0m\n\u001b[0m\u001b[1;32m     93\u001b[0m \u001b[0;34m\u001b[0m\u001b[0m\n\u001b[1;32m     94\u001b[0m         \u001b[0mdata\u001b[0m \u001b[0;34m=\u001b[0m \u001b[0;34m{\u001b[0m\u001b[0;34m(\u001b[0m\u001b[0mds\u001b[0m\u001b[0;34m[\u001b[0m\u001b[0;34m'database'\u001b[0m\u001b[0;34m]\u001b[0m\u001b[0;34m,\u001b[0m \u001b[0mds\u001b[0m\u001b[0;34m[\u001b[0m\u001b[0;34m'code'\u001b[0m\u001b[0;34m]\u001b[0m\u001b[0;34m)\u001b[0m\u001b[0;34m:\u001b[0m \u001b[0mds\u001b[0m \u001b[0;32mfor\u001b[0m \u001b[0mds\u001b[0m \u001b[0;32min\u001b[0m \u001b[0mdata\u001b[0m\u001b[0;34m}\u001b[0m\u001b[0;34m\u001b[0m\u001b[0m\n",
      "\u001b[0;31mNonuniqueCode\u001b[0m: "
     ]
    }
   ],
   "source": [
    "ag.write_database()"
   ]
  },
  {
   "cell_type": "markdown",
   "metadata": {},
   "source": [
    "OK, that is not good. The unique identifying codes for the activities come from the source data, which wouldn't be so foolish as to give non-unique identifiers to activities in the same export file, would it? Let's look at the codes."
   ]
  },
  {
   "cell_type": "code",
   "execution_count": 21,
   "metadata": {
    "collapsed": false
   },
   "outputs": [
    {
     "name": "stdout",
     "output_type": "stream",
     "text": [
      "265 826\n",
      "{'97', '270', '7', '26', '39', '77', '252', 'c0c1faef6c135ec10e6e8258eb047b5c', '241', '28', '1002', '227', '54', '83', '140', '114', '229', '111', '80', '137', '72', '42', '63', '124', '290', '237', '126', '10', '104', '278', '1', '110', '287', '232', '57', '73', '17', '228', '76', '277', '21', '92', '29', '58', '300', '286', '130', '45', '41', '116', '142', '2', '248', '292', '55', '314', '1000', '113', '38', '60', '81', '108', '312', '4', '154', '31', '145', '135', '236', '11', '256', '303', '318', '320', '50', '289', '261', '133', '155', '306', '293', '250', '79', '74', '106', '136', '102', '64', '6d606e201ebeddccf36d8a07e7c8bb76', '152', '294', '52', '132', '307', '321', '119', '147', '262', '283', '22', '225', '267', '141', '44', '85', '149', '16', '84', '309', '243', '263', '1003', '275', '129', '254', '9', '66', '40', '134', '308', '51', '271', '33', '78dbcef90e31a55f44192d3a14e6a0b0', '105', '264', '282', '89', '235', '281', '68', '246', '13', '62', '27', '32', '56', '103', '139', '3', '273', '284', '304', '48', '86', '274', '131', '71', '107', '310', '299', '43', '150', '35', '156', '151', '233', '96', '93', '239', '242', '249', '88', '1005', '34', '138', '143', '78', '280', '153', '128', '146', '260', '118', '1001', '115', '67', '36', '90', '65', '59', '127', '37', '5', '157', '296', '317', '53', '234', '288', '15', '98', '99', '144', '302', '20', '61', '23', '224', '109', '244', '269', '295', '315', '94', '82', '6', '123', '313', '268', '230', '69', '251', '297', '305', '46', '19', '101', '125', '265', '285', '12', '1004', '257', '14', '18', '316', '298', '100', '25', '95', '279', '117', '247', '291', '120', '259', '91', '148', '87', '276', '253', '255', '238', '47', '272', 'e80ed63a3b830fd7fea9b1664e984bb8', '311', '301', '122', '258', '70', '49', '112', '240', '24', '30', '231', '8', '121', '75', '245', '266', '226', '319'}\n"
     ]
    }
   ],
   "source": [
    "print(len({ds['code'] for ds in ag.data}), len(ag.data))\n",
    "print({ds['code'] for ds in ag.data})"
   ]
  },
  {
   "cell_type": "markdown",
   "metadata": {},
   "source": [
    "That is not good. 826 activities, and only 265 unique codes. Let's look at the source data:\n",
    "\n",
    "    <dataset number=\"28\" timestamp=\"2015-02-22T17:27:17\" generator=\"SimaPro 8.0.3.14\">\n",
    "    <referenceFunction name=\"Bovine feed,MAT18, at farm gate\">\n",
    "\n",
    "    <dataset number=\"28\" timestamp=\"2014-12-21T14:10:26\" generator=\"SimaPro 8.0.3.14\">\n",
    "    <referenceFunction name=\"Greenhouse, glass walls and roof, plastic tubes\">\n",
    "\n",
    "    <dataset number=\"28\" timestamp=\"2013-09-18T16:53:22\" generator=\"CDT V1.2\">\n",
    "    <referenceFunction name=\"Harrowing, with rotary harrow (standard equipment)\">\n",
    "\n",
    "\n",
    "We need to add unique codes. We have a strategy for this, `set_code_by_activity_hash`, but it won't overwrite codes already present. We can fix that :)"
   ]
  },
  {
   "cell_type": "code",
   "execution_count": 22,
   "metadata": {
    "collapsed": true
   },
   "outputs": [],
   "source": [
    "for ds in ag.data:\n",
    "    del ds['code']"
   ]
  },
  {
   "cell_type": "code",
   "execution_count": 23,
   "metadata": {
    "collapsed": false
   },
   "outputs": [
    {
     "name": "stdout",
     "output_type": "stream",
     "text": [
      "Applying strategy: set_code_by_activity_hash\n"
     ]
    }
   ],
   "source": [
    "from bw2io.strategies import set_code_by_activity_hash\n",
    "ag.apply_strategy(set_code_by_activity_hash)"
   ]
  },
  {
   "cell_type": "markdown",
   "metadata": {},
   "source": [
    "Only the internal links will need to be redone - the links to ecoinvent 2.2 and the biosphere database are fine.\n",
    "\n",
    "We can't use `link_technosphere_based_on_name_unit_location`, because we need to pass the parameter `relink`."
   ]
  },
  {
   "cell_type": "code",
   "execution_count": 24,
   "metadata": {
    "collapsed": false
   },
   "outputs": [
    {
     "name": "stdout",
     "output_type": "stream",
     "text": [
      "Applying strategy: link_iterable_by_fields\n",
      "826 datasets\n",
      "236600 exchanges\n",
      "0 unlinked exchanges\n",
      "  \n"
     ]
    },
    {
     "data": {
      "text/plain": [
       "(826, 236600, 0)"
      ]
     },
     "execution_count": 24,
     "metadata": {},
     "output_type": "execute_result"
    }
   ],
   "source": [
    "ag.apply_strategy(functools.partial(\n",
    "        link_iterable_by_fields,\n",
    "        other=ag.data,\n",
    "        fields=('name', 'location', 'unit'),\n",
    "        relink=True\n",
    "))\n",
    "ag.statistics()"
   ]
  },
  {
   "cell_type": "markdown",
   "metadata": {},
   "source": [
    "## Actually writing the final database\n",
    "\n",
    "We are now ready to try again."
   ]
  },
  {
   "cell_type": "code",
   "execution_count": 25,
   "metadata": {
    "collapsed": false
   },
   "outputs": [
    {
     "name": "stderr",
     "output_type": "stream",
     "text": [
      "Writing activities to SQLite3 database:\n",
      "0%                          100%\n",
      "[##############################] | ETA: 00:00:00\n",
      "Total time elapsed: 00:00:28\n"
     ]
    },
    {
     "name": "stdout",
     "output_type": "stream",
     "text": [
      "Title: Writing activities to SQLite3 database:\n",
      "  Started: 11/30/2016 16:15:54\n",
      "  Finished: 11/30/2016 16:16:23\n",
      "  Total time elapsed: 00:00:28\n",
      "  CPU %: 96.60\n",
      "  Memory %: 2.24\n",
      "Created database: Agribalyse 1.2\n"
     ]
    },
    {
     "data": {
      "text/plain": [
       "Brightway2 SQLiteBackend: Agribalyse 1.2"
      ]
     },
     "execution_count": 25,
     "metadata": {},
     "output_type": "execute_result"
    }
   ],
   "source": [
    "ag.write_database()"
   ]
  },
  {
   "cell_type": "markdown",
   "metadata": {},
   "source": [
    "## Checking the imported datasets\n",
    "\n",
    "We need to do some basic validation to make sure we have meaningful results. Here I just do some basic testing, but you should validate against known scores if you are frequently using this database. The following code is rahter simple and is not a real validation check."
   ]
  },
  {
   "cell_type": "code",
   "execution_count": 27,
   "metadata": {
    "collapsed": false
   },
   "outputs": [
    {
     "data": {
      "text/plain": [
       "('IPCC 2013', 'climate change', 'GWP 20a')"
      ]
     },
     "execution_count": 27,
     "metadata": {},
     "output_type": "execute_result"
    }
   ],
   "source": [
    "gwp = [x for x in methods if \"IPCC 2013\" in str(x)][0]\n",
    "gwp"
   ]
  },
  {
   "cell_type": "code",
   "execution_count": 28,
   "metadata": {
    "collapsed": false
   },
   "outputs": [
    {
     "data": {
      "text/plain": [
       "13.329517917350614"
      ]
     },
     "execution_count": 28,
     "metadata": {},
     "output_type": "execute_result"
    }
   ],
   "source": [
    "db = Database(\"Agribalyse 1.2\")\n",
    "\n",
    "lca = LCA({db.random(): 1}, gwp)\n",
    "lca.lci(factorize=True)\n",
    "lca.lcia()\n",
    "lca.score"
   ]
  },
  {
   "cell_type": "markdown",
   "metadata": {},
   "source": [
    "Let's calculate the LCIA scores of all activities in Agribalyse"
   ]
  },
  {
   "cell_type": "code",
   "execution_count": 30,
   "metadata": {
    "collapsed": false
   },
   "outputs": [
    {
     "name": "stderr",
     "output_type": "stream",
     "text": [
      "0%                          100%\n",
      "[##############################] | ETA: 00:00:00\n",
      "Total time elapsed: 00:00:08\n"
     ]
    }
   ],
   "source": [
    "import pyprind\n",
    "\n",
    "scores = []\n",
    "\n",
    "for act in pyprind.prog_bar(db):\n",
    "    lca.redo_lcia({act: 1})\n",
    "    scores.append(lca.score)"
   ]
  },
  {
   "cell_type": "code",
   "execution_count": 32,
   "metadata": {
    "collapsed": false
   },
   "outputs": [
    {
     "name": "stdout",
     "output_type": "stream",
     "text": [
      "27 826\n"
     ]
    }
   ],
   "source": [
    "import numpy as np\n",
    "\n",
    "scores = np.array(scores)\n",
    "mask = scores == 0\n",
    "print(mask.sum(), len(db))\n",
    "\n",
    "scores = scores[~mask]"
   ]
  },
  {
   "cell_type": "code",
   "execution_count": 33,
   "metadata": {
    "collapsed": true
   },
   "outputs": [],
   "source": [
    "%matplotlib notebook"
   ]
  },
  {
   "cell_type": "code",
   "execution_count": 34,
   "metadata": {
    "collapsed": false
   },
   "outputs": [
    {
     "name": "stderr",
     "output_type": "stream",
     "text": [
      "Warning: axes.color_cycle is deprecated and replaced with axes.prop_cycle; please use the latter.\n"
     ]
    }
   ],
   "source": [
    "import seaborn as sns"
   ]
  },
  {
   "cell_type": "code",
   "execution_count": 35,
   "metadata": {
    "collapsed": false
   },
   "outputs": [
    {
     "data": {
      "application/javascript": [
       "/* Put everything inside the global mpl namespace */\n",
       "window.mpl = {};\n",
       "\n",
       "mpl.get_websocket_type = function() {\n",
       "    if (typeof(WebSocket) !== 'undefined') {\n",
       "        return WebSocket;\n",
       "    } else if (typeof(MozWebSocket) !== 'undefined') {\n",
       "        return MozWebSocket;\n",
       "    } else {\n",
       "        alert('Your browser does not have WebSocket support.' +\n",
       "              'Please try Chrome, Safari or Firefox ≥ 6. ' +\n",
       "              'Firefox 4 and 5 are also supported but you ' +\n",
       "              'have to enable WebSockets in about:config.');\n",
       "    };\n",
       "}\n",
       "\n",
       "mpl.figure = function(figure_id, websocket, ondownload, parent_element) {\n",
       "    this.id = figure_id;\n",
       "\n",
       "    this.ws = websocket;\n",
       "\n",
       "    this.supports_binary = (this.ws.binaryType != undefined);\n",
       "\n",
       "    if (!this.supports_binary) {\n",
       "        var warnings = document.getElementById(\"mpl-warnings\");\n",
       "        if (warnings) {\n",
       "            warnings.style.display = 'block';\n",
       "            warnings.textContent = (\n",
       "                \"This browser does not support binary websocket messages. \" +\n",
       "                    \"Performance may be slow.\");\n",
       "        }\n",
       "    }\n",
       "\n",
       "    this.imageObj = new Image();\n",
       "\n",
       "    this.context = undefined;\n",
       "    this.message = undefined;\n",
       "    this.canvas = undefined;\n",
       "    this.rubberband_canvas = undefined;\n",
       "    this.rubberband_context = undefined;\n",
       "    this.format_dropdown = undefined;\n",
       "\n",
       "    this.image_mode = 'full';\n",
       "\n",
       "    this.root = $('<div/>');\n",
       "    this._root_extra_style(this.root)\n",
       "    this.root.attr('style', 'display: inline-block');\n",
       "\n",
       "    $(parent_element).append(this.root);\n",
       "\n",
       "    this._init_header(this);\n",
       "    this._init_canvas(this);\n",
       "    this._init_toolbar(this);\n",
       "\n",
       "    var fig = this;\n",
       "\n",
       "    this.waiting = false;\n",
       "\n",
       "    this.ws.onopen =  function () {\n",
       "            fig.send_message(\"supports_binary\", {value: fig.supports_binary});\n",
       "            fig.send_message(\"send_image_mode\", {});\n",
       "            fig.send_message(\"refresh\", {});\n",
       "        }\n",
       "\n",
       "    this.imageObj.onload = function() {\n",
       "            if (fig.image_mode == 'full') {\n",
       "                // Full images could contain transparency (where diff images\n",
       "                // almost always do), so we need to clear the canvas so that\n",
       "                // there is no ghosting.\n",
       "                fig.context.clearRect(0, 0, fig.canvas.width, fig.canvas.height);\n",
       "            }\n",
       "            fig.context.drawImage(fig.imageObj, 0, 0);\n",
       "        };\n",
       "\n",
       "    this.imageObj.onunload = function() {\n",
       "        this.ws.close();\n",
       "    }\n",
       "\n",
       "    this.ws.onmessage = this._make_on_message_function(this);\n",
       "\n",
       "    this.ondownload = ondownload;\n",
       "}\n",
       "\n",
       "mpl.figure.prototype._init_header = function() {\n",
       "    var titlebar = $(\n",
       "        '<div class=\"ui-dialog-titlebar ui-widget-header ui-corner-all ' +\n",
       "        'ui-helper-clearfix\"/>');\n",
       "    var titletext = $(\n",
       "        '<div class=\"ui-dialog-title\" style=\"width: 100%; ' +\n",
       "        'text-align: center; padding: 3px;\"/>');\n",
       "    titlebar.append(titletext)\n",
       "    this.root.append(titlebar);\n",
       "    this.header = titletext[0];\n",
       "}\n",
       "\n",
       "\n",
       "\n",
       "mpl.figure.prototype._canvas_extra_style = function(canvas_div) {\n",
       "\n",
       "}\n",
       "\n",
       "\n",
       "mpl.figure.prototype._root_extra_style = function(canvas_div) {\n",
       "\n",
       "}\n",
       "\n",
       "mpl.figure.prototype._init_canvas = function() {\n",
       "    var fig = this;\n",
       "\n",
       "    var canvas_div = $('<div/>');\n",
       "\n",
       "    canvas_div.attr('style', 'position: relative; clear: both; outline: 0');\n",
       "\n",
       "    function canvas_keyboard_event(event) {\n",
       "        return fig.key_event(event, event['data']);\n",
       "    }\n",
       "\n",
       "    canvas_div.keydown('key_press', canvas_keyboard_event);\n",
       "    canvas_div.keyup('key_release', canvas_keyboard_event);\n",
       "    this.canvas_div = canvas_div\n",
       "    this._canvas_extra_style(canvas_div)\n",
       "    this.root.append(canvas_div);\n",
       "\n",
       "    var canvas = $('<canvas/>');\n",
       "    canvas.addClass('mpl-canvas');\n",
       "    canvas.attr('style', \"left: 0; top: 0; z-index: 0; outline: 0\")\n",
       "\n",
       "    this.canvas = canvas[0];\n",
       "    this.context = canvas[0].getContext(\"2d\");\n",
       "\n",
       "    var rubberband = $('<canvas/>');\n",
       "    rubberband.attr('style', \"position: absolute; left: 0; top: 0; z-index: 1;\")\n",
       "\n",
       "    var pass_mouse_events = true;\n",
       "\n",
       "    canvas_div.resizable({\n",
       "        start: function(event, ui) {\n",
       "            pass_mouse_events = false;\n",
       "        },\n",
       "        resize: function(event, ui) {\n",
       "            fig.request_resize(ui.size.width, ui.size.height);\n",
       "        },\n",
       "        stop: function(event, ui) {\n",
       "            pass_mouse_events = true;\n",
       "            fig.request_resize(ui.size.width, ui.size.height);\n",
       "        },\n",
       "    });\n",
       "\n",
       "    function mouse_event_fn(event) {\n",
       "        if (pass_mouse_events)\n",
       "            return fig.mouse_event(event, event['data']);\n",
       "    }\n",
       "\n",
       "    rubberband.mousedown('button_press', mouse_event_fn);\n",
       "    rubberband.mouseup('button_release', mouse_event_fn);\n",
       "    // Throttle sequential mouse events to 1 every 20ms.\n",
       "    rubberband.mousemove('motion_notify', mouse_event_fn);\n",
       "\n",
       "    rubberband.mouseenter('figure_enter', mouse_event_fn);\n",
       "    rubberband.mouseleave('figure_leave', mouse_event_fn);\n",
       "\n",
       "    canvas_div.on(\"wheel\", function (event) {\n",
       "        event = event.originalEvent;\n",
       "        event['data'] = 'scroll'\n",
       "        if (event.deltaY < 0) {\n",
       "            event.step = 1;\n",
       "        } else {\n",
       "            event.step = -1;\n",
       "        }\n",
       "        mouse_event_fn(event);\n",
       "    });\n",
       "\n",
       "    canvas_div.append(canvas);\n",
       "    canvas_div.append(rubberband);\n",
       "\n",
       "    this.rubberband = rubberband;\n",
       "    this.rubberband_canvas = rubberband[0];\n",
       "    this.rubberband_context = rubberband[0].getContext(\"2d\");\n",
       "    this.rubberband_context.strokeStyle = \"#000000\";\n",
       "\n",
       "    this._resize_canvas = function(width, height) {\n",
       "        // Keep the size of the canvas, canvas container, and rubber band\n",
       "        // canvas in synch.\n",
       "        canvas_div.css('width', width)\n",
       "        canvas_div.css('height', height)\n",
       "\n",
       "        canvas.attr('width', width);\n",
       "        canvas.attr('height', height);\n",
       "\n",
       "        rubberband.attr('width', width);\n",
       "        rubberband.attr('height', height);\n",
       "    }\n",
       "\n",
       "    // Set the figure to an initial 600x600px, this will subsequently be updated\n",
       "    // upon first draw.\n",
       "    this._resize_canvas(600, 600);\n",
       "\n",
       "    // Disable right mouse context menu.\n",
       "    $(this.rubberband_canvas).bind(\"contextmenu\",function(e){\n",
       "        return false;\n",
       "    });\n",
       "\n",
       "    function set_focus () {\n",
       "        canvas.focus();\n",
       "        canvas_div.focus();\n",
       "    }\n",
       "\n",
       "    window.setTimeout(set_focus, 100);\n",
       "}\n",
       "\n",
       "mpl.figure.prototype._init_toolbar = function() {\n",
       "    var fig = this;\n",
       "\n",
       "    var nav_element = $('<div/>')\n",
       "    nav_element.attr('style', 'width: 100%');\n",
       "    this.root.append(nav_element);\n",
       "\n",
       "    // Define a callback function for later on.\n",
       "    function toolbar_event(event) {\n",
       "        return fig.toolbar_button_onclick(event['data']);\n",
       "    }\n",
       "    function toolbar_mouse_event(event) {\n",
       "        return fig.toolbar_button_onmouseover(event['data']);\n",
       "    }\n",
       "\n",
       "    for(var toolbar_ind in mpl.toolbar_items) {\n",
       "        var name = mpl.toolbar_items[toolbar_ind][0];\n",
       "        var tooltip = mpl.toolbar_items[toolbar_ind][1];\n",
       "        var image = mpl.toolbar_items[toolbar_ind][2];\n",
       "        var method_name = mpl.toolbar_items[toolbar_ind][3];\n",
       "\n",
       "        if (!name) {\n",
       "            // put a spacer in here.\n",
       "            continue;\n",
       "        }\n",
       "        var button = $('<button/>');\n",
       "        button.addClass('ui-button ui-widget ui-state-default ui-corner-all ' +\n",
       "                        'ui-button-icon-only');\n",
       "        button.attr('role', 'button');\n",
       "        button.attr('aria-disabled', 'false');\n",
       "        button.click(method_name, toolbar_event);\n",
       "        button.mouseover(tooltip, toolbar_mouse_event);\n",
       "\n",
       "        var icon_img = $('<span/>');\n",
       "        icon_img.addClass('ui-button-icon-primary ui-icon');\n",
       "        icon_img.addClass(image);\n",
       "        icon_img.addClass('ui-corner-all');\n",
       "\n",
       "        var tooltip_span = $('<span/>');\n",
       "        tooltip_span.addClass('ui-button-text');\n",
       "        tooltip_span.html(tooltip);\n",
       "\n",
       "        button.append(icon_img);\n",
       "        button.append(tooltip_span);\n",
       "\n",
       "        nav_element.append(button);\n",
       "    }\n",
       "\n",
       "    var fmt_picker_span = $('<span/>');\n",
       "\n",
       "    var fmt_picker = $('<select/>');\n",
       "    fmt_picker.addClass('mpl-toolbar-option ui-widget ui-widget-content');\n",
       "    fmt_picker_span.append(fmt_picker);\n",
       "    nav_element.append(fmt_picker_span);\n",
       "    this.format_dropdown = fmt_picker[0];\n",
       "\n",
       "    for (var ind in mpl.extensions) {\n",
       "        var fmt = mpl.extensions[ind];\n",
       "        var option = $(\n",
       "            '<option/>', {selected: fmt === mpl.default_extension}).html(fmt);\n",
       "        fmt_picker.append(option)\n",
       "    }\n",
       "\n",
       "    // Add hover states to the ui-buttons\n",
       "    $( \".ui-button\" ).hover(\n",
       "        function() { $(this).addClass(\"ui-state-hover\");},\n",
       "        function() { $(this).removeClass(\"ui-state-hover\");}\n",
       "    );\n",
       "\n",
       "    var status_bar = $('<span class=\"mpl-message\"/>');\n",
       "    nav_element.append(status_bar);\n",
       "    this.message = status_bar[0];\n",
       "}\n",
       "\n",
       "mpl.figure.prototype.request_resize = function(x_pixels, y_pixels) {\n",
       "    // Request matplotlib to resize the figure. Matplotlib will then trigger a resize in the client,\n",
       "    // which will in turn request a refresh of the image.\n",
       "    this.send_message('resize', {'width': x_pixels, 'height': y_pixels});\n",
       "}\n",
       "\n",
       "mpl.figure.prototype.send_message = function(type, properties) {\n",
       "    properties['type'] = type;\n",
       "    properties['figure_id'] = this.id;\n",
       "    this.ws.send(JSON.stringify(properties));\n",
       "}\n",
       "\n",
       "mpl.figure.prototype.send_draw_message = function() {\n",
       "    if (!this.waiting) {\n",
       "        this.waiting = true;\n",
       "        this.ws.send(JSON.stringify({type: \"draw\", figure_id: this.id}));\n",
       "    }\n",
       "}\n",
       "\n",
       "\n",
       "mpl.figure.prototype.handle_save = function(fig, msg) {\n",
       "    var format_dropdown = fig.format_dropdown;\n",
       "    var format = format_dropdown.options[format_dropdown.selectedIndex].value;\n",
       "    fig.ondownload(fig, format);\n",
       "}\n",
       "\n",
       "\n",
       "mpl.figure.prototype.handle_resize = function(fig, msg) {\n",
       "    var size = msg['size'];\n",
       "    if (size[0] != fig.canvas.width || size[1] != fig.canvas.height) {\n",
       "        fig._resize_canvas(size[0], size[1]);\n",
       "        fig.send_message(\"refresh\", {});\n",
       "    };\n",
       "}\n",
       "\n",
       "mpl.figure.prototype.handle_rubberband = function(fig, msg) {\n",
       "    var x0 = msg['x0'];\n",
       "    var y0 = fig.canvas.height - msg['y0'];\n",
       "    var x1 = msg['x1'];\n",
       "    var y1 = fig.canvas.height - msg['y1'];\n",
       "    x0 = Math.floor(x0) + 0.5;\n",
       "    y0 = Math.floor(y0) + 0.5;\n",
       "    x1 = Math.floor(x1) + 0.5;\n",
       "    y1 = Math.floor(y1) + 0.5;\n",
       "    var min_x = Math.min(x0, x1);\n",
       "    var min_y = Math.min(y0, y1);\n",
       "    var width = Math.abs(x1 - x0);\n",
       "    var height = Math.abs(y1 - y0);\n",
       "\n",
       "    fig.rubberband_context.clearRect(\n",
       "        0, 0, fig.canvas.width, fig.canvas.height);\n",
       "\n",
       "    fig.rubberband_context.strokeRect(min_x, min_y, width, height);\n",
       "}\n",
       "\n",
       "mpl.figure.prototype.handle_figure_label = function(fig, msg) {\n",
       "    // Updates the figure title.\n",
       "    fig.header.textContent = msg['label'];\n",
       "}\n",
       "\n",
       "mpl.figure.prototype.handle_cursor = function(fig, msg) {\n",
       "    var cursor = msg['cursor'];\n",
       "    switch(cursor)\n",
       "    {\n",
       "    case 0:\n",
       "        cursor = 'pointer';\n",
       "        break;\n",
       "    case 1:\n",
       "        cursor = 'default';\n",
       "        break;\n",
       "    case 2:\n",
       "        cursor = 'crosshair';\n",
       "        break;\n",
       "    case 3:\n",
       "        cursor = 'move';\n",
       "        break;\n",
       "    }\n",
       "    fig.rubberband_canvas.style.cursor = cursor;\n",
       "}\n",
       "\n",
       "mpl.figure.prototype.handle_message = function(fig, msg) {\n",
       "    fig.message.textContent = msg['message'];\n",
       "}\n",
       "\n",
       "mpl.figure.prototype.handle_draw = function(fig, msg) {\n",
       "    // Request the server to send over a new figure.\n",
       "    fig.send_draw_message();\n",
       "}\n",
       "\n",
       "mpl.figure.prototype.handle_image_mode = function(fig, msg) {\n",
       "    fig.image_mode = msg['mode'];\n",
       "}\n",
       "\n",
       "mpl.figure.prototype.updated_canvas_event = function() {\n",
       "    // Called whenever the canvas gets updated.\n",
       "    this.send_message(\"ack\", {});\n",
       "}\n",
       "\n",
       "// A function to construct a web socket function for onmessage handling.\n",
       "// Called in the figure constructor.\n",
       "mpl.figure.prototype._make_on_message_function = function(fig) {\n",
       "    return function socket_on_message(evt) {\n",
       "        if (evt.data instanceof Blob) {\n",
       "            /* FIXME: We get \"Resource interpreted as Image but\n",
       "             * transferred with MIME type text/plain:\" errors on\n",
       "             * Chrome.  But how to set the MIME type?  It doesn't seem\n",
       "             * to be part of the websocket stream */\n",
       "            evt.data.type = \"image/png\";\n",
       "\n",
       "            /* Free the memory for the previous frames */\n",
       "            if (fig.imageObj.src) {\n",
       "                (window.URL || window.webkitURL).revokeObjectURL(\n",
       "                    fig.imageObj.src);\n",
       "            }\n",
       "\n",
       "            fig.imageObj.src = (window.URL || window.webkitURL).createObjectURL(\n",
       "                evt.data);\n",
       "            fig.updated_canvas_event();\n",
       "            fig.waiting = false;\n",
       "            return;\n",
       "        }\n",
       "        else if (typeof evt.data === 'string' && evt.data.slice(0, 21) == \"data:image/png;base64\") {\n",
       "            fig.imageObj.src = evt.data;\n",
       "            fig.updated_canvas_event();\n",
       "            fig.waiting = false;\n",
       "            return;\n",
       "        }\n",
       "\n",
       "        var msg = JSON.parse(evt.data);\n",
       "        var msg_type = msg['type'];\n",
       "\n",
       "        // Call the  \"handle_{type}\" callback, which takes\n",
       "        // the figure and JSON message as its only arguments.\n",
       "        try {\n",
       "            var callback = fig[\"handle_\" + msg_type];\n",
       "        } catch (e) {\n",
       "            console.log(\"No handler for the '\" + msg_type + \"' message type: \", msg);\n",
       "            return;\n",
       "        }\n",
       "\n",
       "        if (callback) {\n",
       "            try {\n",
       "                // console.log(\"Handling '\" + msg_type + \"' message: \", msg);\n",
       "                callback(fig, msg);\n",
       "            } catch (e) {\n",
       "                console.log(\"Exception inside the 'handler_\" + msg_type + \"' callback:\", e, e.stack, msg);\n",
       "            }\n",
       "        }\n",
       "    };\n",
       "}\n",
       "\n",
       "// from http://stackoverflow.com/questions/1114465/getting-mouse-location-in-canvas\n",
       "mpl.findpos = function(e) {\n",
       "    //this section is from http://www.quirksmode.org/js/events_properties.html\n",
       "    var targ;\n",
       "    if (!e)\n",
       "        e = window.event;\n",
       "    if (e.target)\n",
       "        targ = e.target;\n",
       "    else if (e.srcElement)\n",
       "        targ = e.srcElement;\n",
       "    if (targ.nodeType == 3) // defeat Safari bug\n",
       "        targ = targ.parentNode;\n",
       "\n",
       "    // jQuery normalizes the pageX and pageY\n",
       "    // pageX,Y are the mouse positions relative to the document\n",
       "    // offset() returns the position of the element relative to the document\n",
       "    var x = e.pageX - $(targ).offset().left;\n",
       "    var y = e.pageY - $(targ).offset().top;\n",
       "\n",
       "    return {\"x\": x, \"y\": y};\n",
       "};\n",
       "\n",
       "/*\n",
       " * return a copy of an object with only non-object keys\n",
       " * we need this to avoid circular references\n",
       " * http://stackoverflow.com/a/24161582/3208463\n",
       " */\n",
       "function simpleKeys (original) {\n",
       "  return Object.keys(original).reduce(function (obj, key) {\n",
       "    if (typeof original[key] !== 'object')\n",
       "        obj[key] = original[key]\n",
       "    return obj;\n",
       "  }, {});\n",
       "}\n",
       "\n",
       "mpl.figure.prototype.mouse_event = function(event, name) {\n",
       "    var canvas_pos = mpl.findpos(event)\n",
       "\n",
       "    if (name === 'button_press')\n",
       "    {\n",
       "        this.canvas.focus();\n",
       "        this.canvas_div.focus();\n",
       "    }\n",
       "\n",
       "    var x = canvas_pos.x;\n",
       "    var y = canvas_pos.y;\n",
       "\n",
       "    this.send_message(name, {x: x, y: y, button: event.button,\n",
       "                             step: event.step,\n",
       "                             guiEvent: simpleKeys(event)});\n",
       "\n",
       "    /* This prevents the web browser from automatically changing to\n",
       "     * the text insertion cursor when the button is pressed.  We want\n",
       "     * to control all of the cursor setting manually through the\n",
       "     * 'cursor' event from matplotlib */\n",
       "    event.preventDefault();\n",
       "    return false;\n",
       "}\n",
       "\n",
       "mpl.figure.prototype._key_event_extra = function(event, name) {\n",
       "    // Handle any extra behaviour associated with a key event\n",
       "}\n",
       "\n",
       "mpl.figure.prototype.key_event = function(event, name) {\n",
       "\n",
       "    // Prevent repeat events\n",
       "    if (name == 'key_press')\n",
       "    {\n",
       "        if (event.which === this._key)\n",
       "            return;\n",
       "        else\n",
       "            this._key = event.which;\n",
       "    }\n",
       "    if (name == 'key_release')\n",
       "        this._key = null;\n",
       "\n",
       "    var value = '';\n",
       "    if (event.ctrlKey && event.which != 17)\n",
       "        value += \"ctrl+\";\n",
       "    if (event.altKey && event.which != 18)\n",
       "        value += \"alt+\";\n",
       "    if (event.shiftKey && event.which != 16)\n",
       "        value += \"shift+\";\n",
       "\n",
       "    value += 'k';\n",
       "    value += event.which.toString();\n",
       "\n",
       "    this._key_event_extra(event, name);\n",
       "\n",
       "    this.send_message(name, {key: value,\n",
       "                             guiEvent: simpleKeys(event)});\n",
       "    return false;\n",
       "}\n",
       "\n",
       "mpl.figure.prototype.toolbar_button_onclick = function(name) {\n",
       "    if (name == 'download') {\n",
       "        this.handle_save(this, null);\n",
       "    } else {\n",
       "        this.send_message(\"toolbar_button\", {name: name});\n",
       "    }\n",
       "};\n",
       "\n",
       "mpl.figure.prototype.toolbar_button_onmouseover = function(tooltip) {\n",
       "    this.message.textContent = tooltip;\n",
       "};\n",
       "mpl.toolbar_items = [[\"Home\", \"Reset original view\", \"fa fa-home icon-home\", \"home\"], [\"Back\", \"Back to  previous view\", \"fa fa-arrow-left icon-arrow-left\", \"back\"], [\"Forward\", \"Forward to next view\", \"fa fa-arrow-right icon-arrow-right\", \"forward\"], [\"\", \"\", \"\", \"\"], [\"Pan\", \"Pan axes with left mouse, zoom with right\", \"fa fa-arrows icon-move\", \"pan\"], [\"Zoom\", \"Zoom to rectangle\", \"fa fa-square-o icon-check-empty\", \"zoom\"], [\"\", \"\", \"\", \"\"], [\"Download\", \"Download plot\", \"fa fa-floppy-o icon-save\", \"download\"]];\n",
       "\n",
       "mpl.extensions = [\"eps\", \"jpeg\", \"pdf\", \"png\", \"ps\", \"raw\", \"svg\", \"tif\"];\n",
       "\n",
       "mpl.default_extension = \"png\";var comm_websocket_adapter = function(comm) {\n",
       "    // Create a \"websocket\"-like object which calls the given IPython comm\n",
       "    // object with the appropriate methods. Currently this is a non binary\n",
       "    // socket, so there is still some room for performance tuning.\n",
       "    var ws = {};\n",
       "\n",
       "    ws.close = function() {\n",
       "        comm.close()\n",
       "    };\n",
       "    ws.send = function(m) {\n",
       "        //console.log('sending', m);\n",
       "        comm.send(m);\n",
       "    };\n",
       "    // Register the callback with on_msg.\n",
       "    comm.on_msg(function(msg) {\n",
       "        //console.log('receiving', msg['content']['data'], msg);\n",
       "        // Pass the mpl event to the overriden (by mpl) onmessage function.\n",
       "        ws.onmessage(msg['content']['data'])\n",
       "    });\n",
       "    return ws;\n",
       "}\n",
       "\n",
       "mpl.mpl_figure_comm = function(comm, msg) {\n",
       "    // This is the function which gets called when the mpl process\n",
       "    // starts-up an IPython Comm through the \"matplotlib\" channel.\n",
       "\n",
       "    var id = msg.content.data.id;\n",
       "    // Get hold of the div created by the display call when the Comm\n",
       "    // socket was opened in Python.\n",
       "    var element = $(\"#\" + id);\n",
       "    var ws_proxy = comm_websocket_adapter(comm)\n",
       "\n",
       "    function ondownload(figure, format) {\n",
       "        window.open(figure.imageObj.src);\n",
       "    }\n",
       "\n",
       "    var fig = new mpl.figure(id, ws_proxy,\n",
       "                           ondownload,\n",
       "                           element.get(0));\n",
       "\n",
       "    // Call onopen now - mpl needs it, as it is assuming we've passed it a real\n",
       "    // web socket which is closed, not our websocket->open comm proxy.\n",
       "    ws_proxy.onopen();\n",
       "\n",
       "    fig.parent_element = element.get(0);\n",
       "    fig.cell_info = mpl.find_output_cell(\"<div id='\" + id + \"'></div>\");\n",
       "    if (!fig.cell_info) {\n",
       "        console.error(\"Failed to find cell for figure\", id, fig);\n",
       "        return;\n",
       "    }\n",
       "\n",
       "    var output_index = fig.cell_info[2]\n",
       "    var cell = fig.cell_info[0];\n",
       "\n",
       "};\n",
       "\n",
       "mpl.figure.prototype.handle_close = function(fig, msg) {\n",
       "    fig.root.unbind('remove')\n",
       "\n",
       "    // Update the output cell to use the data from the current canvas.\n",
       "    fig.push_to_output();\n",
       "    var dataURL = fig.canvas.toDataURL();\n",
       "    // Re-enable the keyboard manager in IPython - without this line, in FF,\n",
       "    // the notebook keyboard shortcuts fail.\n",
       "    IPython.keyboard_manager.enable()\n",
       "    $(fig.parent_element).html('<img src=\"' + dataURL + '\">');\n",
       "    fig.close_ws(fig, msg);\n",
       "}\n",
       "\n",
       "mpl.figure.prototype.close_ws = function(fig, msg){\n",
       "    fig.send_message('closing', msg);\n",
       "    // fig.ws.close()\n",
       "}\n",
       "\n",
       "mpl.figure.prototype.push_to_output = function(remove_interactive) {\n",
       "    // Turn the data on the canvas into data in the output cell.\n",
       "    var dataURL = this.canvas.toDataURL();\n",
       "    this.cell_info[1]['text/html'] = '<img src=\"' + dataURL + '\">';\n",
       "}\n",
       "\n",
       "mpl.figure.prototype.updated_canvas_event = function() {\n",
       "    // Tell IPython that the notebook contents must change.\n",
       "    IPython.notebook.set_dirty(true);\n",
       "    this.send_message(\"ack\", {});\n",
       "    var fig = this;\n",
       "    // Wait a second, then push the new image to the DOM so\n",
       "    // that it is saved nicely (might be nice to debounce this).\n",
       "    setTimeout(function () { fig.push_to_output() }, 1000);\n",
       "}\n",
       "\n",
       "mpl.figure.prototype._init_toolbar = function() {\n",
       "    var fig = this;\n",
       "\n",
       "    var nav_element = $('<div/>')\n",
       "    nav_element.attr('style', 'width: 100%');\n",
       "    this.root.append(nav_element);\n",
       "\n",
       "    // Define a callback function for later on.\n",
       "    function toolbar_event(event) {\n",
       "        return fig.toolbar_button_onclick(event['data']);\n",
       "    }\n",
       "    function toolbar_mouse_event(event) {\n",
       "        return fig.toolbar_button_onmouseover(event['data']);\n",
       "    }\n",
       "\n",
       "    for(var toolbar_ind in mpl.toolbar_items){\n",
       "        var name = mpl.toolbar_items[toolbar_ind][0];\n",
       "        var tooltip = mpl.toolbar_items[toolbar_ind][1];\n",
       "        var image = mpl.toolbar_items[toolbar_ind][2];\n",
       "        var method_name = mpl.toolbar_items[toolbar_ind][3];\n",
       "\n",
       "        if (!name) { continue; };\n",
       "\n",
       "        var button = $('<button class=\"btn btn-default\" href=\"#\" title=\"' + name + '\"><i class=\"fa ' + image + ' fa-lg\"></i></button>');\n",
       "        button.click(method_name, toolbar_event);\n",
       "        button.mouseover(tooltip, toolbar_mouse_event);\n",
       "        nav_element.append(button);\n",
       "    }\n",
       "\n",
       "    // Add the status bar.\n",
       "    var status_bar = $('<span class=\"mpl-message\" style=\"text-align:right; float: right;\"/>');\n",
       "    nav_element.append(status_bar);\n",
       "    this.message = status_bar[0];\n",
       "\n",
       "    // Add the close button to the window.\n",
       "    var buttongrp = $('<div class=\"btn-group inline pull-right\"></div>');\n",
       "    var button = $('<button class=\"btn btn-mini btn-primary\" href=\"#\" title=\"Stop Interaction\"><i class=\"fa fa-power-off icon-remove icon-large\"></i></button>');\n",
       "    button.click(function (evt) { fig.handle_close(fig, {}); } );\n",
       "    button.mouseover('Stop Interaction', toolbar_mouse_event);\n",
       "    buttongrp.append(button);\n",
       "    var titlebar = this.root.find($('.ui-dialog-titlebar'));\n",
       "    titlebar.prepend(buttongrp);\n",
       "}\n",
       "\n",
       "mpl.figure.prototype._root_extra_style = function(el){\n",
       "    var fig = this\n",
       "    el.on(\"remove\", function(){\n",
       "\tfig.close_ws(fig, {});\n",
       "    });\n",
       "}\n",
       "\n",
       "mpl.figure.prototype._canvas_extra_style = function(el){\n",
       "    // this is important to make the div 'focusable\n",
       "    el.attr('tabindex', 0)\n",
       "    // reach out to IPython and tell the keyboard manager to turn it's self\n",
       "    // off when our div gets focus\n",
       "\n",
       "    // location in version 3\n",
       "    if (IPython.notebook.keyboard_manager) {\n",
       "        IPython.notebook.keyboard_manager.register_events(el);\n",
       "    }\n",
       "    else {\n",
       "        // location in version 2\n",
       "        IPython.keyboard_manager.register_events(el);\n",
       "    }\n",
       "\n",
       "}\n",
       "\n",
       "mpl.figure.prototype._key_event_extra = function(event, name) {\n",
       "    var manager = IPython.notebook.keyboard_manager;\n",
       "    if (!manager)\n",
       "        manager = IPython.keyboard_manager;\n",
       "\n",
       "    // Check for shift+enter\n",
       "    if (event.shiftKey && event.which == 13) {\n",
       "        this.canvas_div.blur();\n",
       "        // select the cell after this one\n",
       "        var index = IPython.notebook.find_cell_index(this.cell_info[0]);\n",
       "        IPython.notebook.select(index + 1);\n",
       "    }\n",
       "}\n",
       "\n",
       "mpl.figure.prototype.handle_save = function(fig, msg) {\n",
       "    fig.ondownload(fig, null);\n",
       "}\n",
       "\n",
       "\n",
       "mpl.find_output_cell = function(html_output) {\n",
       "    // Return the cell and output element which can be found *uniquely* in the notebook.\n",
       "    // Note - this is a bit hacky, but it is done because the \"notebook_saving.Notebook\"\n",
       "    // IPython event is triggered only after the cells have been serialised, which for\n",
       "    // our purposes (turning an active figure into a static one), is too late.\n",
       "    var cells = IPython.notebook.get_cells();\n",
       "    var ncells = cells.length;\n",
       "    for (var i=0; i<ncells; i++) {\n",
       "        var cell = cells[i];\n",
       "        if (cell.cell_type === 'code'){\n",
       "            for (var j=0; j<cell.output_area.outputs.length; j++) {\n",
       "                var data = cell.output_area.outputs[j];\n",
       "                if (data.data) {\n",
       "                    // IPython >= 3 moved mimebundle to data attribute of output\n",
       "                    data = data.data;\n",
       "                }\n",
       "                if (data['text/html'] == html_output) {\n",
       "                    return [cell, data, j];\n",
       "                }\n",
       "            }\n",
       "        }\n",
       "    }\n",
       "}\n",
       "\n",
       "// Register the function which deals with the matplotlib target/channel.\n",
       "// The kernel may be null if the page has been refreshed.\n",
       "if (IPython.notebook.kernel != null) {\n",
       "    IPython.notebook.kernel.comm_manager.register_target('matplotlib', mpl.mpl_figure_comm);\n",
       "}\n"
      ],
      "text/plain": [
       "<IPython.core.display.Javascript object>"
      ]
     },
     "metadata": {},
     "output_type": "display_data"
    },
    {
     "data": {
      "text/html": [
       "<img src=\"data:image/png;base64,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\">"
      ],
      "text/plain": [
       "<IPython.core.display.HTML object>"
      ]
     },
     "metadata": {},
     "output_type": "display_data"
    },
    {
     "name": "stderr",
     "output_type": "stream",
     "text": [
      "Warning: using a non-integer number instead of an integer will result in an error in the future\n"
     ]
    },
    {
     "data": {
      "text/plain": [
       "<matplotlib.axes._subplots.AxesSubplot at 0x118ce3cc0>"
      ]
     },
     "execution_count": 35,
     "metadata": {},
     "output_type": "execute_result"
    }
   ],
   "source": [
    "sns.distplot(scores)"
   ]
  },
  {
   "cell_type": "markdown",
   "metadata": {},
   "source": [
    "## Conclusion\n",
    "\n",
    "We have imported the Agribalyse database. In the process of importing, we found and resolved several problems:\n",
    "\n",
    "1. First, we had to fix the names and categories of biosphere flow names, to make them compatible with the names and categories used in ecoinvent version 3.\n",
    "2. Next, we created a new database for the new biosphere flows that we couldn't match.\n",
    "3. We linked production flows to the activities that produced them, using a strategy that didn't use the field `categories`, as this field is not given consistently in SimaPro exports.\n",
    "4. We switched some outputs to inputs, to be consistent with how ecoinvent models disposal and recycling processes.\n",
    "5. We linked inputs to activities in ecoinvent 2.2, again ignoring the field `categories`, because SimaPro.\n",
    "6. We created new processes to provide recycling services.\n",
    "7. We deleted the unique identifying codes used by SimaPro, as they were not actually unique, and created our own codes.\n",
    "\n",
    "This was a bit of a pain, but compared to other database exports, was actually not all that difficult. This is the sad truth of LCA data compatibility - it currently isn't all that great."
   ]
  }
 ],
 "metadata": {
  "kernelspec": {
   "display_name": "Python 3",
   "language": "python",
   "name": "python3"
  },
  "language_info": {
   "codemirror_mode": {
    "name": "ipython",
    "version": 3
   },
   "file_extension": ".py",
   "mimetype": "text/x-python",
   "name": "python",
   "nbconvert_exporter": "python",
   "pygments_lexer": "ipython3",
   "version": "3.5.2"
  }
 },
 "nbformat": 4,
 "nbformat_minor": 1
}
