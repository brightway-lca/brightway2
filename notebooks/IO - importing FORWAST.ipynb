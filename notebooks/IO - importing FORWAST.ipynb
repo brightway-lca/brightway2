{
 "cells": [
  {
   "cell_type": "markdown",
   "metadata": {},
   "source": [
    "# Importing the FORWAST database\n",
    "\n",
    "[FORWAST](http://forwast.brgm.fr/Overview.asp) is a physical MRIO table for Europe."
   ]
  },
  {
   "cell_type": "code",
   "execution_count": 1,
   "metadata": {
    "collapsed": true
   },
   "outputs": [],
   "source": [
    "from brightway2 import *"
   ]
  },
  {
   "cell_type": "code",
   "execution_count": 2,
   "metadata": {
    "collapsed": false
   },
   "outputs": [
    {
     "name": "stdout",
     "output_type": "stream",
     "text": [
      "Biosphere database already present!!! No setup is needed\n"
     ]
    }
   ],
   "source": [
    "projects.set_current(\"forwast\")\n",
    "bw2setup()"
   ]
  },
  {
   "cell_type": "markdown",
   "metadata": {},
   "source": [
    "We start with an export of the database from SimaPro, provided by the FORWAST team."
   ]
  },
  {
   "cell_type": "code",
   "execution_count": 3,
   "metadata": {
    "collapsed": false
   },
   "outputs": [
    {
     "name": "stderr",
     "output_type": "stream",
     "text": [
      "Extracting ecospold1 files:\n",
      "0%                          100%\n",
      "[##############################] | ETA[sec]: 0.000 | Item ID: /Users/cmutel/D\n",
      "Total time elapsed: 3.399 sec\n"
     ]
    },
    {
     "name": "stdout",
     "output_type": "stream",
     "text": [
      "Title: Extracting ecospold1 files:\n",
      "  Started: 10/22/2015 01:12:28\n",
      "  Finished: 10/22/2015 01:12:31\n",
      "  Total time elapsed: 3.399 sec\n",
      "  CPU %: 87.000000\n",
      "  Memory %: 1.817799\n",
      "Extracted 277 datasets in 3.40 seconds\n",
      "Applying strategy: normalize_units\n",
      "Applying strategy: assign_only_product_as_production\n",
      "Applying strategy: clean_integer_codes\n",
      "Applying strategy: drop_unspecified_subcategories\n",
      "Applying strategy: normalize_biosphere_categories\n",
      "Applying strategy: normalize_biosphere_names\n",
      "Applying strategy: strip_biosphere_exc_locations\n",
      "Applying strategy: set_code_by_activity_hash\n",
      "Applying strategy: link_iterable_by_fields\n",
      "Applying strategy: link_technosphere_by_activity_hash\n",
      "Applied 10 strategies in 2.59 seconds\n",
      "277 datasets\n",
      "82546 exchanges\n",
      "80884 unlinked exchanges\n",
      "  Type biosphere: 16 unique unlinked exchanges\n",
      "  Type production: 277 unique unlinked exchanges\n",
      "  Type technosphere: 275 unique unlinked exchanges\n"
     ]
    },
    {
     "data": {
      "text/plain": [
       "(277, 82546, 80884)"
      ]
     },
     "execution_count": 3,
     "metadata": {},
     "output_type": "execute_result"
    }
   ],
   "source": [
    "ei = SingleOutputEcospold1Importer(\"/Users/cmutel/Downloads/FORWAST-ecospold1\", \"forwast\")\n",
    "ei.apply_strategies()\n",
    "ei.statistics()"
   ]
  },
  {
   "cell_type": "markdown",
   "metadata": {},
   "source": [
    "# Major linking problems\n",
    "\n",
    "The first problem is that each process has a category, but none of the exchanges do. The IO library can't link them using its default algorithm, which includes categories when matching. Luckily, we can easily define a new strategy that doesn't include categories."
   ]
  },
  {
   "cell_type": "code",
   "execution_count": 4,
   "metadata": {
    "collapsed": false
   },
   "outputs": [
    {
     "name": "stdout",
     "output_type": "stream",
     "text": [
      "Applying strategy: link_iterable_by_fields\n",
      "277 datasets\n",
      "82546 exchanges\n",
      "4432 unlinked exchanges\n",
      "  Type biosphere: 16 unique unlinked exchanges\n"
     ]
    },
    {
     "data": {
      "text/plain": [
       "(277, 82546, 4432)"
      ]
     },
     "execution_count": 4,
     "metadata": {},
     "output_type": "execute_result"
    }
   ],
   "source": [
    "from bw2io.strategies import link_iterable_by_fields\n",
    "import functools\n",
    "\n",
    "without_subcategories = functools.partial(link_iterable_by_fields, fields=['name', 'unit'], internal=True)\n",
    "ei.apply_strategy(without_subcategories)\n",
    "\n",
    "ei.statistics()"
   ]
  },
  {
   "cell_type": "markdown",
   "metadata": {},
   "source": [
    "# Biosphere flow conflicts\n",
    "\n",
    "The next problem is that there are several biosphere flows that have non-matching names or categories, when compared to our base biosphere flow list. There isn't an automatic way to fix this; rather, I used code like:\n",
    "\n",
    "    db = Database(\"biosphere3\")\n",
    "    db.search(\"natural gas\")\n",
    "    \n",
    "to find out what flows were in our reference list, and what fields needed to change so that matching could occur. We use the migrations functionality to fix only the fields we need to change."
   ]
  },
  {
   "cell_type": "code",
   "execution_count": 5,
   "metadata": {
    "collapsed": true
   },
   "outputs": [],
   "source": [
    "migration_data = {\n",
    "    'fields': ['name', 'categories', 'type', 'unit'],\n",
    "    'data': [\n",
    "        (\n",
    "            ('Aluminium', ('natural resource',), 'biosphere', 'kilogram'),\n",
    "            {\n",
    "                'categories': ('natural resource', 'in ground'),\n",
    "                'name': 'Aluminium, in ground',\n",
    "            }\n",
    "        ),\n",
    "        (\n",
    "            ('Carbon dioxide, in air', ('natural resource',), 'biosphere', 'kilogram'),\n",
    "            {\n",
    "                'categories': ('natural resource', 'in air'),\n",
    "            }\n",
    "        ),\n",
    "        (\n",
    "            ('Carbon monoxide', ('air',), 'biosphere', 'kilogram'),\n",
    "            {\n",
    "                'name': 'Carbon monoxide, fossil',\n",
    "            }\n",
    "        ),\n",
    "        (\n",
    "            ('Coal, hard', ('natural resource',), 'biosphere', 'kilogram'),\n",
    "            {\n",
    "                'categories': ('natural resource', 'in ground'),\n",
    "                'name': 'Coal, hard, unspecified, in ground',\n",
    "            }\n",
    "        ),\n",
    "        (\n",
    "            ('Gas, natural, 46.8 MJ per kg', ('natural resource',), 'biosphere', 'kilogram'),\n",
    "            {\n",
    "                'categories': ('natural resource', 'in ground'),\n",
    "                'name': 'Gas, natural, in ground',\n",
    "                'unit': 'cubic meter',\n",
    "                'multiplier': 1 / 0.8  # Approximation, density varies from 0.7/0.9 km/m3\n",
    "            }\n",
    "        ),\n",
    "        (\n",
    "            ('Sand and clay', ('natural resource',), 'biosphere', 'kilogram'),\n",
    "            {\n",
    "                'categories': ('natural resource', 'in ground'),\n",
    "                'name': 'Sand, unspecified, in ground',\n",
    "            }\n",
    "        ),\n",
    "        (\n",
    "            ('Methane', ('air',), 'biosphere', 'kilogram'),\n",
    "            {\n",
    "                'name': 'Methane, fossil',\n",
    "            }\n",
    "        ),\n",
    "        (\n",
    "            ('Nitrogen dioxide', ('air',), 'biosphere', 'kilogram'),\n",
    "            {\n",
    "                'name': 'Nitrogen oxides',\n",
    "            }\n",
    "        ),\n",
    "        (\n",
    "            ('Oil, crude', ('natural resource',), 'biosphere', 'kilogram'),\n",
    "            {\n",
    "                'name': 'Oil, crude, in ground',\n",
    "                'categories': ('natural resource', 'in ground'),\n",
    "            }\n",
    "        ),\n",
    "        (\n",
    "            ('Zinc', ('natural resource',), 'biosphere', 'kilogram'),\n",
    "            {\n",
    "                'name': 'Zinc, Zn 0.63%, in mixed ore, in ground',\n",
    "                'categories': ('natural resource', 'in ground'),\n",
    "            }\n",
    "        ),\n",
    "        (\n",
    "            ('Lead', ('natural resource',), 'biosphere', 'kilogram'),\n",
    "            {\n",
    "                'name': 'Lead, Pb 0.014%, in mixed ore, in ground',\n",
    "                'categories': ('natural resource', 'in ground'),\n",
    "            }\n",
    "        ),\n",
    "        (\n",
    "            ('Iron', ('natural resource',), 'biosphere', 'kilogram'),\n",
    "            {\n",
    "                'name': \"Iron, 46% in ore, 25% in crude ore, in ground\",\n",
    "                'categories': ('natural resource', 'in ground'),\n",
    "            }\n",
    "        ),\n",
    "        (\n",
    "            ('Copper', ('natural resource',), 'biosphere', 'kilogram'),\n",
    "            {\n",
    "                'name': \"Copper, 1.13% in sulfide, Cu 0.76% and Ni 0.76% in crude ore, in ground\",\n",
    "                'categories': ('natural resource', 'in ground'),\n",
    "            }\n",
    "        ),\n",
    "        (\n",
    "            ('Nickel', ('natural resource',), 'biosphere', 'kilogram'),\n",
    "            {\n",
    "                'name': 'Nickel, 1.98% in silicates, 1.04% in crude ore, in ground',\n",
    "                'categories': ('natural resource', 'in ground'),\n",
    "            }\n",
    "        )\n",
    "    ]\n",
    "}\n",
    "\n",
    "migration = Migration(\"simapro-forwast\")\n",
    "migration.write(\n",
    "    migration_data, \n",
    "    description=\"Migration for biosphere flows from FORWAST database, as imported into SimaPro\"\n",
    ")"
   ]
  },
  {
   "cell_type": "markdown",
   "metadata": {},
   "source": [
    "We then apply our migration."
   ]
  },
  {
   "cell_type": "code",
   "execution_count": 6,
   "metadata": {
    "collapsed": false
   },
   "outputs": [
    {
     "name": "stdout",
     "output_type": "stream",
     "text": [
      "Applying strategy: migrate_datasets\n",
      "Applied 1 strategies in 0.00 seconds\n",
      "Applying strategy: migrate_exchanges\n",
      "Applied 1 strategies in 0.72 seconds\n",
      "Applying strategy: link_iterable_by_fields\n",
      "277 datasets\n",
      "82546 exchanges\n",
      "554 unlinked exchanges\n",
      "  Type biosphere: 2 unique unlinked exchanges\n"
     ]
    },
    {
     "data": {
      "text/plain": [
       "(277, 82546, 554)"
      ]
     },
     "execution_count": 6,
     "metadata": {},
     "output_type": "execute_result"
    }
   ],
   "source": [
    "ei.migrate(\"simapro-forwast\")\n",
    "ei.apply_strategy(ei.strategies[-2])\n",
    "\n",
    "ei.statistics()"
   ]
  },
  {
   "cell_type": "markdown",
   "metadata": {},
   "source": [
    "This is very good. Let's look at the remaining two flows:"
   ]
  },
  {
   "cell_type": "code",
   "execution_count": 7,
   "metadata": {
    "collapsed": false
   },
   "outputs": [
    {
     "name": "stdout",
     "output_type": "stream",
     "text": [
      "{'unit': 'kilogram', 'categories': ['natural resource'], 'loc': 0.0, 'type': 'biosphere', 'name': 'Other minerals, extracted for use', 'amount': 0.0, 'uncertainty type': 0}\n",
      "{'unit': 'kilogram', 'categories': ['natural resource'], 'loc': 0.0, 'type': 'biosphere', 'name': 'Other minerals, related unused extraction', 'amount': 0.0, 'uncertainty type': 0}\n"
     ]
    }
   ],
   "source": [
    "for x in ei.unlinked:\n",
    "    print(x)"
   ]
  },
  {
   "cell_type": "markdown",
   "metadata": {},
   "source": [
    "We don't actually care about these `other minerals`, so just drop them."
   ]
  },
  {
   "cell_type": "code",
   "execution_count": 8,
   "metadata": {
    "collapsed": false
   },
   "outputs": [
    {
     "name": "stderr",
     "output_type": "stream",
     "text": [
      "Warning: This is the nuclear weapon of linking, and should only be used in extreme cases. Must be called with the keyword argument ``i_am_reckless=True``!\n"
     ]
    }
   ],
   "source": [
    "ei.drop_unlinked()"
   ]
  },
  {
   "cell_type": "markdown",
   "metadata": {},
   "source": [
    "Our IO library doesn't like dropping unlinked exchanges, but we are comfortable with this, so we proceed anyway."
   ]
  },
  {
   "cell_type": "code",
   "execution_count": 9,
   "metadata": {
    "collapsed": false
   },
   "outputs": [
    {
     "name": "stdout",
     "output_type": "stream",
     "text": [
      "Applying strategy: drop_unlinked\n",
      "Applied 1 strategies in 0.02 seconds\n"
     ]
    }
   ],
   "source": [
    "ei.drop_unlinked(i_am_reckless=True)"
   ]
  },
  {
   "cell_type": "markdown",
   "metadata": {},
   "source": [
    "One last manipulation before writing to disk: Let's delete all exchanges with zero amounts, as this is just noise."
   ]
  },
  {
   "cell_type": "code",
   "execution_count": 10,
   "metadata": {
    "collapsed": false
   },
   "outputs": [
    {
     "name": "stdout",
     "output_type": "stream",
     "text": [
      "277 datasets\n",
      "39194 exchanges\n",
      "0 unlinked exchanges\n",
      "  \n"
     ]
    },
    {
     "data": {
      "text/plain": [
       "(277, 39194, 0)"
      ]
     },
     "execution_count": 10,
     "metadata": {},
     "output_type": "execute_result"
    }
   ],
   "source": [
    "for ds in ei.data:\n",
    "    ds['exchanges'] = [exc for exc in ds['exchanges'] if (exc['amount'] or exc['uncertainty type'] != 0)]\n",
    "    \n",
    "ei.statistics()"
   ]
  },
  {
   "cell_type": "markdown",
   "metadata": {},
   "source": [
    "Removing exchanges with zero amounts and no uncertainty reduced the database size by over half. As zero is the default value for any value in our matrix, unless specified otherwise, we haven't lost any information. To prevent others from having to do the same manipulation, we write the database, and then export a Brightway2 package for easy installation in the future."
   ]
  },
  {
   "cell_type": "code",
   "execution_count": 11,
   "metadata": {
    "collapsed": false
   },
   "outputs": [
    {
     "name": "stderr",
     "output_type": "stream",
     "text": [
      "Writing activities to SQLite3 database:\n",
      "0%                          100%\n",
      "[##############################] | ETA[sec]: 0.000 \n",
      "Total time elapsed: 4.485 sec\n"
     ]
    },
    {
     "name": "stdout",
     "output_type": "stream",
     "text": [
      "Title: Writing activities to SQLite3 database:\n",
      "  Started: 10/22/2015 01:12:38\n",
      "  Finished: 10/22/2015 01:12:42\n",
      "  Total time elapsed: 4.485 sec\n",
      "  CPU %: 82.800000\n",
      "  Memory %: 1.911306\n",
      "Created database: forwast\n"
     ]
    },
    {
     "data": {
      "text/plain": [
       "Brightway2 SQLiteBackend: forwast"
      ]
     },
     "execution_count": 11,
     "metadata": {},
     "output_type": "execute_result"
    }
   ],
   "source": [
    "ei.write_database()"
   ]
  },
  {
   "cell_type": "code",
   "execution_count": 12,
   "metadata": {
    "collapsed": false
   },
   "outputs": [
    {
     "data": {
      "text/plain": [
       "'/Users/cmutel/Library/Application Support/Brightway3/forwast.32da010eda2c41550eea7e9738352ed8/export/forwast32da010eda2c41550eea7e9738352ed8.ace1d2f119ec9f69e6206fb5758b4a8d.bw2package'"
      ]
     },
     "execution_count": 12,
     "metadata": {},
     "output_type": "execute_result"
    }
   ],
   "source": [
    "BW2Package.export_obj(Database(\"forwast\"))"
   ]
  },
  {
   "cell_type": "markdown",
   "metadata": {},
   "source": [
    "Finally, let's visualize the database technosphere matrix:"
   ]
  },
  {
   "cell_type": "code",
   "execution_count": 13,
   "metadata": {
    "collapsed": true
   },
   "outputs": [],
   "source": [
    "%matplotlib inline"
   ]
  },
  {
   "cell_type": "code",
   "execution_count": 14,
   "metadata": {
    "collapsed": false
   },
   "outputs": [],
   "source": [
    "from bw2analyzer.matrix_grapher import SparseMatrixGrapher"
   ]
  },
  {
   "cell_type": "code",
   "execution_count": 15,
   "metadata": {
    "collapsed": false
   },
   "outputs": [
    {
     "name": "stderr",
     "output_type": "stream",
     "text": [
      "Warning: (almost) singular matrix! (estimated cond. number: 9.77e+12)\n"
     ]
    }
   ],
   "source": [
    "lca = LCA({Database('forwast').random(): 1})\n",
    "lca.lci()"
   ]
  },
  {
   "cell_type": "code",
   "execution_count": 16,
   "metadata": {
    "collapsed": false
   },
   "outputs": [
    {
     "data": {
      "image/png": "[encoded data removed]",
      "text/plain": [
       "<matplotlib.figure.Figure at 0x11816fc18>"
      ]
     },
     "metadata": {},
     "output_type": "display_data"
    }
   ],
   "source": [
    "# Skip a bunch of very large negative numbers... ?\n",
    "lca.technosphere_matrix[lca.technosphere_matrix < 0] = 0\n",
    "SparseMatrixGrapher(lca.technosphere_matrix).magnitude_graph(width=5, height=5)"
   ]
  }
 ],
 "metadata": {
  "kernelspec": {
   "display_name": "Python 3",
   "language": "python",
   "name": "python3"
  },
  "language_info": {
   "codemirror_mode": {
    "name": "ipython",
    "version": 3
   },
   "file_extension": ".py",
   "mimetype": "text/x-python",
   "name": "python",
   "nbconvert_exporter": "python",
   "pygments_lexer": "ipython3",
   "version": "3.5.2"
  }
 },
 "nbformat": 4,
 "nbformat_minor": 0
}
