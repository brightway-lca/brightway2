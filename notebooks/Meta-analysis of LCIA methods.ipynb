{
 "cells": [
  {
   "cell_type": "markdown",
   "metadata": {},
   "source": [
    "# Meta-analysis of LCIA methods\n",
    "\n",
    "This notebook assumes you have completed the `Getting started with Brighway2` notebook.\n",
    "\n",
    "This notebook shows the real power of Brightway2, and in particular the ability to script and analyze many LCA calculations.\n",
    "\n",
    "At the end of this notebook, you should:\n",
    "\n",
    "* Be able to make many LCA calculations\n",
    "* Use `multiprocessing` to utilize the full power of your computer\n",
    "* Store calculations results in `numpy` arrays, for analysis and interpretation\n",
    "* Use matplotlib to display results graphically\n",
    "\n",
    "If you finish the notebook, you get another kitten!\n",
    "\n",
    "You should **download this notebook** and run it cell by cell - don't just read it on the web!"
   ]
  },
  {
   "cell_type": "markdown",
   "metadata": {},
   "source": [
    "# Starting at the beginning\n",
    "\n",
    "Import brightway2."
   ]
  },
  {
   "cell_type": "code",
   "execution_count": 1,
   "metadata": {
    "collapsed": false
   },
   "outputs": [],
   "source": [
    "from brightway2 import *"
   ]
  },
  {
   "cell_type": "markdown",
   "metadata": {},
   "source": [
    "## Copy our work from introductory notebook\n",
    "\n",
    "And change to our new project."
   ]
  },
  {
   "cell_type": "code",
   "execution_count": 2,
   "metadata": {
    "collapsed": false
   },
   "outputs": [],
   "source": [
    "if \"BW2 introduction\" not in projects:\n",
    "        raise ValueError(\"Must have run introductory notebook already!\")\n",
    "        \n",
    "if \"Meta-analysis\" not in projects:\n",
    "    projects.set_current(\"BW2 introduction\")\n",
    "    projects.copy_project(\"Meta-analysis\")\n",
    "else:\n",
    "    projects.set_current(\"Meta-analysis\")\n",
    "\n",
    "assert 'forwast' in databases, \"Something went wrong - please run the introductory notebook again\""
   ]
  },
  {
   "cell_type": "code",
   "execution_count": 3,
   "metadata": {
    "collapsed": false
   },
   "outputs": [
    {
     "name": "stdout",
     "output_type": "stream",
     "text": [
      "There are 277 activities in our database\n"
     ]
    }
   ],
   "source": [
    "print(\"There are {} activities in our database\".format(len(Database('forwast'))))"
   ]
  },
  {
   "cell_type": "markdown",
   "metadata": {},
   "source": [
    "Let's start by picking some LCIA methods to analyze - we don't want to use all the available ones, as many are specific to just a few biosphere flows, and it wouldn't make sense to compare these methods to other methods."
   ]
  },
  {
   "cell_type": "code",
   "execution_count": 4,
   "metadata": {
    "collapsed": false
   },
   "outputs": [
    {
     "name": "stdout",
     "output_type": "stream",
     "text": [
      "There are 52 methods to test\n"
     ]
    }
   ],
   "source": [
    "CANDIDATES = [\n",
    " ('CML 2001', 'acidification potential', 'average European'),\n",
    " ('CML 2001', 'climate change', 'GWP 100a'),\n",
    " ('CML 2001', 'eutrophication potential', 'average European'),\n",
    " ('CML 2001', 'freshwater aquatic ecotoxicity', 'FAETP 100a'),\n",
    " ('CML 2001', 'human toxicity', 'HTP 100a'),\n",
    " ('CML 2001', 'land use', 'competition'),\n",
    " ('CML 2001', 'marine aquatic ecotoxicity', 'MAETP infinite'),\n",
    " ('CML 2001', 'resources', 'depletion of abiotic resources'),\n",
    " ('CML 2001', 'stratospheric ozone depletion', 'ODP 25a'),\n",
    " ('EDIP2003', 'ecotoxicity', 'in sewage treatment plants'),\n",
    " ('EDIP2003', 'eutrophication', 'terrestrial eutrophication'),\n",
    " ('EDIP2003', 'renewable resources', 'wood'),\n",
    " ('EDIP2003', 'stratospheric ozone depletion', 'ODP total'),\n",
    " ('EPS 2000', 'total', 'abiotic stock resources'),\n",
    " ('EPS 2000', 'total', 'emissions into soil'),\n",
    " ('EPS 2000', 'total', 'emissions into water'),\n",
    " ('EPS 2000', 'total', 'land occupation'),\n",
    " ('IMPACT 2002+ (Endpoint)', 'ecosystem quality', 'land occupation'),\n",
    " ('IMPACT 2002+ (Endpoint)', 'human health', 'ozone layer depletion'),\n",
    " ('IMPACT 2002+ (Endpoint)', 'resources', 'mineral extraction'),\n",
    " ('IMPACT 2002+ (Endpoint)', 'resources', 'non-renewable energy'),\n",
    " ('IMPACT 2002+ (Midpoint)', 'ecosystem quality', 'aquatic acidification'),\n",
    " ('IPCC 2001', 'climate change', 'GWP 100a'),\n",
    " ('ReCiPe Endpoint (H,A)',\n",
    "  'ecosystem quality',\n",
    "  'agricultural land occupation'),\n",
    " ('ReCiPe Endpoint (H,A)',\n",
    "  'ecosystem quality',\n",
    "  'freshwater eutrophication'),\n",
    " ('ReCiPe Endpoint (H,A)',\n",
    "  'ecosystem quality',\n",
    "  'natural land transformation'),\n",
    " ('ReCiPe Endpoint (H,A)',\n",
    "  'ecosystem quality',\n",
    "  'terrestrial acidification'),\n",
    " ('ReCiPe Endpoint (H,A)', 'ecosystem quality', 'urban land occupation'),\n",
    " ('ReCiPe Endpoint (H,A)', 'human health', 'particulate matter formation'),\n",
    " ('ReCiPe Endpoint (H,A)', 'resources', 'fossil depletion'),\n",
    " ('TRACI', 'environmental impact', 'acidification'),\n",
    " ('TRACI', 'environmental impact', 'eutrophication'),\n",
    " ('TRACI', 'environmental impact', 'global warming'),\n",
    " ('TRACI', 'environmental impact', 'ozone depletion'),\n",
    " ('TRACI', 'human health', 'respiratory effects, average'),\n",
    " ('eco-indicator 99, (H,A)',\n",
    "  'ecosystem quality',\n",
    "  'acidification & eutrophication'),\n",
    " ('eco-indicator 99, (H,A)', 'ecosystem quality', 'ecotoxicity'),\n",
    " ('eco-indicator 99, (H,A)', 'ecosystem quality', 'land occupation'),\n",
    " ('eco-indicator 99, (H,A)', 'human health', 'carcinogenics'),\n",
    " ('eco-indicator 99, (H,A)', 'human health', 'climate change'),\n",
    " ('eco-indicator 99, (H,A)', 'human health', 'ozone layer depletion'),\n",
    " ('eco-indicator 99, (H,A)', 'resources', 'fossil fuels'),\n",
    " ('eco-indicator 99, (H,A)', 'resources', 'mineral extraction'),\n",
    " ('ecological footprint', 'total', 'CO2'),\n",
    " ('ecological footprint', 'total', 'land occupation'),\n",
    " ('ecological footprint', 'total', 'nuclear'),\n",
    " ('ecological scarcity 2006', 'total', 'deposited waste'),\n",
    " ('ecological scarcity 2006', 'total', 'emission into groundwater'),\n",
    " ('ecological scarcity 2006', 'total', 'energy resources'),\n",
    " ('ecological scarcity 2006', 'total', 'natural resources'),\n",
    " ('ecosystem damage potential', 'total', 'linear, land occupation'),\n",
    " ('ecosystem damage potential', 'total', 'linear, land transformation'),\n",
    "]\n",
    "print(\"There are {} methods to test\".format(len(CANDIDATES)))"
   ]
  },
  {
   "cell_type": "markdown",
   "metadata": {},
   "source": [
    "We will now compute an LCA score for each process in the `FORWAST` database, for each of these 52 methods. To do this, we use the [multiprocessing](https://docs.python.org/3.5/library/multiprocessing.html) library to dispatch jobs to each available CPU core on our machine. We will store our results in an [numpy](http://www.numpy.org/) array."
   ]
  },
  {
   "cell_type": "code",
   "execution_count": 5,
   "metadata": {
    "collapsed": false
   },
   "outputs": [],
   "source": [
    "import multiprocessing\n",
    "import numpy as np"
   ]
  },
  {
   "cell_type": "markdown",
   "metadata": {},
   "source": [
    "First, we create a function that will calculate the LCA score for one method and a list of activities. To do this, we use the ability of the `LCA` class to factorize the technosphere matrix into two triangular matrices (this is what `lca.decompose_technosphere()` does), which will make the actual LCI calculations *very* fast, on the order of 100 per second.\n",
    "\n",
    "There are one potentially tricky thing we need to be aware of. We use the convenience method `redo_lcia`. This will change the LCA demand vector, but will cause an error if the new demanded activity is not in the foreground and background databases that form the technosphere matrix. This is the whole point of `redo_lci` and `redo_lcia` - if the technosphere doesn't change, then we can make calculations faster. If it does change, then we might as well create a whole new `LCA` object. Because we are drawing our list of activities from the same database, this is no problem, but it could be if we were to sample from different databases."
   ]
  },
  {
   "cell_type": "code",
   "execution_count": 6,
   "metadata": {
    "collapsed": false
   },
   "outputs": [],
   "source": [
    "def many_activities_one_method(activities, method):\n",
    "    \"\"\"\n",
    "    Calculate LCA scores for many activities and one method. \n",
    "    \n",
    "    Returns a 1-dimensional numpy array of scores in the same order as `activities`.\n",
    "    \n",
    "    Note that this assumes that all activities link to the same background databases, \n",
    "    i.e. the technosphere matrix doesn't change from one activity to the next.\n",
    "    \"\"\"\n",
    "    output = np.zeros((len(activities),))        # LCA scores will be put here\n",
    "    lca = LCA({activities[0]: 1}, method=method) # LCA object which will do all calculating\n",
    "    lca.lci()                                    # Calculate inventory once to load all database data\n",
    "    lca.decompose_technosphere()                 # Keep the LU factorized matrices for faster calculations\n",
    "    lca.lcia()                                   # Load method data\n",
    "    for index, activity_name in enumerate(activities):\n",
    "        lca.redo_lcia({activity_name: 1})        # It is almost too easy...\n",
    "        output[index] = lca.score\n",
    "    return (method, output)"
   ]
  },
  {
   "cell_type": "markdown",
   "metadata": {},
   "source": [
    "Now we define the function that will dispatch the activities and methods using a `multiprocessing` pool. This isn't particularly difficult - just get sorted lists of the inputs, and use `apply_async` (there are also other possibilities, see the [multiprocessing](https://docs.python.org/3.5/library/multiprocessing.html) documentation, or search for tutorials on the web."
   ]
  },
  {
   "cell_type": "code",
   "execution_count": 7,
   "metadata": {
    "collapsed": false
   },
   "outputs": [],
   "source": [
    "def get_lots_of_lca_scores():\n",
    "    \"\"\"Compute LCA scores for all activities and all LCIA methods.\"\"\"\n",
    "    db_data = Database(\"forwast\").load()\n",
    "    activities = sorted(db_data.keys())             # Sort to make sure order is always the same\n",
    "    candidates = sorted(CANDIDATES)                 # Sort to make sure order is always the same\n",
    "    num_methods, num_processes = len(candidates), len(activities)\n",
    "\n",
    "    pool = multiprocessing.Pool(processes=multiprocessing.cpu_count())\n",
    "    jobs = [pool.apply_async(\n",
    "        many_activities_one_method,                 # Function\n",
    "        (activities, method)                        # Inputs (activities are always the same, but method changes in the \"for\" loop)\n",
    "    ) for method in candidates]\n",
    "    pool.close()\n",
    "    pool.join()                                     # Blocks doing anything more until calculation is finished\n",
    "    results = dict([job.get() for job in jobs])\n",
    "\n",
    "    output = np.zeros((num_processes, num_methods)) # Create array to store calculated results\n",
    "    for index, method in enumerate(candidates):\n",
    "        output[:, index] = results[method]          # Fill in a column of the results array\n",
    "    return output, candidates, activities"
   ]
  },
  {
   "cell_type": "markdown",
   "metadata": {},
   "source": [
    "Now, we are ready to do the actual calculation. Let's time it to see how long it takes us to make more than 50.000 LCA calculations..."
   ]
  },
  {
   "cell_type": "code",
   "execution_count": 8,
   "metadata": {
    "collapsed": false
   },
   "outputs": [
    {
     "name": "stdout",
     "output_type": "stream",
     "text": [
      "5.817174911499023\n"
     ]
    }
   ],
   "source": [
    "from time import time\n",
    "\n",
    "start = time()\n",
    "lca_scores, methods, activities = get_lots_of_lca_scores()\n",
    "print(time() - start)"
   ]
  },
  {
   "cell_type": "markdown",
   "metadata": {},
   "source": [
    "More than 8.000 LCA calculations per second. Now we interpret these scores. Because they can be so different from method to method, if would be nice to normalize them. But first, let's do some basic sanity checks on the results:"
   ]
  },
  {
   "cell_type": "code",
   "execution_count": 9,
   "metadata": {
    "collapsed": false
   },
   "outputs": [
    {
     "name": "stdout",
     "output_type": "stream",
     "text": [
      "Array shape: (277, 52)\n",
      "Number of activities: 277\n",
      "Average: 30560247080.1\n",
      "Median (of absolute value): 0.0\n",
      "Min, Max: -262.211210418 3.76229001741e+14\n",
      "Fraction of all scores with score of zero: 0.538461538462\n",
      "Methods where all scores are zero: 28\n",
      "Activities where all scores are zero: 0\n"
     ]
    },
    {
     "data": {
      "text/plain": [
       "(array([14403,     0,     0,     0,     0,     0,     0,     0,     0,     1]),\n",
       " array([ -2.62211210e+02,   3.76229002e+13,   7.52458003e+13,\n",
       "          1.12868701e+14,   1.50491601e+14,   1.88114501e+14,\n",
       "          2.25737401e+14,   2.63360301e+14,   3.00983201e+14,\n",
       "          3.38606102e+14,   3.76229002e+14]))"
      ]
     },
     "execution_count": 9,
     "metadata": {},
     "output_type": "execute_result"
    }
   ],
   "source": [
    "print(\"Array shape:\", lca_scores.shape)\n",
    "print(\"Number of activities:\", len(activities))\n",
    "print(\"Average:\", np.average(lca_scores))\n",
    "print(\"Median (of absolute value):\", np.median(np.abs(lca_scores)))\n",
    "print(\"Min, Max:\", np.min(lca_scores), np.max(lca_scores))\n",
    "print(\"Fraction of all scores with score of zero:\", (lca_scores == 0).sum() / float(lca_scores.shape[0] * lca_scores.shape[1]))\n",
    "print(\"Methods where all scores are zero:\", (lca_scores.sum(axis=0) == 0).sum())\n",
    "print(\"Activities where all scores are zero:\", (lca_scores.sum(axis=1) == 0).sum())\n",
    "np.histogram(lca_scores)"
   ]
  },
  {
   "cell_type": "markdown",
   "metadata": {},
   "source": [
    "Now we need to figure out how to compare these scores. We have no information on the distribution of scores for each method, and no reason to think that they are e.g. normally distributed, so most of our paramteric statistics won't work. Instead, we can compute a [rank order correlation](http://en.wikipedia.org/wiki/Spearman's_rank_correlation_coefficient) coefficient, but using [Kendall's τ](http://en.wikipedia.org/wiki/Kendall_tau_rank_correlation_coefficient) instead of Spearman's ROCC, as in my experience it is a better discriminator."
   ]
  },
  {
   "cell_type": "code",
   "execution_count": 10,
   "metadata": {
    "collapsed": false
   },
   "outputs": [],
   "source": [
    "from scipy import stats\n",
    "\n",
    "def create_correlation_matrix(scores_array):\n",
    "    num_methods = scores_array.shape[1]\n",
    "    correlations = np.zeros((num_methods, num_methods))\n",
    "\n",
    "    for row in range(num_methods):\n",
    "        for col in range(num_methods):\n",
    "            if col <= row:\n",
    "                continue                               # Only need to compute correlation once\n",
    "            dataset_1 = scores_array[:, row]\n",
    "            dataset_2 = scores_array[:, col]\n",
    "            mask = (dataset_1 != 0) * (dataset_2 != 0) # Ignore activities that have zero score\n",
    "            corr = stats.kendalltau( # Get tau value, drop p-statistic\n",
    "                dataset_1[mask], \n",
    "                dataset_2[mask]\n",
    "            )[0]\n",
    "            if np.isnan(corr):\n",
    "                correlations[row, col] = 0\n",
    "            else:\n",
    "                correlations[row, col] = corr\n",
    "\n",
    "    # Drop rows of zeros\n",
    "    mask = correlations.sum(axis=0) != 0\n",
    "    correlations = correlations[:, mask]\n",
    "\n",
    "    # Drop columns of zeros\n",
    "    mask = correlations.sum(axis=1) != 0\n",
    "    correlations = correlations[mask, :]\n",
    "\n",
    "    # correlations = correlations + correlations.T       # Make sorting easier by adding filling in lower left triangle\n",
    "    return correlations"
   ]
  },
  {
   "cell_type": "code",
   "execution_count": 11,
   "metadata": {
    "collapsed": false
   },
   "outputs": [],
   "source": [
    "correlation_matrix = create_correlation_matrix(lca_scores)"
   ]
  },
  {
   "cell_type": "markdown",
   "metadata": {},
   "source": [
    "Let's visualize this matrix.\n",
    "\n",
    "By the way, I strongly recommend investigating the [seaborn](http://stanford.edu/~mwaskom/software/seaborn/index.html) graphing library for this kind of analysis. In this workbook, we use matplotlib, to avoid having to install more dependencies."
   ]
  },
  {
   "cell_type": "code",
   "execution_count": 12,
   "metadata": {
    "collapsed": false
   },
   "outputs": [
    {
     "name": "stderr",
     "output_type": "stream",
     "text": [
      "Warning: metadata {'config': True} was set from the constructor.  Metadata should be set using the .tag() method, e.g., Int().tag(key1='value1', key2='value2')\n",
      "Warning: metadata {'config': True} was set from the constructor.  Metadata should be set using the .tag() method, e.g., Int().tag(key1='value1', key2='value2')\n",
      "Warning: metadata {'config': True} was set from the constructor.  Metadata should be set using the .tag() method, e.g., Int().tag(key1='value1', key2='value2')\n",
      "Warning: metadata {'config': True} was set from the constructor.  Metadata should be set using the .tag() method, e.g., Int().tag(key1='value1', key2='value2')\n",
      "Warning: metadata {'config': True} was set from the constructor.  Metadata should be set using the .tag() method, e.g., Int().tag(key1='value1', key2='value2')\n",
      "Warning: InlineBackend._config_changed is deprecated: use @observe and @unobserve instead.\n",
      "Warning: A parent of InlineBackend._config_changed has adopted the new @observe(change) API\n"
     ]
    }
   ],
   "source": [
    "%matplotlib inline"
   ]
  },
  {
   "cell_type": "markdown",
   "metadata": {},
   "source": [
    "We use the [cubehelix](http://www.ifweassume.com/2013/05/cubehelix-or-how-i-learned-to-love.html) colormap, which you should know about :)"
   ]
  },
  {
   "cell_type": "code",
   "execution_count": 13,
   "metadata": {
    "collapsed": false
   },
   "outputs": [
    {
     "data": {
      "text/plain": [
       "(0.0, 22.0, 0.0, 22.0)"
      ]
     },
     "execution_count": 13,
     "metadata": {},
     "output_type": "execute_result"
    },
    {
     "data": {
      "image/png": "[encoded data removed]",
      "text/plain": [
       "<matplotlib.figure.Figure at 0x114fb49e8>"
      ]
     },
     "metadata": {},
     "output_type": "display_data"
    }
   ],
   "source": [
    "import matplotlib.pyplot as plt\n",
    "\n",
    "fig = plt.gcf()\n",
    "fig.set_size_inches(12, 12)\n",
    "\n",
    "masked_correlation = np.ma.array(correlation_matrix, mask=correlation_matrix == 0).T\n",
    "plt.pcolor(masked_correlation, cmap=plt.cm.cubehelix_r)\n",
    "plt.colorbar()\n",
    "plt.ylim(None, correlation_matrix.shape[1] - 1)\n",
    "plt.xlim(None, correlation_matrix.shape[0] - 1)\n",
    "plt.axis('off')"
   ]
  },
  {
   "cell_type": "markdown",
   "metadata": {},
   "source": [
    "This is quite interesting. The first thing that jumps out at me is how strongly some methods are correlated. Of course, there will be many strong correlation, as many methods use the same factors for e.g. global warming, or the same model or assumption for e.g. ecotoxicity.\n",
    "\n",
    "Let's find the two methods with the lowest negative correlation, and graph their actual values compared with their ranks:"
   ]
  },
  {
   "cell_type": "code",
   "execution_count": 14,
   "metadata": {
    "collapsed": false
   },
   "outputs": [
    {
     "name": "stdout",
     "output_type": "stream",
     "text": [
      "Minimum correlation: 0.0\n"
     ]
    }
   ],
   "source": [
    "print(\"Minimum correlation:\", correlation_matrix.min())\n",
    "# Get array indices\n",
    "indices_min_correlation = np.unravel_index(np.argmin(correlation_matrix), correlation_matrix.shape)"
   ]
  },
  {
   "cell_type": "code",
   "execution_count": 15,
   "metadata": {
    "collapsed": false
   },
   "outputs": [
    {
     "name": "stdout",
     "output_type": "stream",
     "text": [
      "Taking 277 activities scores from 277 possible\n"
     ]
    }
   ],
   "source": [
    "xs = lca_scores[:, indices_min_correlation[0]]\n",
    "ys = lca_scores[:, indices_min_correlation[1]]\n",
    "mask = (xs != 0) * (ys != 0)\n",
    "print(\"Taking {} activities scores from {} possible\".format(mask.sum(), xs.shape[0]))"
   ]
  },
  {
   "cell_type": "markdown",
   "metadata": {},
   "source": [
    "Lots of graphing code to make something decent - there is lots of discussion of matplotlib and its many, many functions all over the web."
   ]
  },
  {
   "cell_type": "code",
   "execution_count": 16,
   "metadata": {
    "collapsed": false
   },
   "outputs": [
    {
     "data": {
      "text/plain": [
       "<matplotlib.text.Text at 0x11323ce80>"
      ]
     },
     "execution_count": 16,
     "metadata": {},
     "output_type": "execute_result"
    },
    {
     "data": {
      "image/png": "[encoded data removed]",
      "text/plain": [
       "<matplotlib.figure.Figure at 0x116236978>"
      ]
     },
     "metadata": {},
     "output_type": "display_data"
    }
   ],
   "source": [
    "fig = plt.gcf()\n",
    "fig.set_size_inches(18, 6)\n",
    "\n",
    "ax = plt.subplot(131)\n",
    "ax.hexbin(np.log(xs[mask]), np.log(ys[mask]), cmap=plt.cm.gist_stern_r, gridsize=30)\n",
    "ax.set_xticks([])\n",
    "ax.set_yticks([])\n",
    "# TODO: Colorbar?\n",
    "x_low, x_high = ax.get_xlim()\n",
    "ax.set_xlim(x_low * 1.1, x_high * 1.2)\n",
    "y_low, y_high = ax.get_ylim()\n",
    "ax.set_ylim(y_low * 1.1, y_high * 1.2)\n",
    "ax.set_title(\"Data (hexbin)\")\n",
    "\n",
    "ax = plt.subplot(132)\n",
    "ax.loglog(\n",
    "    xs[mask], \n",
    "    ys[mask], \n",
    "    marker=\".\",\n",
    "    linestyle=\"None\",\n",
    "    alpha=0.3,\n",
    "    markersize=12,\n",
    "    mfc=\"g\",\n",
    "    mec=\"None\"\n",
    ")\n",
    "ax.set_title(\"Raw data\")\n",
    "\n",
    "ax = plt.subplot(133)\n",
    "ax.plot(\n",
    "    np.argsort(np.argsort(xs[mask])),  # Ranks instead of data values\n",
    "    np.argsort(np.argsort(ys[mask])),  # Ranks instead of data values \n",
    "    marker=\".\",\n",
    "    linestyle=\"None\",\n",
    "    alpha=0.3,\n",
    "    markersize=12,\n",
    "    mfc=\"g\",\n",
    "    mec=\"None\"\n",
    ")\n",
    "ax.set_title(\"Ranked data\")"
   ]
  }
 ],
 "metadata": {
  "kernelspec": {
   "display_name": "Python 3",
   "language": "python",
   "name": "python3"
  },
  "language_info": {
   "codemirror_mode": {
    "name": "ipython",
    "version": 3
   },
   "file_extension": ".py",
   "mimetype": "text/x-python",
   "name": "python",
   "nbconvert_exporter": "python",
   "pygments_lexer": "ipython3",
   "version": "3.5.2"
  }
 },
 "nbformat": 4,
 "nbformat_minor": 0
}
