{
 "cells": [
  {
   "cell_type": "markdown",
   "metadata": {},
   "source": [
    "# Monte Carlo from Excel import\n",
    "\n",
    "## Defining uncertain datasets in Excel\n",
    "\n",
    "The Excel importer will automatically pick up the column labels that we use, so as long as we use columns that [stats_arrays](https://stats-arrays.readthedocs.io/en/latest/) will expect, we will be OK. As this is just an example, we can create a very simple inventory. Start by creating a new project."
   ]
  },
  {
   "cell_type": "code",
   "execution_count": 13,
   "metadata": {},
   "outputs": [],
   "source": [
    "%matplotlib inline"
   ]
  },
  {
   "cell_type": "code",
   "execution_count": 51,
   "metadata": {},
   "outputs": [],
   "source": [
    "import stats_arrays as sa\n",
    "import numpy as np\n",
    "import matplotlib.pyplot as plt\n",
    "import brightway2 as bw\n",
    "import seaborn as sb"
   ]
  },
  {
   "cell_type": "code",
   "execution_count": 2,
   "metadata": {},
   "outputs": [],
   "source": [
    "bw.projects.set_current(\"MC demo\")"
   ]
  },
  {
   "cell_type": "code",
   "execution_count": 3,
   "metadata": {},
   "outputs": [
    {
     "name": "stdout",
     "output_type": "stream",
     "text": [
      "Creating default biosphere\n",
      "\n"
     ]
    },
    {
     "name": "stderr",
     "output_type": "stream",
     "text": [
      "Writing activities to SQLite3 database:\n",
      "0%                          100%\n",
      "[######                        ] | ETA: 00:00:00"
     ]
    },
    {
     "name": "stdout",
     "output_type": "stream",
     "text": [
      "Applying strategy: normalize_units\n",
      "Applying strategy: drop_unspecified_subcategories\n",
      "Applied 2 strategies in 0.01 seconds\n"
     ]
    },
    {
     "name": "stderr",
     "output_type": "stream",
     "text": [
      "[##############################] | ETA: 00:00:00\n",
      "Total time elapsed: 00:00:00\n"
     ]
    },
    {
     "name": "stdout",
     "output_type": "stream",
     "text": [
      "Title: Writing activities to SQLite3 database:\n",
      "  Started: 05/13/2019 15:55:51\n",
      "  Finished: 05/13/2019 15:55:52\n",
      "  Total time elapsed: 00:00:00\n",
      "  CPU %: 82.20\n",
      "  Memory %: 0.97\n",
      "Created database: biosphere3\n",
      "Creating default LCIA methods\n",
      "\n",
      "Applying strategy: normalize_units\n",
      "Applying strategy: set_biosphere_type\n",
      "Applying strategy: drop_unspecified_subcategories\n",
      "Applying strategy: link_iterable_by_fields\n",
      "Applied 4 strategies in 1.65 seconds\n",
      "Wrote 850 LCIA methods with 220699 characterization factors\n",
      "Creating core data migrations\n",
      "\n"
     ]
    }
   ],
   "source": [
    "bw.bw2setup()"
   ]
  },
  {
   "cell_type": "markdown",
   "metadata": {},
   "source": [
    "Our inventory will have two processes; one will consume the other, and each will have one emission. We don't really care what they are, but they should be characterized by our LCIA method, so let's pick one at random and see which flows are characterized."
   ]
  },
  {
   "cell_type": "code",
   "execution_count": 5,
   "metadata": {},
   "outputs": [
    {
     "data": {
      "text/plain": [
       "('CML 2001', 'photochemical oxidation (summer smog)', 'high NOx POCP')"
      ]
     },
     "execution_count": 5,
     "metadata": {},
     "output_type": "execute_result"
    }
   ],
   "source": [
    "method = bw.methods.random()\n",
    "method"
   ]
  },
  {
   "cell_type": "code",
   "execution_count": 6,
   "metadata": {},
   "outputs": [],
   "source": [
    "method = ('CML 2001', 'photochemical oxidation (summer smog)', 'high NOx POCP')"
   ]
  },
  {
   "cell_type": "code",
   "execution_count": 12,
   "metadata": {},
   "outputs": [
    {
     "name": "stdout",
     "output_type": "stream",
     "text": [
      "'2-Propanol' (kilogram, None, ('air', 'low population density, long-term')) 0.188\n",
      "'2-Propanol' (kilogram, None, ('air', 'lower stratosphere + upper troposphere')) 0.188\n",
      "'2-Propanol' (kilogram, None, ('air', 'non-urban air or from high stacks')) 0.188\n",
      "'2-Propanol' (kilogram, None, ('air',)) 0.188\n",
      "'2-Propanol' (kilogram, None, ('air', 'urban air close to ground')) 0.188\n",
      "'3-Methyl-1-butanol' (kilogram, None, ('air', 'low population density, long-term')) 0.433\n",
      "'3-Methyl-1-butanol' (kilogram, None, ('air', 'lower stratosphere + upper troposphere')) 0.433\n",
      "'3-Methyl-1-butanol' (kilogram, None, ('air', 'non-urban air or from high stacks')) 0.433\n",
      "'3-Methyl-1-butanol' (kilogram, None, ('air',)) 0.433\n",
      "'3-Methyl-1-butanol' (kilogram, None, ('air', 'urban air close to ground')) 0.433\n"
     ]
    }
   ],
   "source": [
    "for key, cf in bw.Method(method).load()[20:30]:\n",
    "    print(bw.get_activity(key), cf)"
   ]
  },
  {
   "cell_type": "markdown",
   "metadata": {},
   "source": [
    "We can now create this basic inventory in Excel:\n",
    "\n",
    "<img src=\"files/mc-simple-inventory.png\">"
   ]
  },
  {
   "cell_type": "markdown",
   "metadata": {},
   "source": [
    "## Importing the Excel worksheet\n",
    "\n",
    "Download [the worksheet](https://bitbucket.org/cmutel/brightway2/raw/default/notebooks/files/basic_mc.xlsx) and put it in the same directory as this notebook."
   ]
  },
  {
   "cell_type": "code",
   "execution_count": 44,
   "metadata": {},
   "outputs": [
    {
     "name": "stdout",
     "output_type": "stream",
     "text": [
      "Extracted 1 worksheets in 0.01 seconds\n"
     ]
    }
   ],
   "source": [
    "ex = bw.ExcelImporter(\"basic_mc.xlsx\")"
   ]
  },
  {
   "cell_type": "code",
   "execution_count": 45,
   "metadata": {},
   "outputs": [
    {
     "name": "stdout",
     "output_type": "stream",
     "text": [
      "Applying strategy: csv_restore_tuples\n",
      "Applying strategy: csv_restore_booleans\n",
      "Applying strategy: csv_numerize\n",
      "Applying strategy: csv_drop_unknown\n",
      "Applying strategy: csv_add_missing_exchanges_section\n",
      "Applying strategy: normalize_units\n",
      "Applying strategy: normalize_biosphere_categories\n",
      "Applying strategy: normalize_biosphere_names\n",
      "Applying strategy: strip_biosphere_exc_locations\n",
      "Applying strategy: set_code_by_activity_hash\n",
      "Applying strategy: link_iterable_by_fields\n",
      "Applying strategy: assign_only_product_as_production\n",
      "Applying strategy: link_technosphere_by_activity_hash\n",
      "Applying strategy: drop_falsey_uncertainty_fields_but_keep_zeros\n",
      "Applying strategy: convert_uncertainty_types_to_integers\n",
      "Applying strategy: convert_activity_parameters_to_list\n",
      "Applied 16 strategies in 0.41 seconds\n"
     ]
    }
   ],
   "source": [
    "ex.apply_strategies()"
   ]
  },
  {
   "cell_type": "code",
   "execution_count": 46,
   "metadata": {},
   "outputs": [
    {
     "name": "stdout",
     "output_type": "stream",
     "text": [
      "Applying strategy: link_iterable_by_fields\n"
     ]
    }
   ],
   "source": [
    "ex.match_database(fields=['name'])"
   ]
  },
  {
   "cell_type": "code",
   "execution_count": 48,
   "metadata": {},
   "outputs": [
    {
     "name": "stderr",
     "output_type": "stream",
     "text": [
      "Writing activities to SQLite3 database:\n",
      "0%  100%\n",
      "[##] | ETA: 00:00:00\n",
      "Total time elapsed: 00:00:00\n"
     ]
    },
    {
     "name": "stdout",
     "output_type": "stream",
     "text": [
      "Title: Writing activities to SQLite3 database:\n",
      "  Started: 05/13/2019 16:29:40\n",
      "  Finished: 05/13/2019 16:29:40\n",
      "  Total time elapsed: 00:00:00\n",
      "  CPU %: 105.90\n",
      "  Memory %: 1.37\n",
      "Created database: MC\n"
     ]
    }
   ],
   "source": [
    "ex.write_database()"
   ]
  },
  {
   "cell_type": "markdown",
   "metadata": {},
   "source": [
    "## Do the Monte Carlo uncertainty analysis\n",
    "\n",
    "The Monte Carlo class is an iterator, pretty easy to use."
   ]
  },
  {
   "cell_type": "code",
   "execution_count": 53,
   "metadata": {},
   "outputs": [],
   "source": [
    "mc = bw.MonteCarloLCA({(\"MC\", \"b\"): 1}, method)\n",
    "results = np.array([next(mc) for _ in range(10000)])"
   ]
  },
  {
   "cell_type": "code",
   "execution_count": 54,
   "metadata": {},
   "outputs": [
    {
     "data": {
      "text/plain": [
       "<matplotlib.axes._subplots.AxesSubplot at 0x1a2fdad438>"
      ]
     },
     "execution_count": 54,
     "metadata": {},
     "output_type": "execute_result"
    },
    {
     "data": {
      "image/png": "[encoded data removed]",
      "text/plain": [
       "<Figure size 432x288 with 1 Axes>"
      ]
     },
     "metadata": {},
     "output_type": "display_data"
    }
   ],
   "source": [
    "sb.distplot(results)"
   ]
  },
  {
   "cell_type": "code",
   "execution_count": 55,
   "metadata": {},
   "outputs": [
    {
     "data": {
      "text/plain": [
       "(2.4336840852740265, 1.2640547320527133)"
      ]
     },
     "execution_count": 55,
     "metadata": {},
     "output_type": "execute_result"
    }
   ],
   "source": [
    "np.average(results), np.std(results)"
   ]
  },
  {
   "cell_type": "markdown",
   "metadata": {},
   "source": [
    "## Create graphs for figure"
   ]
  },
  {
   "cell_type": "code",
   "execution_count": 39,
   "metadata": {},
   "outputs": [
    {
     "data": {
      "image/png": "[encoded data removed]",
      "text/plain": [
       "<Figure size 216x144 with 1 Axes>"
      ]
     },
     "metadata": {},
     "output_type": "display_data"
    }
   ],
   "source": [
    "pa = sa.TriangularUncertainty.from_dicts({'minimum': 0.5, 'loc': 1, 'maximum': 2})\n",
    "xs = np.linspace(0.5, 2, 100)\n",
    "_, ys = sa.TriangularUncertainty.pdf(pa, xs)\n",
    "plt.figure(figsize=(3, 2))\n",
    "plt.yticks([])\n",
    "plt.plot(xs, ys.ravel())\n",
    "plt.box(None)\n",
    "plt.savefig(\"A-B.png\", dpi=300)"
   ]
  },
  {
   "cell_type": "code",
   "execution_count": 43,
   "metadata": {},
   "outputs": [
    {
     "data": {
      "image/png": "[encoded data removed]",
      "text/plain": [
       "<Figure size 216x144 with 1 Axes>"
      ]
     },
     "metadata": {},
     "output_type": "display_data"
    }
   ],
   "source": [
    "pa = sa.NormalUncertainty.from_dicts({'minimum': 0, 'loc': 1.2, 'maximum': 4, 'scale': 0.6})\n",
    "xs = np.linspace(0, 4, 250)\n",
    "_, ys = sa.NormalUncertainty.pdf(pa, xs)\n",
    "plt.figure(figsize=(3, 2))\n",
    "plt.yticks([])\n",
    "plt.plot(xs, ys.ravel())\n",
    "plt.box(None)\n",
    "plt.savefig(\"A-P.png\", dpi=300)"
   ]
  },
  {
   "cell_type": "code",
   "execution_count": 41,
   "metadata": {},
   "outputs": [
    {
     "data": {
      "image/png": "[encoded data removed]",
      "text/plain": [
       "<Figure size 216x144 with 1 Axes>"
      ]
     },
     "metadata": {},
     "output_type": "display_data"
    }
   ],
   "source": [
    "pa = sa.UniformUncertainty.from_dicts({'minimum': 0, 'maximum': 10})\n",
    "xs = np.linspace(0, 10, 100)\n",
    "_, ys = sa.UniformUncertainty.pdf(pa, xs)\n",
    "plt.figure(figsize=(3, 2))\n",
    "plt.yticks([])\n",
    "plt.plot(xs, ys.ravel())\n",
    "plt.box(None)\n",
    "plt.savefig(\"B-M.png\", dpi=300)"
   ]
  }
 ],
 "metadata": {
  "kernelspec": {
   "display_name": "Python 3",
   "language": "python",
   "name": "python3"
  },
  "language_info": {
   "codemirror_mode": {
    "name": "ipython",
    "version": 3
   },
   "file_extension": ".py",
   "mimetype": "text/x-python",
   "name": "python",
   "nbconvert_exporter": "python",
   "pygments_lexer": "ipython3",
   "version": "3.6.7"
  }
 },
 "nbformat": 4,
 "nbformat_minor": 1
}
