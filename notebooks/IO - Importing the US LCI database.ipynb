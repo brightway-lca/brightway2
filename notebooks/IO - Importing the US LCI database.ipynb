{
 "cells": [
  {
   "cell_type": "code",
   "execution_count": 1,
   "metadata": {
    "collapsed": false
   },
   "outputs": [],
   "source": [
    "from brightway2 import *"
   ]
  },
  {
   "cell_type": "code",
   "execution_count": 2,
   "metadata": {
    "collapsed": true
   },
   "outputs": [],
   "source": [
    "projects.set_current(\"US LCI\")"
   ]
  },
  {
   "cell_type": "code",
   "execution_count": 3,
   "metadata": {
    "collapsed": false
   },
   "outputs": [
    {
     "name": "stdout",
     "output_type": "stream",
     "text": [
      "Creating default biosphere\n",
      "\n",
      "Applying strategy: normalize_units"
     ]
    },
    {
     "name": "stderr",
     "output_type": "stream",
     "text": [
      "Writing activities to SQLite3 database:\n",
      "0%                          100%\n",
      "[##############################] | ETA[sec]: 0.000 \n",
      "Total time elapsed: 0.408 sec\n"
     ]
    },
    {
     "name": "stdout",
     "output_type": "stream",
     "text": [
      "\n",
      "Applying strategy: drop_unspecified_subcategories\n",
      "Applied 2 strategies in 0.01 seconds\n",
      "Title: Writing activities to SQLite3 database:\n",
      "  Started: 09/29/2015 14:14:27\n",
      "  Finished: 09/29/2015 14:14:28\n",
      "  Total time elapsed: 0.408 sec\n",
      "  CPU %: 98.300000\n",
      "  Memory %: 0.273383\n",
      "Created database: biosphere3\n",
      "Creating default LCIA methods\n",
      "\n",
      "Applying strategy: normalize_units\n",
      "Applying strategy: set_biosphere_type\n",
      "Applying strategy: drop_unspecified_subcategories\n",
      "Applying strategy: link_iterable_by_fields\n",
      "Applied 4 strategies in 1.12 seconds\n",
      "Wrote 692 LCIA methods with 170915 characterization factors\n",
      "Creating core data migrations\n",
      "\n"
     ]
    }
   ],
   "source": [
    "bw2setup()"
   ]
  },
  {
   "cell_type": "code",
   "execution_count": 3,
   "metadata": {
    "collapsed": false
   },
   "outputs": [
    {
     "name": "stderr",
     "output_type": "stream",
     "text": [
      "Extracting ecospold1 files:\n",
      "0%                          100%\n",
      "[##############################] | ETA[sec]: 0.000 | Item ID: /Users/cmutel/D\n",
      "Total time elapsed: 1.018 sec\n"
     ]
    },
    {
     "name": "stdout",
     "output_type": "stream",
     "text": [
      "Title: Extracting ecospold1 files:\n",
      "  Started: 09/29/2015 14:57:05\n",
      "  Finished: 09/29/2015 14:57:06\n",
      "  Total time elapsed: 1.018 sec\n",
      "  CPU %: 100.000000\n",
      "  Memory %: 0.300372\n",
      "Extracted 702 datasets in 1.02 seconds\n"
     ]
    }
   ],
   "source": [
    "sp = SingleOutputEcospold1Importer(\n",
    "    \"/Users/cmutel/Documents/LCA Documents/US LCI database/2014\", \n",
    "    \"US LCI\"\n",
    ")"
   ]
  },
  {
   "cell_type": "code",
   "execution_count": 4,
   "metadata": {
    "collapsed": false,
    "scrolled": false
   },
   "outputs": [
    {
     "name": "stdout",
     "output_type": "stream",
     "text": [
      "Applying strategy: normalize_units\n",
      "Applying strategy: assign_only_product_as_production\n",
      "Applying strategy: clean_integer_codes\n",
      "Applying strategy: drop_unspecified_subcategories\n",
      "Applying strategy: normalize_biosphere_categories\n",
      "Applying strategy: normalize_biosphere_names\n",
      "Applying strategy: strip_biosphere_exc_locations\n",
      "Applying strategy: set_code_by_activity_hash\n",
      "Applying strategy: link_iterable_by_fields\n",
      "Applying strategy: link_technosphere_by_activity_hash\n",
      "Couldn't apply strategy link_technosphere_by_activity_hash:\n",
      "\tNot each object in database to be linked is unique with given fields. The following appear at least twice:\n",
      "[{'categories': ['Crop Production', 'Wheat Farming'],\n",
      "  'code': '341fb9c00b29da237263a75537cc5d76',\n",
      "  'comment': '1 metric ton of wheat straw, dried to 12%\\n'\n",
      "             'moisture.\\n'\n",
      "             'Location:  North America\\n'\n",
      "             'Technology:  future\\n'\n",
      "             'Time period:  2022',\n",
      "  'database': 'US LCI',\n",
      "  'exchanges': [{'amount': 1.1723e-07,\n",
      "                 'categories': (),\n",
      "                 'comment': '30 year lifetime for storage from INL '\n",
      "                            'feedstock design report.',\n",
      "                 'loc': 1.1723e-07,\n",
      "                 'location': 'RNA',\n",
      "                 'name': 'Dummy_dried roughage store, non ventilated',\n",
      "                 'type': 'technosphere',\n",
      "                 'uncertainty type': 0,\n",
      "                 'unit': 'cubic meter'},\n",
      "                {'amount': 1.33,\n",
      "                 'categories': (),\n",
      "                 'loc': 1.33,\n",
      "                 'location': 'RNA',\n",
      "                 'name': 'Spring wheat straw, carted, 2022',\n",
      "                 'type': 'technosphere',\n",
      "                 'uncertainty type': 0,\n",
      "                 'unit': 'ton'},\n",
      "                {'amount': 3.4747e-05,\n",
      "                 'categories': (),\n",
      "                 'comment': 'conveyor for grinder in-feed system',\n",
      "                 'loc': 3.4747e-05,\n",
      "                 'location': 'RNA',\n",
      "                 'name': 'Dummy_conveyor belt, at plant',\n",
      "                 'type': 'technosphere',\n",
      "                 'uncertainty type': 0,\n",
      "                 'unit': 'meter'},\n",
      "                {'amount': 2.7751,\n",
      "                 'categories': (),\n",
      "                 'loc': 2.7751,\n",
      "                 'location': 'RNA',\n",
      "                 'name': 'Dummy_fodder loading, by self-loading trailer',\n",
      "                 'type': 'technosphere',\n",
      "                 'uncertainty type': 0,\n",
      "                 'unit': 'cubic meter'},\n",
      "                {'amount': 33.3,\n",
      "                 'categories': (),\n",
      "                 'loc': 33.3,\n",
      "                 'location': 'RNA',\n",
      "                 'name': 'Dummy_maize drying',\n",
      "                 'type': 'technosphere',\n",
      "                 'uncertainty type': 0,\n",
      "                 'unit': 'kilogram'},\n",
      "                {'amount': 0.97003,\n",
      "                 'categories': (),\n",
      "                 'loc': 0.97003,\n",
      "                 'location': 'RNA',\n",
      "                 'name': 'Grinding',\n",
      "                 'type': 'technosphere',\n",
      "                 'uncertainty type': 0,\n",
      "                 'unit': 'tn.sh'},\n",
      "                {'amount': 1.43,\n",
      "                 'categories': (),\n",
      "                 'comment': 'loading bales for grinder. Calculation of '\n",
      "                            'number of bales comes from 2000 lbs of corn '\n",
      "                            'stover divided by weight per bale. Trailer '\n",
      "                            'volume is 2511 ft^3 (INL table 4-5), density '\n",
      "                            'is 12 lbs/ft^3 dry (=20 wet at 40% moisture).',\n",
      "                 'loc': 1.43,\n",
      "                 'location': 'RNA',\n",
      "                 'name': 'Dummy_loading bales',\n",
      "                 'type': 'technosphere',\n",
      "                 'uncertainty type': 0,\n",
      "                 'unit': 'unit'},\n",
      "                {'amount': 0.9,\n",
      "                 'categories': (),\n",
      "                 'loc': 0.9,\n",
      "                 'location': 'RNA',\n",
      "                 'name': 'Dummy_agricultural machinery, general, '\n",
      "                         'production',\n",
      "                 'type': 'technosphere',\n",
      "                 'uncertainty type': 0,\n",
      "                 'unit': 'kilogram'},\n",
      "                {'amount': 61.289,\n",
      "                 'categories': (),\n",
      "                 'comment': 'proxy: Electricity, medium voltage, at '\n",
      "                            'grid/US with US electricity. Electricity '\n",
      "                            'needed for dust collection.',\n",
      "                 'loc': 61.289,\n",
      "                 'location': 'RNA',\n",
      "                 'name': 'Electricity, at grid, US, 2008',\n",
      "                 'type': 'technosphere',\n",
      "                 'uncertainty type': 0,\n",
      "                 'unit': 'kilowatt hour'},\n",
      "                {'amount': 0.333,\n",
      "                 'categories': ('air',),\n",
      "                 'comment': 'water dried per ton of final moisture corn '\n",
      "                            'stover. drying from 34% moisture to 12% '\n",
      "                            'moisture.',\n",
      "                 'input': ('biosphere3',\n",
      "                           '075e433b-4be4-448e-9510-9a5029c1ce94'),\n",
      "                 'loc': 0.333,\n",
      "                 'name': 'Water',\n",
      "                 'type': 'biosphere',\n",
      "                 'uncertainty type': 0,\n",
      "                 'unit': 'cubic meter'},\n",
      "                {'amount': 1.0,\n",
      "                 'categories': (),\n",
      "                 'loc': 1.0,\n",
      "                 'location': 'RNA',\n",
      "                 'name': 'Spring wheat straw, ground and stored, 2022',\n",
      "                 'type': 'production',\n",
      "                 'uncertainty type': 0,\n",
      "                 'unit': 'ton'}],\n",
      "  'filename': '/Users/cmutel/Documents/LCA Documents/US LCI '\n",
      "              'database/2014/Spring wheat straw, production, average, US, '\n",
      "              '2022.xml',\n",
      "  'location': 'RNA',\n",
      "  'name': 'Spring wheat straw, ground and stored, 2022',\n",
      "  'production amount': 1.0,\n",
      "  'products': [{'amount': 1.0,\n",
      "                'categories': (),\n",
      "                'loc': 1.0,\n",
      "                'location': 'RNA',\n",
      "                'name': 'Spring wheat straw, ground and stored, 2022',\n",
      "                'type': 'production',\n",
      "                'uncertainty type': 0,\n",
      "                'unit': 'ton'}],\n",
      "  'type': 'process',\n",
      "  'unit': 'ton'}]\n",
      "Applied 10 strategies in 0.66 seconds\n"
     ]
    }
   ],
   "source": [
    "sp.apply_strategies()"
   ]
  },
  {
   "cell_type": "markdown",
   "metadata": {},
   "source": [
    "OK, our first error. There are two process datasets that have the same process name - in this case, it looks like one was a first draft, and the other is the final dataset. One file is called ``Spring wheat straw, production, average, US, 2022.xml``, and the other is called ``Spring wheat straw, ground and stored, 2022.xml``. We will ignore the average production dataset file."
   ]
  },
  {
   "cell_type": "code",
   "execution_count": 5,
   "metadata": {
    "collapsed": false
   },
   "outputs": [],
   "source": [
    "bad_file = ('/Users/cmutel/Documents/LCA Documents/US LCI database/2014/'\n",
    "            'Spring wheat straw, production, average, US, 2022.xml')\n",
    "sp.data = [obj for obj in sp.data if obj.get('filename') != bad_file]"
   ]
  },
  {
   "cell_type": "markdown",
   "metadata": {},
   "source": [
    "Apply the last two strategies; the error stopped the program from going through the list."
   ]
  },
  {
   "cell_type": "code",
   "execution_count": 6,
   "metadata": {
    "collapsed": false
   },
   "outputs": [
    {
     "name": "stdout",
     "output_type": "stream",
     "text": [
      "Applying strategy: link_iterable_by_fields\n",
      "Applying strategy: link_technosphere_by_activity_hash\n",
      "Applied 2 strategies in 0.34 seconds\n"
     ]
    }
   ],
   "source": [
    "sp.apply_strategies(sp.strategies[-2:])"
   ]
  },
  {
   "cell_type": "markdown",
   "metadata": {},
   "source": [
    "The US LCI has \"dummy\" processes - links to activities which are real inputs, but which aren't modeled in the database. We need to add these dummy processes as real activities (even if they don't have any inputs themselves)."
   ]
  },
  {
   "cell_type": "code",
   "execution_count": 7,
   "metadata": {
    "collapsed": true
   },
   "outputs": [],
   "source": [
    "from bw2io.strategies import *"
   ]
  },
  {
   "cell_type": "code",
   "execution_count": 8,
   "metadata": {
    "collapsed": false,
    "scrolled": false
   },
   "outputs": [
    {
     "name": "stdout",
     "output_type": "stream",
     "text": [
      "Applying strategy: add_dummy_processes_and_rename_exchanges\n"
     ]
    }
   ],
   "source": [
    "sp.apply_strategy(special.add_dummy_processes_and_rename_exchanges)"
   ]
  },
  {
   "cell_type": "markdown",
   "metadata": {},
   "source": [
    "Let's see how things look. In an ideal dataset, everything would already be linked, but we know that this is not yet true for the US LCI."
   ]
  },
  {
   "cell_type": "code",
   "execution_count": 9,
   "metadata": {
    "collapsed": false
   },
   "outputs": [
    {
     "name": "stdout",
     "output_type": "stream",
     "text": [
      "1205 datasets\n",
      "31272 exchanges\n",
      "14076 unlinked exchanges\n",
      "  Type biosphere: 1234 unique unlinked exchanges\n",
      "  Type production: 931 unique unlinked exchanges\n",
      "  Type substitution: 1 unique unlinked exchanges\n",
      "  Type technosphere: 534 unique unlinked exchanges\n"
     ]
    },
    {
     "data": {
      "text/plain": [
       "(1205, 31272, 14076)"
      ]
     },
     "execution_count": 9,
     "metadata": {},
     "output_type": "execute_result"
    }
   ],
   "source": [
    "sp.statistics()"
   ]
  },
  {
   "cell_type": "markdown",
   "metadata": {},
   "source": [
    "We are now ready to start internally linking the database.\n",
    "\n",
    "First, we migrate some names for biosphere flows."
   ]
  },
  {
   "cell_type": "code",
   "execution_count": 10,
   "metadata": {
    "collapsed": false
   },
   "outputs": [
    {
     "name": "stdout",
     "output_type": "stream",
     "text": [
      "Applying strategy: migrate_datasets\n",
      "Applied 1 strategies in 0.01 seconds\n",
      "Applying strategy: migrate_exchanges\n",
      "Applied 1 strategies in 0.15 seconds\n",
      "Applying strategy: migrate_datasets\n",
      "Applied 1 strategies in 0.01 seconds\n",
      "Applying strategy: migrate_exchanges\n",
      "Applied 1 strategies in 0.11 seconds\n",
      "Applying strategy: migrate_datasets\n",
      "Applied 1 strategies in 0.00 seconds\n",
      "Applying strategy: migrate_exchanges\n",
      "Applied 1 strategies in 0.10 seconds\n"
     ]
    }
   ],
   "source": [
    "sp.migrate(\"biosphere-2-3-names\")\n",
    "sp.migrate(\"biosphere-2-3-categories\")\n",
    "sp.migrate('default-units')"
   ]
  },
  {
   "cell_type": "markdown",
   "metadata": {},
   "source": [
    "Then, we try to internally link the database. We call the `match_database` method with two arguments. The first is `None`, i.e. we are not linking against another database, but only doing internal linking. Because the US LCI doesn't use categories in exchange definitions consistently, we also `ignore_categories`."
   ]
  },
  {
   "cell_type": "code",
   "execution_count": 11,
   "metadata": {
    "collapsed": false
   },
   "outputs": [
    {
     "name": "stdout",
     "output_type": "stream",
     "text": [
      "Applying strategy: link_technosphere_based_on_name_unit_location\n",
      "Couldn't apply strategy link_technosphere_based_on_name_unit_location:\n",
      "\tNot each object in database to be linked is unique with given fields. The following appear at least twice:\n",
      "[{'categories': ['Crop Production', 'Other Noncitrus Fruit Farming'],\n",
      "  'code': 'bc7fb2fb585b3565ca215412d8871cd3',\n",
      "  'comment': ' Important note: although most of the data in the US LCI '\n",
      "             'database has  undergone some sort of review, the database as '\n",
      "             'a whole has not yet  undergone a formal validation process. '\n",
      "             'Please email comments to lci@nrel.gov.\\n'\n",
      "             'unspecified\\n'\n",
      "             'Location:  North America (US and Canada)\\n'\n",
      "             'Technology:  Harvesting of palm trees in Malaysia\\n'\n",
      "             'Production volume:  0',\n",
      "  'database': 'US LCI',\n",
      "  'exchanges': [{'amount': 1.6357e-05,\n",
      "                 'categories': (),\n",
      "                 'loc': 1.6357e-05,\n",
      "                 'location': 'US',\n",
      "                 'name': 'Diesel, combusted in industrial equipment',\n",
      "                 'type': 'technosphere',\n",
      "                 'uncertainty type': 0,\n",
      "                 'unit': 'cubic meter'},\n",
      "                {'amount': 1.2e-05,\n",
      "                 'categories': (),\n",
      "                 'input': ('US LCI',\n",
      "                           'disposal, solid waste, unspecified, to '\n",
      "                           'unspecified landfill'),\n",
      "                 'loc': 1.2e-05,\n",
      "                 'location': 'US',\n",
      "                 'name': 'Dummy_Disposal, solid waste, unspecified, to '\n",
      "                         'unspecified landfill',\n",
      "                 'type': 'technosphere',\n",
      "                 'uncertainty type': 0,\n",
      "                 'unit': 'kilogram'},\n",
      "                {'amount': 1.0,\n",
      "                 'categories': ['natural resource', 'in ground'],\n",
      "                 'loc': 1.0,\n",
      "                 'name': 'Fresh fruit bunches',\n",
      "                 'type': 'biosphere',\n",
      "                 'uncertainty type': 0,\n",
      "                 'unit': 'kilogram'},\n",
      "                {'amount': 0.00856,\n",
      "                 'categories': ('air',),\n",
      "                 'loc': 0.00856,\n",
      "                 'name': 'Carbon dioxide',\n",
      "                 'type': 'biosphere',\n",
      "                 'uncertainty type': 0,\n",
      "                 'unit': 'kilogram'},\n",
      "                {'amount': 2.3e-06,\n",
      "                 'categories': ('air',),\n",
      "                 'loc': 2.3e-06,\n",
      "                 'name': 'Carbon monoxide',\n",
      "                 'type': 'biosphere',\n",
      "                 'uncertainty type': 0,\n",
      "                 'unit': 'kilogram'},\n",
      "                {'amount': 1e-06,\n",
      "                 'categories': ('air',),\n",
      "                 'input': ('biosphere3',\n",
      "                           'd3260d0e-8203-4cbb-a45a-6a13131a5108'),\n",
      "                 'loc': 1e-06,\n",
      "                 'name': 'NMVOC, non-methane volatile organic compounds, '\n",
      "                         'unspecified origin',\n",
      "                 'type': 'biosphere',\n",
      "                 'uncertainty type': 0,\n",
      "                 'unit': 'kilogram'},\n",
      "                {'amount': 5.5e-06,\n",
      "                 'categories': ('air',),\n",
      "                 'input': ('biosphere3',\n",
      "                           'c1b91234-6f24-417b-8309-46111d09c457'),\n",
      "                 'loc': 5.5e-06,\n",
      "                 'name': 'Nitrogen oxides',\n",
      "                 'type': 'biosphere',\n",
      "                 'uncertainty type': 0,\n",
      "                 'unit': 'kilogram'},\n",
      "                {'amount': 6.6e-05,\n",
      "                 'categories': ('air',),\n",
      "                 'loc': 6.6e-05,\n",
      "                 'name': 'Particulates, unspecified',\n",
      "                 'type': 'biosphere',\n",
      "                 'uncertainty type': 0,\n",
      "                 'unit': 'kilogram'},\n",
      "                {'amount': 2.3e-06,\n",
      "                 'categories': ('air',),\n",
      "                 'input': ('biosphere3',\n",
      "                           'ba5fc0b6-770b-4da1-9b3f-e3b5087f07cd'),\n",
      "                 'loc': 2.3e-06,\n",
      "                 'name': 'Sulfur oxides',\n",
      "                 'type': 'biosphere',\n",
      "                 'uncertainty type': 0,\n",
      "                 'unit': 'kilogram'},\n",
      "                {'amount': 1.0,\n",
      "                 'categories': (),\n",
      "                 'loc': 1.0,\n",
      "                 'location': 'RNA',\n",
      "                 'name': 'Harvesting, fresh fruit bunch, at farm',\n",
      "                 'type': 'production',\n",
      "                 'uncertainty type': 0,\n",
      "                 'unit': 'kilogram'}],\n",
      "  'filename': '/Users/cmutel/Documents/LCA Documents/US LCI '\n",
      "              'database/2014/Harvesting, fresh fruit bunch, at farm.xml',\n",
      "  'location': 'RNA',\n",
      "  'name': 'Harvesting, fresh fruit bunch, at farm',\n",
      "  'production amount': 1.0,\n",
      "  'products': [{'amount': 1.0,\n",
      "                'categories': (),\n",
      "                'loc': 1.0,\n",
      "                'location': 'RNA',\n",
      "                'name': 'Harvesting, fresh fruit bunch, at farm',\n",
      "                'type': 'production',\n",
      "                'uncertainty type': 0,\n",
      "                'unit': 'kilogram'}],\n",
      "  'type': 'process',\n",
      "  'unit': 'kilogram'}]\n",
      "Applied 1 strategies in 0.01 seconds\n"
     ]
    }
   ],
   "source": [
    "sp.match_database(None, ignore_categories=True)"
   ]
  },
  {
   "cell_type": "markdown",
   "metadata": {},
   "source": [
    "We find another error liek before - the same process dataset is repeated using two different filenames."
   ]
  },
  {
   "cell_type": "code",
   "execution_count": 12,
   "metadata": {
    "collapsed": false
   },
   "outputs": [
    {
     "data": {
      "text/plain": [
       "['/Users/cmutel/Documents/LCA Documents/US LCI database/2014/Fresh fruit bunches.xml',\n",
       " '/Users/cmutel/Documents/LCA Documents/US LCI database/2014/Harvesting, fresh fruit bunch, at farm.xml']"
      ]
     },
     "execution_count": 12,
     "metadata": {},
     "output_type": "execute_result"
    }
   ],
   "source": [
    "[x['filename'] for x in sp.data if x['name'] == 'Harvesting, fresh fruit bunch, at farm']"
   ]
  },
  {
   "cell_type": "markdown",
   "metadata": {},
   "source": [
    "The `Harvesting...` dataset is older; presumably, the `Fresh fruit...` dataset is the updated version. We can delete the older dataset and continue."
   ]
  },
  {
   "cell_type": "code",
   "execution_count": 13,
   "metadata": {
    "collapsed": false
   },
   "outputs": [],
   "source": [
    "bad_file = '/Users/cmutel/Documents/LCA Documents/US LCI database/2014/Harvesting, fresh fruit bunch, at farm.xml'\n",
    "sp.data = [obj for obj in sp.data if obj.get('filename') != bad_file]"
   ]
  },
  {
   "cell_type": "code",
   "execution_count": 14,
   "metadata": {
    "collapsed": false
   },
   "outputs": [
    {
     "name": "stdout",
     "output_type": "stream",
     "text": [
      "Applying strategy: link_technosphere_based_on_name_unit_location\n",
      "Applied 1 strategies in 0.04 seconds\n"
     ]
    }
   ],
   "source": [
    "sp.match_database(None, ignore_categories=True)"
   ]
  },
  {
   "cell_type": "markdown",
   "metadata": {},
   "source": [
    "We have done the internal linking that we can - now we need to link the biosphere flows. This looks complicated, but is just a fancy way of linking the biosphere flows by their names, units, and categories."
   ]
  },
  {
   "cell_type": "code",
   "execution_count": 15,
   "metadata": {
    "collapsed": false
   },
   "outputs": [
    {
     "name": "stdout",
     "output_type": "stream",
     "text": [
      "Applying strategy: link_iterable_by_fields\n"
     ]
    }
   ],
   "source": [
    "import functools\n",
    "f = functools.partial(link_iterable_by_fields,\n",
    "    other=Database(config.biosphere),\n",
    "    kind='biosphere'\n",
    ")\n",
    "sp.apply_strategy(f)"
   ]
  },
  {
   "cell_type": "markdown",
   "metadata": {},
   "source": [
    "Let's see how far we have got:"
   ]
  },
  {
   "cell_type": "code",
   "execution_count": 16,
   "metadata": {
    "collapsed": false
   },
   "outputs": [
    {
     "name": "stdout",
     "output_type": "stream",
     "text": [
      "1204 datasets\n",
      "31262 exchanges\n",
      "10040 unlinked exchanges\n",
      "  Type biosphere: 1154 unique unlinked exchanges\n",
      "  Type production: 278 unique unlinked exchanges\n",
      "  Type substitution: 1 unique unlinked exchanges\n",
      "  Type technosphere: 243 unique unlinked exchanges\n"
     ]
    },
    {
     "data": {
      "text/plain": [
       "(1204, 31262, 10040)"
      ]
     },
     "execution_count": 16,
     "metadata": {},
     "output_type": "execute_result"
    }
   ],
   "source": [
    "sp.statistics()"
   ]
  },
  {
   "cell_type": "markdown",
   "metadata": {},
   "source": [
    "Not great. \n",
    "\n",
    "Some of these unlinked exchanges are links to ecoinvent 2.2, so they shouldn't work.\n",
    "\n",
    "Let's export lists of what we have so far."
   ]
  },
  {
   "cell_type": "code",
   "execution_count": 17,
   "metadata": {
    "collapsed": false
   },
   "outputs": [
    {
     "name": "stdout",
     "output_type": "stream",
     "text": [
      "Wrote matching file to:\n",
      "/Users/cmutel/Library/Application Support/Brightway3/US-LCI.dc95923157ce5b74345603ecff24cb4d/export/db-matching-US-LCI-unlinked.xlsx\n"
     ]
    }
   ],
   "source": [
    "sp.write_excel(only_unlinked=True)"
   ]
  },
  {
   "cell_type": "code",
   "execution_count": 18,
   "metadata": {
    "collapsed": false
   },
   "outputs": [
    {
     "name": "stdout",
     "output_type": "stream",
     "text": [
      "Wrote matching file to:\n",
      "/Users/cmutel/Library/Application Support/Brightway3/US-LCI.dc95923157ce5b74345603ecff24cb4d/export/db-matching-US-LCI-names.xlsx\n"
     ]
    }
   ],
   "source": [
    "sp.write_excel(only_names=True)"
   ]
  },
  {
   "cell_type": "code",
   "execution_count": 19,
   "metadata": {
    "collapsed": false
   },
   "outputs": [
    {
     "name": "stdout",
     "output_type": "stream",
     "text": [
      "Wrote matching file to:\n",
      "/Users/cmutel/Library/Application Support/Brightway3/US-LCI.dc95923157ce5b74345603ecff24cb4d/export/db-matching-US-LCI.xlsx\n"
     ]
    }
   ],
   "source": [
    "sp.write_excel()"
   ]
  },
  {
   "cell_type": "markdown",
   "metadata": {},
   "source": [
    "## Files\n",
    "\n",
    "The Excel output files are available for download at  https://bitbucket.org/cmutel/brightway2/src/tip/notebooks/files/?at=2.0. Click on \"view raw\" for each file to download it."
   ]
  },
  {
   "cell_type": "markdown",
   "metadata": {
    "collapsed": true
   },
   "source": [
    "We can search the biosphere database to find out why some biosphere flows weren't linked. For example, `Carbon dioxide` - that seems strange. Why didn't that work?"
   ]
  },
  {
   "cell_type": "code",
   "execution_count": 20,
   "metadata": {
    "collapsed": false
   },
   "outputs": [
    {
     "data": {
      "text/plain": [
       "['Carbon dioxide, in air' (kilogram, None, ('natural resource', 'in air')),\n",
       " 'Carbon dioxide, fossil' (kilogram, None, ('air', 'urban air close to ground')),\n",
       " 'Carbon dioxide, fossil' (kilogram, None, ('air', 'non-urban air or from high stacks')),\n",
       " 'Carbon dioxide, fossil' (kilogram, None, ('air', 'lower stratosphere + upper troposphere')),\n",
       " 'Carbon dioxide, fossil' (kilogram, None, ('air',)),\n",
       " 'Carbon dioxide, fossil' (kilogram, None, ('air', 'low population density, long-term')),\n",
       " 'Carbon dioxide, non-fossil' (kilogram, None, ('air', 'non-urban air or from high stacks')),\n",
       " 'Carbon dioxide, non-fossil' (kilogram, None, ('air',)),\n",
       " 'Carbon dioxide, non-fossil' (kilogram, None, ('air', 'urban air close to ground')),\n",
       " 'Carbon dioxide, non-fossil' (kilogram, None, ('air', 'lower stratosphere + upper troposphere')),\n",
       " 'Carbon dioxide, non-fossil' (kilogram, None, ('air', 'low population density, long-term')),\n",
       " 'Carbon dioxide, to soil or biomass stock' (kilogram, None, ('soil', 'industrial')),\n",
       " 'Carbon dioxide, from soil or biomass stock' (kilogram, None, ('air', 'indoor')),\n",
       " 'Carbon dioxide, to soil or biomass stock' (kilogram, None, ('soil',)),\n",
       " 'Carbon dioxide, from soil or biomass stock' (kilogram, None, ('air',)),\n",
       " 'Carbon dioxide, to soil or biomass stock' (kilogram, None, ('soil', 'agricultural')),\n",
       " 'Carbon dioxide, from soil or biomass stock' (kilogram, None, ('air', 'urban air close to ground')),\n",
       " 'Carbon dioxide, from soil or biomass stock' (kilogram, None, ('air', 'non-urban air or from high stacks')),\n",
       " 'Carbon dioxide, from soil or biomass stock' (kilogram, None, ('air', 'lower stratosphere + upper troposphere')),\n",
       " 'Carbon dioxide, to soil or biomass stock' (kilogram, None, ('soil', 'forestry')),\n",
       " 'Carbon dioxide, from soil or biomass stock' (kilogram, None, ('air', 'low population density, long-term'))]"
      ]
     },
     "execution_count": 20,
     "metadata": {},
     "output_type": "execute_result"
    }
   ],
   "source": [
    "db = Database(\"biosphere3\")\n",
    "db.search(\"Carbon dioxide\")"
   ]
  },
  {
   "cell_type": "markdown",
   "metadata": {},
   "source": [
    "Oh, we would need to specify if it was fossil or non-fossil, as they are handled differently in GWP calculations.\n",
    "\n",
    "For every unmatched exchange, there is a reason the computer couldn't match it exactly. The next step is to figure out the problem for each exchange, and then write a migration to fix the input data to match what is expected."
   ]
  }
 ],
 "metadata": {
  "kernelspec": {
   "display_name": "Python 3",
   "language": "python",
   "name": "python3"
  },
  "language_info": {
   "codemirror_mode": {
    "name": "ipython",
    "version": 3
   },
   "file_extension": ".py",
   "mimetype": "text/x-python",
   "name": "python",
   "nbconvert_exporter": "python",
   "pygments_lexer": "ipython3",
   "version": "3.5.2"
  }
 },
 "nbformat": 4,
 "nbformat_minor": 0
}
