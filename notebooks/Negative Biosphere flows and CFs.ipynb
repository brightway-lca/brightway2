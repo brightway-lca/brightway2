{
 "cells": [
  {
   "cell_type": "markdown",
   "metadata": {},
   "source": [
    "This notebook looks at the signs of biosphere flows and characterization factors.\n",
    "\n",
    "First, let's do the usual setup."
   ]
  },
  {
   "cell_type": "code",
   "execution_count": 1,
   "metadata": {
    "collapsed": true
   },
   "outputs": [],
   "source": [
    "from brightway2 import *\n",
    "projects.set_current(\"biosphere notebook\")"
   ]
  },
  {
   "cell_type": "code",
   "execution_count": 2,
   "metadata": {},
   "outputs": [
    {
     "name": "stdout",
     "output_type": "stream",
     "text": [
      "Creating default biosphere\n",
      "\n"
     ]
    },
    {
     "name": "stderr",
     "output_type": "stream",
     "text": [
      "Writing activities to SQLite3 database:\n",
      "0%                          100%\n",
      "[#############                 ] | ETA: 00:00:00"
     ]
    },
    {
     "name": "stdout",
     "output_type": "stream",
     "text": [
      "Applying strategy: normalize_units\n",
      "Applying strategy: drop_unspecified_subcategories\n",
      "Applied 2 strategies in 0.01 seconds\n"
     ]
    },
    {
     "name": "stderr",
     "output_type": "stream",
     "text": [
      "[##############################] | ETA: 00:00:00\n",
      "Total time elapsed: 00:00:00\n"
     ]
    },
    {
     "name": "stdout",
     "output_type": "stream",
     "text": [
      "Title: Writing activities to SQLite3 database:\n",
      "  Started: 08/30/2017 13:57:20\n",
      "  Finished: 08/30/2017 13:57:20\n",
      "  Total time elapsed: 00:00:00\n",
      "  CPU %: 100.30\n",
      "  Memory %: 0.43\n",
      "Created database: biosphere3\n",
      "Creating default LCIA methods\n",
      "\n",
      "Applying strategy: normalize_units\n",
      "Applying strategy: set_biosphere_type\n",
      "Applying strategy: drop_unspecified_subcategories\n",
      "Applying strategy: link_iterable_by_fields\n",
      "Applied 4 strategies in 1.01 seconds\n",
      "Wrote 718 LCIA methods with 178008 characterization factors\n",
      "Creating core data migrations\n",
      "\n"
     ]
    }
   ],
   "source": [
    "bw2setup()"
   ]
  },
  {
   "cell_type": "markdown",
   "metadata": {},
   "source": [
    "We will take the ReCiPe method as an example."
   ]
  },
  {
   "cell_type": "code",
   "execution_count": 3,
   "metadata": {
    "collapsed": true
   },
   "outputs": [],
   "source": [
    "is_recipe = lambda x: x[0] == 'ReCiPe Endpoint (H,A)'"
   ]
  },
  {
   "cell_type": "markdown",
   "metadata": {},
   "source": [
    "Make a function to print any negative CFs in a given method."
   ]
  },
  {
   "cell_type": "code",
   "execution_count": 4,
   "metadata": {
    "collapsed": true
   },
   "outputs": [],
   "source": [
    "def print_negative_cfs(method):\n",
    "    cfs = Method(method).load()\n",
    "    for key, value in cfs:\n",
    "        if value < 0:\n",
    "            print(get_activity(key), value)"
   ]
  },
  {
   "cell_type": "markdown",
   "metadata": {},
   "source": [
    "Now we loop through the ReCiPe endpoint methods, and print any negative CFs we find."
   ]
  },
  {
   "cell_type": "code",
   "execution_count": 6,
   "metadata": {},
   "outputs": [
    {
     "name": "stdout",
     "output_type": "stream",
     "text": [
      "('ReCiPe Endpoint (H,A)', 'ecosystem quality', 'agricultural land occupation')\n",
      "\n",
      "('ReCiPe Endpoint (H,A)', 'ecosystem quality', 'climate change, ecosystems')\n",
      "'Carbon dioxide, to soil or biomass stock' (kilogram, None, ('soil',)) -0.175224928177\n",
      "\n",
      "('ReCiPe Endpoint (H,A)', 'ecosystem quality', 'freshwater ecotoxicity')\n",
      "\n",
      "('ReCiPe Endpoint (H,A)', 'ecosystem quality', 'freshwater eutrophication')\n",
      "\n",
      "('ReCiPe Endpoint (H,A)', 'ecosystem quality', 'marine ecotoxicity')\n",
      "\n",
      "('ReCiPe Endpoint (H,A)', 'ecosystem quality', 'natural land transformation')\n",
      "'Transformation, to forest, extensive' (square meter, None, ('natural resource', 'land')) -4.25108560478\n",
      "'Transformation, to forest, intensive' (square meter, None, ('natural resource', 'land')) -4.25108560478\n",
      "'Transformation, to forest, secondary (non-use)' (square meter, None, ('natural resource', 'land')) -4.25185647787\n",
      "'Transformation, to forest, unspecified' (square meter, None, ('natural resource', 'land')) -4.25108560478\n",
      "'Transformation, to unspecified' (square meter, None, ('natural resource', 'land')) -1.66773358341\n",
      "'Transformation, to unspecified, natural (non-use)' (square meter, None, ('natural resource', 'land')) -14.2858249577\n",
      "\n",
      "('ReCiPe Endpoint (H,A)', 'ecosystem quality', 'terrestrial acidification')\n",
      "\n",
      "('ReCiPe Endpoint (H,A)', 'ecosystem quality', 'terrestrial ecotoxicity')\n",
      "\n",
      "('ReCiPe Endpoint (H,A)', 'ecosystem quality', 'total')\n",
      "'Carbon dioxide, to soil or biomass stock' (kilogram, None, ('soil',)) -0.175224928177\n",
      "'Transformation, to forest, extensive' (square meter, None, ('natural resource', 'land')) -4.25108560478\n",
      "'Transformation, to forest, intensive' (square meter, None, ('natural resource', 'land')) -4.25108560478\n",
      "'Transformation, to forest, secondary (non-use)' (square meter, None, ('natural resource', 'land')) -4.25185647787\n",
      "'Transformation, to forest, unspecified' (square meter, None, ('natural resource', 'land')) -4.25108560478\n",
      "'Transformation, to unspecified' (square meter, None, ('natural resource', 'land')) -1.66773358341\n",
      "'Transformation, to unspecified, natural (non-use)' (square meter, None, ('natural resource', 'land')) -14.2858249577\n",
      "\n",
      "('ReCiPe Endpoint (H,A)', 'ecosystem quality', 'urban land occupation')\n",
      "\n",
      "('ReCiPe Endpoint (H,A)', 'human health', 'climate change, human health')\n",
      "'Carbon dioxide, to soil or biomass stock' (kilogram, None, ('soil',)) -0.277227722772\n",
      "\n",
      "('ReCiPe Endpoint (H,A)', 'human health', 'human toxicity')\n",
      "\n",
      "('ReCiPe Endpoint (H,A)', 'human health', 'ionising radiation')\n",
      "\n",
      "('ReCiPe Endpoint (H,A)', 'human health', 'ozone depletion')\n",
      "\n",
      "('ReCiPe Endpoint (H,A)', 'human health', 'particulate matter formation')\n",
      "\n",
      "('ReCiPe Endpoint (H,A)', 'human health', 'photochemical oxidant formation')\n",
      "'Benzaldehyde' (kilogram, None, ('air', 'low population density, long-term')) -0.00012001605566\n",
      "'Benzaldehyde' (kilogram, None, ('air', 'lower stratosphere + upper troposphere')) -0.00012001605566\n",
      "'Benzaldehyde' (kilogram, None, ('air', 'non-urban air or from high stacks')) -0.00012001605566\n",
      "'Benzaldehyde' (kilogram, None, ('air',)) -0.00012001605566\n",
      "'Benzaldehyde' (kilogram, None, ('air', 'urban air close to ground')) -0.00012001605566\n",
      "\n",
      "('ReCiPe Endpoint (H,A)', 'human health', 'total')\n",
      "'Carbon dioxide, to soil or biomass stock' (kilogram, None, ('soil',)) -0.277227722772\n",
      "\n",
      "('ReCiPe Endpoint (H,A)', 'resources', 'fossil depletion')\n",
      "\n",
      "('ReCiPe Endpoint (H,A)', 'resources', 'metal depletion')\n",
      "\n",
      "('ReCiPe Endpoint (H,A)', 'resources', 'total')\n",
      "\n",
      "('ReCiPe Endpoint (H,A)', 'total', 'total')\n",
      "'Carbon dioxide, to soil or biomass stock' (kilogram, None, ('soil',)) -0.452452650949\n",
      "'Transformation, to forest, extensive' (square meter, None, ('natural resource', 'land')) -4.25108560478\n",
      "'Transformation, to forest, intensive' (square meter, None, ('natural resource', 'land')) -4.25108560478\n",
      "'Transformation, to forest, secondary (non-use)' (square meter, None, ('natural resource', 'land')) -4.25185647787\n",
      "'Transformation, to forest, unspecified' (square meter, None, ('natural resource', 'land')) -4.25108560478\n",
      "'Transformation, to unspecified' (square meter, None, ('natural resource', 'land')) -1.66773358341\n",
      "'Transformation, to unspecified, natural (non-use)' (square meter, None, ('natural resource', 'land')) -14.2858249577\n",
      "\n"
     ]
    }
   ],
   "source": [
    "for method in filter(is_recipe, methods):\n",
    "    print(method)\n",
    "    print_negative_cfs(method)\n",
    "    print()"
   ]
  },
  {
   "cell_type": "markdown",
   "metadata": {},
   "source": [
    "What are the negative values? Negative CFs are *good* for the environment, and this is what we find:\n",
    "\n",
    "* 'Carbon dioxide, to soil or biomass stock' is carbon captured in biomass for a certain period of time.\n",
    "* 'Benzaldehyde' inhibits the formation of smog.\n",
    "* 'Transformation, to forest...' represents a positive land-use change."
   ]
  },
  {
   "cell_type": "code",
   "execution_count": null,
   "metadata": {
    "collapsed": true
   },
   "outputs": [],
   "source": []
  }
 ],
 "metadata": {
  "kernelspec": {
   "display_name": "Python 3",
   "language": "python",
   "name": "python3"
  },
  "language_info": {
   "codemirror_mode": {
    "name": "ipython",
    "version": 3
   },
   "file_extension": ".py",
   "mimetype": "text/x-python",
   "name": "python",
   "nbconvert_exporter": "python",
   "pygments_lexer": "ipython3",
   "version": "3.6.1"
  }
 },
 "nbformat": 4,
 "nbformat_minor": 2
}
