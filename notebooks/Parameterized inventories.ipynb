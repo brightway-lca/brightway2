{
 "cells": [
  {
   "cell_type": "markdown",
   "metadata": {},
   "source": [
    "# Parameterized inventories\n",
    "\n",
    "This notebook shows how to create parameterized inventories with constants, variables, and formulas.\n",
    "\n",
    "Note that Brightway2 allows you to write real models in Python, and this is preferable to writing a model in formulas inside an inventory. However, for simple cases parameterized inventories can add real power without too much work.\n",
    "\n",
    "We start by creating a new project and adding the basic data."
   ]
  },
  {
   "cell_type": "code",
   "execution_count": 1,
   "metadata": {
    "collapsed": true
   },
   "outputs": [],
   "source": [
    "from brightway2 import *"
   ]
  },
  {
   "cell_type": "code",
   "execution_count": 2,
   "metadata": {
    "collapsed": true
   },
   "outputs": [],
   "source": [
    "projects.set_current(\"parameterized\")"
   ]
  },
  {
   "cell_type": "code",
   "execution_count": 3,
   "metadata": {
    "collapsed": false
   },
   "outputs": [
    {
     "name": "stdout",
     "output_type": "stream",
     "text": [
      "Biosphere database already present!!! No setup is needed\n"
     ]
    }
   ],
   "source": [
    "bw2setup()"
   ]
  },
  {
   "cell_type": "markdown",
   "metadata": {},
   "source": [
    "## Create a database\n",
    "\n",
    "This will hold our parameterized inventories."
   ]
  },
  {
   "cell_type": "code",
   "execution_count": 4,
   "metadata": {
    "collapsed": true
   },
   "outputs": [],
   "source": [
    "db = Database(\"Woweee!\")\n",
    "db.write({})"
   ]
  },
  {
   "cell_type": "markdown",
   "metadata": {},
   "source": [
    "## Create a new activity\n",
    "\n",
    "Each activity has its own namespace for variable and formula names.\n",
    "\n",
    "Lets also define some simple parameters."
   ]
  },
  {
   "cell_type": "code",
   "execution_count": 5,
   "metadata": {
    "collapsed": true
   },
   "outputs": [],
   "source": [
    "act = db.new_activity(\"first\", name=\"first parameterized inventory\", unit=\"kilogram\")"
   ]
  },
  {
   "cell_type": "code",
   "execution_count": 6,
   "metadata": {
    "collapsed": false
   },
   "outputs": [],
   "source": [
    "act['parameters'] = {\n",
    "    'speed': {'amount': 40, 'unit': 'km/h'},\n",
    "    'time': {'amount': 2.5, 'unit': 'hours', 'comment': 'A long time, but no so long'},\n",
    "    'distance': {'formula': 'speed * time', 'arbitrary fields': 'can be added as needed'}\n",
    "}\n",
    "act.save()"
   ]
  },
  {
   "cell_type": "markdown",
   "metadata": {},
   "source": [
    "## Evaluate our parameter set\n",
    "\n",
    "Evaluate our parameter set using the [bw2parameters library](http://brightway2-parameters.readthedocs.org/)."
   ]
  },
  {
   "cell_type": "code",
   "execution_count": 7,
   "metadata": {
    "collapsed": false
   },
   "outputs": [
    {
     "data": {
      "text/plain": [
       "{'distance': 100.0, 'speed': 40, 'time': 2.5}"
      ]
     },
     "execution_count": 7,
     "metadata": {},
     "output_type": "execute_result"
    }
   ],
   "source": [
    "from bw2parameters import ParameterSet\n",
    "\n",
    "ps = ParameterSet(act['parameters'])\n",
    "ps.evaluate()"
   ]
  },
  {
   "cell_type": "markdown",
   "metadata": {},
   "source": [
    "## Add parameterized exchanges\n",
    "\n",
    "We don't have any other technosphere processes, but we can paramerize links to biosphere flows."
   ]
  },
  {
   "cell_type": "code",
   "execution_count": 8,
   "metadata": {
    "collapsed": false
   },
   "outputs": [
    {
     "data": {
      "text/plain": [
       "'Acetic acid' (kilogram, None, ('air',))"
      ]
     },
     "execution_count": 8,
     "metadata": {},
     "output_type": "execute_result"
    }
   ],
   "source": [
    "exc = act.new_exchange(input=Database(\"biosphere3\").random(), type='biosphere')\n",
    "exc.input"
   ]
  },
  {
   "cell_type": "markdown",
   "metadata": {},
   "source": [
    "We have a bunch of [built in functions from the Python math library and numpy](http://newville.github.io/asteval/basics.html#built-in-functions). Note that we don't define the `amount` field - this will be added later when the formula is evaluated."
   ]
  },
  {
   "cell_type": "code",
   "execution_count": 9,
   "metadata": {
    "collapsed": false
   },
   "outputs": [],
   "source": [
    "exc['formula'] = 'sqrt(distance) * pi'"
   ]
  },
  {
   "cell_type": "markdown",
   "metadata": {},
   "source": [
    "Let's do another one:"
   ]
  },
  {
   "cell_type": "code",
   "execution_count": 10,
   "metadata": {
    "collapsed": true
   },
   "outputs": [],
   "source": [
    "exc2 = act.new_exchange(input=Database(\"biosphere3\").random(), type='biosphere')\n",
    "exc2['formula'] = 'log(speed) ** 2'"
   ]
  },
  {
   "cell_type": "markdown",
   "metadata": {},
   "source": [
    "The syntax to evaluate the parameterized inventories is maybe not the most intuitive, and could change in the future. We use our `ParameterSet` as a function, and call it with a list of our exchanges:"
   ]
  },
  {
   "cell_type": "code",
   "execution_count": 11,
   "metadata": {
    "collapsed": false
   },
   "outputs": [
    {
     "name": "stdout",
     "output_type": "stream",
     "text": [
      "AttributeError\n",
      "   sqrt(distance) * pi\n",
      "'Call' object has no attribute 'starargs'\n",
      "AttributeError\n",
      "   log(speed) ** 2\n",
      "'Call' object has no attribute 'starargs'\n"
     ]
    },
    {
     "data": {
      "text/plain": [
       "[Exchange with missing fields (call ``valid(why=True)`` to see more),\n",
       " Exchange with missing fields (call ``valid(why=True)`` to see more)]"
      ]
     },
     "execution_count": 11,
     "metadata": {},
     "output_type": "execute_result"
    }
   ],
   "source": [
    "ps([exc, exc2])"
   ]
  },
  {
   "cell_type": "markdown",
   "metadata": {},
   "source": [
    "Our exchanges have been evaluated, and the `amount` field has been added. This is the basic form of a parameterized inventory.\n",
    "\n",
    "## Global parameters\n",
    "\n",
    "We can also have database-level parameters which can be reference by any activity, even one without it's own local parameters.\n",
    "\n",
    "Currently we have no global parameters:"
   ]
  },
  {
   "cell_type": "code",
   "execution_count": 12,
   "metadata": {
    "collapsed": false
   },
   "outputs": [
    {
     "data": {
      "text/plain": [
       "Database parameter set with 0 values"
      ]
     },
     "execution_count": 12,
     "metadata": {},
     "output_type": "execute_result"
    }
   ],
   "source": [
    "db.parameters"
   ]
  },
  {
   "cell_type": "markdown",
   "metadata": {},
   "source": [
    "Let's add a constant, a variable, and a formula:"
   ]
  },
  {
   "cell_type": "code",
   "execution_count": 13,
   "metadata": {
    "collapsed": false
   },
   "outputs": [],
   "source": [
    "from stats_arrays import *\n",
    "\n",
    "db.parameters['constant'] = {'amount': 42}\n",
    "db.parameters['variable'] = {\n",
    "    'amount': 1, \n",
    "    'loc': 1,  # Uncertainty parameters\n",
    "    'minimum': 0, \n",
    "    'maximum': 3, \n",
    "    'uncertainty type': TriangularUncertainty.id\n",
    "}\n",
    "db.parameters['formula'] = {'formula': 'constant + variable'}"
   ]
  },
  {
   "cell_type": "code",
   "execution_count": 14,
   "metadata": {
    "collapsed": true
   },
   "outputs": [],
   "source": [
    "act2 = db.new_activity(\"second\", name=\"second parameterized inventory\", unit=\"kilogram\")\n",
    "act2.save()\n",
    "exc3 = act2.new_exchange(input=Database(\"biosphere3\").random(), type='biosphere')\n",
    "exc3['formula'] = 'formula + 7'"
   ]
  },
  {
   "cell_type": "markdown",
   "metadata": {
    "collapsed": false
   },
   "source": [
    "When evaluating with global parameters, we still have to pass our local parameter set. Because we don't have any, we can pass an empty dictionary.\n",
    "\n",
    "Note that we have to evaluate the global parameters."
   ]
  },
  {
   "cell_type": "code",
   "execution_count": 15,
   "metadata": {
    "collapsed": false
   },
   "outputs": [
    {
     "data": {
      "text/plain": [
       "[Exchange: 50 kilogram 'Cadmium' (kilogram, None, ('soil', 'industrial')) to 'second parameterized inventory' (kilogram, GLO, None)>]"
      ]
     },
     "execution_count": 15,
     "metadata": {},
     "output_type": "execute_result"
    }
   ],
   "source": [
    "ps = ParameterSet({}, global_params=db.parameters.evaluate())\n",
    "ps([exc3])"
   ]
  },
  {
   "cell_type": "markdown",
   "metadata": {},
   "source": [
    "This is the current state of parameterized inventories in Brightway2. One important caveat is that parameterized inventories dont work yet with Monte Carlo sampling - it is not simple to do this in an efficient way, and the methodology is still being thought about.\n",
    "\n",
    "For anything complicated, it is (again) recommended to write a separate model in Python and use that model to dynamically generate life cycle inventories."
   ]
  },
  {
   "cell_type": "code",
   "execution_count": null,
   "metadata": {
    "collapsed": true
   },
   "outputs": [],
   "source": []
  }
 ],
 "metadata": {
  "kernelspec": {
   "display_name": "Python 3",
   "language": "python",
   "name": "python3"
  },
  "language_info": {
   "codemirror_mode": {
    "name": "ipython",
    "version": 3
   },
   "file_extension": ".py",
   "mimetype": "text/x-python",
   "name": "python",
   "nbconvert_exporter": "python",
   "pygments_lexer": "ipython3",
   "version": "3.5.2"
  }
 },
 "nbformat": 4,
 "nbformat_minor": 0
}
