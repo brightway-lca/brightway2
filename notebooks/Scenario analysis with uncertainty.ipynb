{
 "cells": [
  {
   "cell_type": "markdown",
   "id": "c1b6d6af-7166-4e31-9a64-6853824d3fc3",
   "metadata": {},
   "source": [
    "# Combining combinatorial scenario analysis with uncertainty\n",
    "\n",
    "The default way to do combinatorial scenario analysis will only select each scenario combination once. In other words, if in one system we had scenarios `A` and `B`, and in another system we had scenarios `🚲` and `🎺`, then we would have four possible scenario combinations:\n",
    "\n",
    "* `('A', '🚲')`\n",
    "* `('B', '🚲')`\n",
    "* `('A', '🎺')`\n",
    "* `('B', '🎺')`\n",
    "\n",
    "However, this doesn't really work for cases where we have quantitative uncertainty in each scenario. We would like to be able to draw multiple samples from `('A', '🚲')` before switching to the next combination.\n",
    "\n",
    "## Example system\n",
    "\n",
    "Let's set up an example system and demo this functionality."
   ]
  },
  {
   "cell_type": "code",
   "execution_count": 1,
   "id": "559aefd8-01ba-4002-bccd-7860f3853f48",
   "metadata": {},
   "outputs": [],
   "source": [
    "import bw2calc as bc\n",
    "import bw2data as bd\n",
    "import bw2io as bi\n",
    "import bw_processing as bwp\n",
    "import itertools\n",
    "import matrix_utils as mu\n",
    "import numpy as np\n",
    "import pandas as pd\n",
    "import seaborn as sb\n",
    "import stats_arrays as sa"
   ]
  },
  {
   "cell_type": "markdown",
   "id": "5ba585cd-36b4-485f-b64b-0dc636b1d840",
   "metadata": {},
   "source": [
    "Download an example database to work with. This comes with its own LCIA methods, which is convenient."
   ]
  },
  {
   "cell_type": "code",
   "execution_count": 2,
   "id": "8c5e8034-03dc-47ea-8092-b8fc4700ca2f",
   "metadata": {},
   "outputs": [
    {
     "name": "stdout",
     "output_type": "stream",
     "text": [
      "Restoring project backup archive - this could take a few minutes...\n",
      "Restored project: USEEIO-1.1\n"
     ]
    },
    {
     "data": {
      "text/plain": [
       "Databases dictionary with 1 object(s):\n",
       "\tUSEEIO-1.1"
      ]
     },
     "execution_count": 2,
     "metadata": {},
     "output_type": "execute_result"
    }
   ],
   "source": [
    "bi.install_project(\"USEEIO-1.1\", overwrite_existing=True)\n",
    "bd.projects.set_current(\"USEEIO-1.1\")\n",
    "bd.databases"
   ]
  },
  {
   "cell_type": "markdown",
   "id": "8a139ee1-111e-46f1-a364-a638c248fc0c",
   "metadata": {},
   "source": [
    "This IO data doesn't have any uncertainty - but we can [cheat and add some](https://github.com/brightway-lca/brightway2-data/blob/8609efb4d8dd165687812dba4386601637fbe831/bw2data/utils.py#L128)."
   ]
  },
  {
   "cell_type": "code",
   "execution_count": 3,
   "id": "59cac678-63b7-4cd0-a937-efdb75196a13",
   "metadata": {},
   "outputs": [
    {
     "name": "stdout",
     "output_type": "stream",
     "text": [
      "Not able to determine geocollections for all datasets. This database is not ready for regionalization.\n"
     ]
    },
    {
     "name": "stderr",
     "output_type": "stream",
     "text": [
      "100%|██████████| 2649/2649 [00:34<00:00, 76.89it/s] \n"
     ]
    },
    {
     "name": "stdout",
     "output_type": "stream",
     "text": [
      "Vacuuming database \n"
     ]
    }
   ],
   "source": [
    "useeio = bd.Database('USEEIO-1.1')\n",
    "useeio.write(bd.utils.uncertainify(\n",
    "    data=useeio.load(), \n",
    "    distribution=sa.NormalUncertainty,\n",
    "))"
   ]
  },
  {
   "cell_type": "markdown",
   "id": "dd327e11-45f3-4e87-bf7c-be90552c760e",
   "metadata": {},
   "source": [
    "We need some scenarios. We can define these manually. This is an example, so the actual system is a bit silly."
   ]
  },
  {
   "cell_type": "code",
   "execution_count": 4,
   "id": "2b17a680-d94f-439e-8d6f-c5a24fbf8827",
   "metadata": {},
   "outputs": [],
   "source": [
    "bored_teenagers = bd.Database(\"Entertainment\")\n",
    "bored_teenagers.register()\n",
    "entertainment = bored_teenagers.new_node(\n",
    "    name='Entertainment',\n",
    "    code='e',\n",
    "    location='US',\n",
    "    unit='hour',\n",
    ")\n",
    "entertainment.save()\n",
    "written_entertainment = bored_teenagers.new_node(\n",
    "    name='Written entertainment',\n",
    "    code='w',\n",
    "    location='US',\n",
    "    unit='hour'\n",
    ")\n",
    "written_entertainment.save()\n",
    "av_entertainment = bored_teenagers.new_node(\n",
    "    name='Audio-visual entertainment',\n",
    "    code='a',\n",
    "    location='US',\n",
    "    unit='hour'\n",
    ")\n",
    "av_entertainment.save()\n",
    "entertainment.new_edge(\n",
    "    amount=0.1,\n",
    "    type='technosphere',\n",
    "    input=written_entertainment\n",
    ").save()\n",
    "entertainment.new_edge(\n",
    "    amount=0.9,\n",
    "    type='technosphere',\n",
    "    input=av_entertainment\n",
    ").save()"
   ]
  },
  {
   "cell_type": "code",
   "execution_count": 5,
   "id": "15d42398-93cd-47b3-9dde-90faf87189b9",
   "metadata": {},
   "outputs": [],
   "source": [
    "television = bd.get_node(name='Radio and television', type='product')\n",
    "movies = bd.get_node(name='Movies and film', type='product')\n",
    "books = bd.get_node(name='Books; at publisher', type='product')\n",
    "magazines = bd.get_node(name='Magazines and journals; at publisher', type='product')"
   ]
  },
  {
   "cell_type": "markdown",
   "id": "42f94168-884e-4d8d-ac69-92132b176906",
   "metadata": {},
   "source": [
    "## Create combinatorial scenario datapackage\n",
    "\n",
    "We can have two places where there are different scenarios - one which varies the price of the different entertainment options, and another which varies the balance between written and AV entertainment. To do this we will create a new combinatorial scenario datapackage. See the [`bw_processing` documentation for more on datapackages](https://github.com/brightway-lca/bw_processing)."
   ]
  },
  {
   "cell_type": "code",
   "execution_count": 6,
   "id": "c3e2ba46-d20e-4aaf-b11d-9e6a9f850a24",
   "metadata": {},
   "outputs": [],
   "source": [
    "dp = bwp.create_datapackage(\n",
    "    name=\"entertainment-options\",\n",
    "    combinatorial=True\n",
    ")"
   ]
  },
  {
   "cell_type": "markdown",
   "id": "9640565e-c536-48ec-aa24-f0a32bdbda68",
   "metadata": {},
   "source": [
    "The first scenario - changing the prices of different entertainment options."
   ]
  },
  {
   "cell_type": "code",
   "execution_count": 7,
   "id": "79d357ca-d413-4fa1-a585-8b16a9b8d05e",
   "metadata": {},
   "outputs": [],
   "source": [
    "dp.add_persistent_array(\n",
    "    matrix='technosphere_matrix',\n",
    "    name='price options',\n",
    "    indices_array=np.array([\n",
    "        (television.id, av_entertainment.id),\n",
    "        (movies.id, av_entertainment.id),\n",
    "        (books.id, written_entertainment.id),\n",
    "        (magazines.id, written_entertainment.id),\n",
    "    ], dtype=bwp.INDICES_DTYPE),\n",
    "    # Scenarios are base case, cheaper, more expensive\n",
    "    data_array=np.array([\n",
    "        [0.25, 0.1, 0.5],  # Price per hour of television\n",
    "        [10, 5, 20],  # Price per hour of movies\n",
    "        [5, 2, 10],  # Price per hour of books\n",
    "        [2.5, 1, 10],  # Price per hour of magazines\n",
    "    ]),\n",
    "    flip_array=np.array([True] * 4),  # Four technosphere input edge values to vary\n",
    ")\n",
    "first_scenario_labels = ['normal pricing', 'cheap pricing', 'expensive pricing']"
   ]
  },
  {
   "cell_type": "markdown",
   "id": "36663faa-4907-46c7-b8c5-1a8b0590f2d5",
   "metadata": {},
   "source": [
    "The next scenario is screen junkie versus bookworm."
   ]
  },
  {
   "cell_type": "code",
   "execution_count": 8,
   "id": "78687173-b68e-4536-845c-fc211a3f3fde",
   "metadata": {},
   "outputs": [],
   "source": [
    "dp.add_persistent_array(\n",
    "    matrix='technosphere_matrix',\n",
    "    name='books versus film',\n",
    "    indices_array=np.array([\n",
    "        (av_entertainment.id, entertainment.id),\n",
    "        (written_entertainment.id, entertainment.id),\n",
    "    ], dtype=bwp.INDICES_DTYPE),\n",
    "    # Scenarios are base case, cheaper, more expensive\n",
    "    data_array=np.array([\n",
    "        [0.9, 0.5],  # Fraction of entertainment hours spent on film\n",
    "        [0.1, 0.5],  # Fraction of entertainment hours spent on books\n",
    "    ]),\n",
    "    flip_array=np.array([True] * 2),  # Two technosphere input edge values to vary\n",
    ")\n",
    "second_scenario_labels = ['screen junkie', 'bookworm']"
   ]
  },
  {
   "cell_type": "code",
   "execution_count": 9,
   "id": "0a7d8df3-2ddc-4b45-b30c-80c28bccf260",
   "metadata": {},
   "outputs": [
    {
     "data": {
      "text/plain": [
       "{(0, 0): ('normal pricing', 'screen junkie'),\n",
       " (0, 1): ('normal pricing', 'bookworm'),\n",
       " (1, 0): ('cheap pricing', 'screen junkie'),\n",
       " (1, 1): ('cheap pricing', 'bookworm'),\n",
       " (2, 0): ('expensive pricing', 'screen junkie'),\n",
       " (2, 1): ('expensive pricing', 'bookworm')}"
      ]
     },
     "execution_count": 9,
     "metadata": {},
     "output_type": "execute_result"
    }
   ],
   "source": [
    "scenario_lookup = {\n",
    "    (a, c): (b, d) \n",
    "    for (a, b), (c, d) in itertools.product(\n",
    "        enumerate(first_scenario_labels), \n",
    "        enumerate(second_scenario_labels)\n",
    "    )\n",
    "}\n",
    "scenario_lookup"
   ]
  },
  {
   "cell_type": "markdown",
   "id": "927de67f-3dd9-4905-977a-8850b4efb2f0",
   "metadata": {},
   "source": [
    "## Standard calculations\n",
    "\n",
    "Let's look at the default behaviour. We need to create the LCA object; we can then iterate over it to calculate results for each scenario combination. But we first need to pick an impact category."
   ]
  },
  {
   "cell_type": "code",
   "execution_count": 10,
   "id": "355864a2-acff-4b86-a30f-e655751ac715",
   "metadata": {},
   "outputs": [],
   "source": [
    "lcia_category = bd.Method(('Resource Use', 'NREN'))"
   ]
  },
  {
   "cell_type": "code",
   "execution_count": 11,
   "id": "cf31854d-9b6b-404e-b5cb-d2925be70ee5",
   "metadata": {},
   "outputs": [],
   "source": [
    "lca = bc.LCA(\n",
    "    demand={entertainment.id: 1},\n",
    "    data_objs=[\n",
    "        useeio.datapackage(), \n",
    "        bored_teenagers.datapackage(), \n",
    "        dp, \n",
    "        lcia_category.datapackage()\n",
    "    ],\n",
    "    use_distributions=True,\n",
    "    use_arrays=True,\n",
    ")\n",
    "lca.lci()\n",
    "lca.lcia()"
   ]
  },
  {
   "cell_type": "markdown",
   "id": "f37567cc-1e25-4669-915f-d4745f1e1887",
   "metadata": {},
   "source": [
    "To get access to the combinatorial indexer is a little bit awkward. You can [read about mapped matrices](https://github.com/brightway-lca/matrix_utils), or just use the following :)"
   ]
  },
  {
   "cell_type": "code",
   "execution_count": 12,
   "id": "b5a0036b-e2bd-4022-8dab-1ca74addc07d",
   "metadata": {},
   "outputs": [],
   "source": [
    "def get_combinatorial_indexer(lca: bc.LCA) -> mu.indexers.CombinatorialIndexer:\n",
    "    \"\"\"Get the first available combinatorial indexer in the technosphere mapped matrix\"\"\"\n",
    "    for resource_group in lca.technosphere_mm.groups:\n",
    "        indexer = resource_group.indexer\n",
    "        if isinstance(indexer, mu.indexers.Proxy):\n",
    "            return indexer.indexer\n",
    "    raise ValueError(\"Still haven't found what i'm looking for\")"
   ]
  },
  {
   "cell_type": "code",
   "execution_count": 13,
   "id": "d87ffab5-2f65-46f2-b93d-29343058cf6f",
   "metadata": {},
   "outputs": [
    {
     "name": "stdout",
     "output_type": "stream",
     "text": [
      "Current value is (0, 0)\n"
     ]
    }
   ],
   "source": [
    "indexer = get_combinatorial_indexer(lca)\n",
    "print(\"Current value is\", indexer.index)"
   ]
  },
  {
   "cell_type": "markdown",
   "id": "da95868f-cd04-48a3-89da-d4fdeb18ae01",
   "metadata": {},
   "source": [
    "We can now iterate over the LCA object:"
   ]
  },
  {
   "cell_type": "code",
   "execution_count": 14,
   "id": "9d5cff26-3827-4a6f-900c-c41c73c93f6a",
   "metadata": {},
   "outputs": [
    {
     "data": {
      "text/html": [
       "<div>\n",
       "<style scoped>\n",
       "    .dataframe tbody tr th:only-of-type {\n",
       "        vertical-align: middle;\n",
       "    }\n",
       "\n",
       "    .dataframe tbody tr th {\n",
       "        vertical-align: top;\n",
       "    }\n",
       "\n",
       "    .dataframe thead th {\n",
       "        text-align: right;\n",
       "    }\n",
       "</style>\n",
       "<table border=\"1\" class=\"dataframe\">\n",
       "  <thead>\n",
       "    <tr style=\"text-align: right;\">\n",
       "      <th></th>\n",
       "      <th>first</th>\n",
       "      <th>second</th>\n",
       "      <th>score</th>\n",
       "    </tr>\n",
       "  </thead>\n",
       "  <tbody>\n",
       "    <tr>\n",
       "      <th>0</th>\n",
       "      <td>normal pricing</td>\n",
       "      <td>screen junkie</td>\n",
       "      <td>6.575572e-08</td>\n",
       "    </tr>\n",
       "    <tr>\n",
       "      <th>1</th>\n",
       "      <td>normal pricing</td>\n",
       "      <td>bookworm</td>\n",
       "      <td>5.938128e-08</td>\n",
       "    </tr>\n",
       "    <tr>\n",
       "      <th>2</th>\n",
       "      <td>cheap pricing</td>\n",
       "      <td>screen junkie</td>\n",
       "      <td>3.019357e-08</td>\n",
       "    </tr>\n",
       "    <tr>\n",
       "      <th>3</th>\n",
       "      <td>cheap pricing</td>\n",
       "      <td>bookworm</td>\n",
       "      <td>2.846311e-08</td>\n",
       "    </tr>\n",
       "    <tr>\n",
       "      <th>4</th>\n",
       "      <td>expensive pricing</td>\n",
       "      <td>screen junkie</td>\n",
       "      <td>1.205897e-07</td>\n",
       "    </tr>\n",
       "    <tr>\n",
       "      <th>5</th>\n",
       "      <td>expensive pricing</td>\n",
       "      <td>bookworm</td>\n",
       "      <td>1.534673e-07</td>\n",
       "    </tr>\n",
       "  </tbody>\n",
       "</table>\n",
       "</div>"
      ],
      "text/plain": [
       "               first         second         score\n",
       "0     normal pricing  screen junkie  6.575572e-08\n",
       "1     normal pricing       bookworm  5.938128e-08\n",
       "2      cheap pricing  screen junkie  3.019357e-08\n",
       "3      cheap pricing       bookworm  2.846311e-08\n",
       "4  expensive pricing  screen junkie  1.205897e-07\n",
       "5  expensive pricing       bookworm  1.534673e-07"
      ]
     },
     "execution_count": 14,
     "metadata": {},
     "output_type": "execute_result"
    }
   ],
   "source": [
    "# If we start iterating we go already to possibility number two\n",
    "# This keeps us at the first one for the first iteration\n",
    "lca.keep_first_iteration()\n",
    "\n",
    "pd.DataFrame([\n",
    "    {\n",
    "        'first': scenario_lookup[indexer.index][0],\n",
    "        'second': scenario_lookup[indexer.index][1],\n",
    "        'score': lca.score\n",
    "    }\n",
    "    for _ in lca\n",
    "])"
   ]
  },
  {
   "cell_type": "markdown",
   "id": "b4c0fb8d-7efc-47c5-af0d-ff00146d5c1d",
   "metadata": {},
   "source": [
    "## Multiple samples per combo\n",
    "\n",
    "The code defining the iterators is pretty simple. We have one master combinatorial iterator, and instance of [`matrix_utils.indexers.CombinatorialIndexer`](https://github.com/brightway-lca/matrix_utils/blob/007e6ed3a2103dc27592952a6897e4de6d2efaf2/matrix_utils/indexers.py#L49). For each datapackage resource, this is referenced by a [`matrix_utils.indexers.Proxy`](https://github.com/brightway-lca/matrix_utils/blob/007e6ed3a2103dc27592952a6897e4de6d2efaf2/matrix_utils/indexers.py#L63C7-L63C12) which refers to *one part* of the master indexer value. So if the master indexer state was `(2, 4)`, the first proxy would return `2`, while the second proxy would return `4`.\n",
    "\n",
    "The [`MappedMatrix` class](https://github.com/brightway-lca/matrix_utils/blob/007e6ed3a2103dc27592952a6897e4de6d2efaf2/matrix_utils/mapped_matrix.py#L14) does a lot, and we don't want to mess with it too much. So the first thing we need to do is to create a new kind of combinatorial indexer which stays at the same value for a fixed number of iterations."
   ]
  },
  {
   "cell_type": "code",
   "execution_count": 15,
   "id": "7e17832e-1c56-4bb5-9297-c633c7e2e694",
   "metadata": {},
   "outputs": [],
   "source": [
    "class RepetitiveCombinatorialIndexer(mu.indexers.CombinatorialIndexer):\n",
    "    def __init__(self, current_indexer: mu.indexers.CombinatorialIndexer, num_repetitions: int):\n",
    "        self.max_values = current_indexer.max_values\n",
    "        # Will be advanced one by `next` call\n",
    "        self.count = -1\n",
    "        self.num_repetitions = num_repetitions\n",
    "        self.reset()\n",
    "\n",
    "    def __next__(self):\n",
    "        if not hasattr(self, \"index\"):\n",
    "            # First iteration\n",
    "            self.index = next(self.slow_iterator)\n",
    "        elif self.count == self.num_repetitions - 1:\n",
    "            self.count = 0\n",
    "            self.index = next(self.slow_iterator)\n",
    "        else:\n",
    "            # self.index stays the same\n",
    "            self.count += 1\n",
    "        return self.index\n",
    "\n",
    "    def reset(self):\n",
    "        self.count = -1\n",
    "        self.slow_iterator = itertools.product(*[range(x) for x in self.max_values])\n",
    "        next(self)"
   ]
  },
  {
   "cell_type": "markdown",
   "id": "d4e2291a-c2f2-4513-ad12-7df49bc5fb22",
   "metadata": {},
   "source": [
    "It's easy to make mistakes with this kind of thing, so let's check it:"
   ]
  },
  {
   "cell_type": "code",
   "execution_count": 16,
   "id": "0eca4e44-bf28-496e-8689-2ebc8ba3a7b8",
   "metadata": {},
   "outputs": [
    {
     "name": "stdout",
     "output_type": "stream",
     "text": [
      "(0, 0)\n",
      "(0, 0)\n",
      "(0, 0)\n",
      "(0, 1)\n",
      "(0, 1)\n",
      "(0, 1)\n",
      "(1, 0)\n",
      "(1, 0)\n",
      "(1, 0)\n",
      "(1, 1)\n",
      "(1, 1)\n",
      "(1, 1)\n",
      "(2, 0)\n",
      "(2, 0)\n",
      "(2, 0)\n",
      "(2, 1)\n",
      "(2, 1)\n",
      "(2, 1)\n"
     ]
    }
   ],
   "source": [
    "indexer.reset()\n",
    "\n",
    "rci = RepetitiveCombinatorialIndexer(indexer, 3)\n",
    "\n",
    "while True:\n",
    "    try:\n",
    "        print(next(rci))\n",
    "    except StopIteration:\n",
    "        break"
   ]
  },
  {
   "cell_type": "markdown",
   "id": "2144caed-53e1-4f0f-9efa-c8f4b84ba8ca",
   "metadata": {},
   "source": [
    "That looks pretty good! That's what we want, and we don't have off by one errors (there were some on the first try).\n",
    "\n",
    "We can reuse the existing LCA, but we need to substitute this new master indexer in. We can also add new `Proxy` objects which reference our `RepetitiveCombinatorialIndexer` at the same time."
   ]
  },
  {
   "cell_type": "code",
   "execution_count": 17,
   "id": "c37abd2a-5bbb-4abf-ad0e-d65833e84e2e",
   "metadata": {},
   "outputs": [],
   "source": [
    "new_indexer = RepetitiveCombinatorialIndexer(indexer, 100)\n",
    "\n",
    "for package, resources in lca.technosphere_mm.packages.items():\n",
    "    if package.indexer is indexer:\n",
    "        package.indexer = new_indexer\n",
    "        # Stolen from \n",
    "        #https://github.com/brightway-lca/matrix_utils/blob/main/matrix_utils/mapped_matrix.py#L211C1-L212C85\n",
    "        for i, obj in enumerate(resources):\n",
    "            obj.add_combinatorial_indexer(indexer=package.indexer, offset=i)"
   ]
  },
  {
   "cell_type": "markdown",
   "id": "8226f5df-c758-4a04-a0ba-5d20d3a80fc0",
   "metadata": {},
   "source": [
    "We can now calculate results, and display them nicely:"
   ]
  },
  {
   "cell_type": "code",
   "execution_count": 18,
   "id": "756bc58a-6481-44d8-8202-02ac0a2d6fd4",
   "metadata": {},
   "outputs": [],
   "source": [
    "df = pd.DataFrame([\n",
    "    {\n",
    "        'first': scenario_lookup[new_indexer.index][0],\n",
    "        'second': scenario_lookup[new_indexer.index][1],\n",
    "        'score': lca.score\n",
    "    }\n",
    "    for _ in lca\n",
    "])"
   ]
  },
  {
   "cell_type": "code",
   "execution_count": 19,
   "id": "3d1047f9-4d57-4b9c-99c7-08d35f7eed77",
   "metadata": {},
   "outputs": [
    {
     "data": {
      "text/plain": [
       "<seaborn.axisgrid.FacetGrid at 0x7f1ac7933f80>"
      ]
     },
     "execution_count": 19,
     "metadata": {},
     "output_type": "execute_result"
    },
    {
     "data": {
      "image/png": "[encoded data removed]",
      "text/plain": [
       "<Figure size 1500x1000 with 6 Axes>"
      ]
     },
     "metadata": {},
     "output_type": "display_data"
    }
   ],
   "source": [
    "sb.set_theme(style=\"darkgrid\")\n",
    "sb.displot(\n",
    "    df, x=\"score\", col=\"first\", row=\"second\", kind='kde',\n",
    ")"
   ]
  }
 ],
 "metadata": {
  "kernelspec": {
   "display_name": "Python 3 (ipykernel)",
   "language": "python",
   "name": "python3"
  },
  "language_info": {
   "codemirror_mode": {
    "name": "ipython",
    "version": 3
   },
   "file_extension": ".py",
   "mimetype": "text/x-python",
   "name": "python",
   "nbconvert_exporter": "python",
   "pygments_lexer": "ipython3",
   "version": "3.10.14"
  }
 },
 "nbformat": 4,
 "nbformat_minor": 5
}
